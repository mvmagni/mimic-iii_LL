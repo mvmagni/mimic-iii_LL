{
 "cells": [
  {
   "cell_type": "code",
   "execution_count": 1,
   "id": "54c9e246-b79e-4b06-9e86-380f79b80b62",
   "metadata": {},
   "outputs": [
    {
     "ename": "ModuleNotFoundError",
     "evalue": "No module named 'TensorParameters'",
     "output_type": "error",
     "traceback": [
      "\u001b[0;31m---------------------------------------------------------------------------\u001b[0m",
      "\u001b[0;31mModuleNotFoundError\u001b[0m                       Traceback (most recent call last)",
      "\u001b[0;32m/tmp/ipykernel_2289104/3430169257.py\u001b[0m in \u001b[0;36m<module>\u001b[0;34m\u001b[0m\n\u001b[0;32m----> 1\u001b[0;31m \u001b[0;32mfrom\u001b[0m \u001b[0mTensorParameters\u001b[0m \u001b[0;32mimport\u001b[0m \u001b[0mTensorParms\u001b[0m\u001b[0;34m\u001b[0m\u001b[0;34m\u001b[0m\u001b[0m\n\u001b[0m\u001b[1;32m      2\u001b[0m \u001b[0;34m\u001b[0m\u001b[0m\n\u001b[1;32m      3\u001b[0m tp = TensorParms(loss='sparse_categorical_crossentropy',\n\u001b[1;32m      4\u001b[0m                  \u001b[0moptimizer\u001b[0m\u001b[0;34m=\u001b[0m\u001b[0;34m'adam'\u001b[0m\u001b[0;34m,\u001b[0m\u001b[0;34m\u001b[0m\u001b[0;34m\u001b[0m\u001b[0m\n\u001b[1;32m      5\u001b[0m                  \u001b[0mmetrics\u001b[0m\u001b[0;34m=\u001b[0m\u001b[0;34m[\u001b[0m\u001b[0;34m'accuracy'\u001b[0m\u001b[0;34m]\u001b[0m\u001b[0;34m,\u001b[0m\u001b[0;34m\u001b[0m\u001b[0;34m\u001b[0m\u001b[0m\n",
      "\u001b[0;31mModuleNotFoundError\u001b[0m: No module named 'TensorParameters'"
     ]
    }
   ],
   "source": [
    "from TensorParameters import TensorParms\n",
    "\n",
    "tp = TensorParms(loss='sparse_categorical_crossentropy',\n",
    "                 optimizer='adam',\n",
    "                 metrics=['accuracy'],\n",
    "                 validation_split=0.25,\n",
    "                 epochs=25,\n",
    "                 batch_size=32,\n",
    "                 shuffle=True,\n",
    "                 verbose=1)"
   ]
  },
  {
   "cell_type": "code",
   "execution_count": null,
   "id": "de9a98b7-afec-4f6a-ad84-9960e68f0f57",
   "metadata": {},
   "outputs": [],
   "source": [
    "# from keras.models import Sequential\n",
    "# from keras.layers import Dense, Conv1D, Flatten, MaxPooling1D\n",
    "# from sklearn.model_selection import train_test_split\n",
    "# from sklearn.metrics import confusion_matrix\n",
    "# from sklearn.datasets import load_iris\n",
    "# from numpy import unique\n",
    "\n",
    "# iris = load_iris()\n",
    "# x, y = iris.data, iris.target\n",
    "# print(x.shape)\n",
    "\n",
    "# x = x.reshape(x.shape[0], x.shape[1], 1)\n",
    "# print(x.shape)\n",
    "\n",
    "# print(unique(y))\n",
    "# print(unique(y).sum())\n",
    "\n",
    "# xtrain, xtest, ytrain, ytest=train_test_split(x, y, test_size=0.15)\n",
    "\n",
    "# model = Sequential()\n",
    "# model.add(Conv1D(64, 2, activation=\"relu\", input_shape=(4,1)))\n",
    "# model.add(Dense(16, activation=\"relu\"))\n",
    "# model.add(MaxPooling1D())\n",
    "# model.add(Flatten())\n",
    "# model.add(Dense(3, activation = 'softmax'))\n",
    "# model.compile(loss = 'sparse_categorical_crossentropy', \n",
    "#      optimizer = \"adam\",               \n",
    "#               metrics = ['accuracy'])\n",
    "# model.summary()\n",
    "# model.fit(xtrain, ytrain, batch_size=16,epochs=100, verbose=0)\n",
    "\n",
    "# acc = model.evaluate(xtrain, ytrain)\n",
    "# print(\"Loss:\", acc[0], \" Accuracy:\", acc[1])\n",
    "\n",
    "# pred = model.predict(xtest)\n",
    "# pred_y = pred.argmax(axis=-1)\n",
    "\n",
    "# cm = confusion_matrix(ytest, pred_y)\n",
    "# print(cm)"
   ]
  }
 ],
 "metadata": {
  "kernelspec": {
   "display_name": "magritte",
   "language": "python",
   "name": "magritte"
  },
  "language_info": {
   "codemirror_mode": {
    "name": "ipython",
    "version": 3
   },
   "file_extension": ".py",
   "mimetype": "text/x-python",
   "name": "python",
   "nbconvert_exporter": "python",
   "pygments_lexer": "ipython3",
   "version": "3.7.13"
  }
 },
 "nbformat": 4,
 "nbformat_minor": 5
}
