{
 "cells": [
  {
   "cell_type": "markdown",
   "id": "061a0343-63ab-4aa5-a96c-67526528ce7c",
   "metadata": {},
   "source": [
    "# Class imbalance exploration\n",
    "<p>Exploring class imbalance oversampling code for integration</p>"
   ]
  },
  {
   "cell_type": "markdown",
   "id": "c90b14bf-06b8-47eb-ab24-778202720bef",
   "metadata": {
    "id": "1QZKvJBJ7rlc",
    "tags": []
   },
   "source": [
    "# Initialize environment"
   ]
  },
  {
   "cell_type": "code",
   "execution_count": 1,
   "id": "9fb462b6-b6f1-4954-9c3e-d36e3562353e",
   "metadata": {
    "colab": {
     "base_uri": "https://localhost:8080/"
    },
    "executionInfo": {
     "elapsed": 19195,
     "status": "ok",
     "timestamp": 1639849489183,
     "user": {
      "displayName": "Michael Vasiliou",
      "photoUrl": "https://lh3.googleusercontent.com/a/default-user=s64",
      "userId": "07079983815732559270"
     },
     "user_tz": 300
    },
    "id": "jgMPxKZBzfFw",
    "outputId": "ae39cdc2-271b-4bdf-a71b-40f4a11dc389"
   },
   "outputs": [
    {
     "name": "stdout",
     "output_type": "stream",
     "text": [
      "Environment configured:\n",
      "WORKING_DIR:   /home/magni/ML_Root/project_root/mimic-iii_LL/scratchpad\n",
      "MAGRITTE_DIR:  /home/magni/ML_Root/project_root/mimic-iii_LL/scratchpad/../../magritte\n",
      "UTILITIES_DIR: /home/magni/ML_Root/project_root/mimic-iii_LL/scratchpad/../../magritte/utilities\n",
      "DATA_DIR:      /home/magni/ML_Root/project_root/mimic-iii_LL/scratchpad/../../data/mimiciii/working\n"
     ]
    }
   ],
   "source": [
    "import sys\n",
    "import os\n",
    "\n",
    "WORKING_DIR = f'{os.getcwd()}' \n",
    "MAGRITTE_DIR = f'{WORKING_DIR}/../../magritte'\n",
    "UTILITIES_DIR = f'{MAGRITTE_DIR}/utilities'\n",
    "\n",
    "DATA_DIR = f'{WORKING_DIR}/../../data/mimiciii/working'\n",
    "\n",
    "# Add the UTILITY_DIR to the path to import files\n",
    "sys.path.append(UTILITIES_DIR)\n",
    "\n",
    "\n",
    "print(f'Environment configured:')\n",
    "print(f'WORKING_DIR:   {WORKING_DIR}')\n",
    "print(f'MAGRITTE_DIR:  {MAGRITTE_DIR}')\n",
    "print(f'UTILITIES_DIR: {UTILITIES_DIR}')\n",
    "print(f'DATA_DIR:      {DATA_DIR}')\n"
   ]
  },
  {
   "cell_type": "code",
   "execution_count": 2,
   "id": "7acebed1-da05-4a5f-953b-f7a0d2f08197",
   "metadata": {},
   "outputs": [],
   "source": [
    "import pandas as pd\n",
    "import pickle\n",
    "import DataUtils"
   ]
  },
  {
   "cell_type": "markdown",
   "id": "62ec13b5-70aa-4dd9-89fa-811c7d985992",
   "metadata": {},
   "source": [
    "# Load Data"
   ]
  },
  {
   "cell_type": "code",
   "execution_count": 3,
   "id": "5a1f11cc-d448-4950-88fd-b082f52d494d",
   "metadata": {},
   "outputs": [
    {
     "name": "stdout",
     "output_type": "stream",
     "text": [
      "dataframe shape: (58328, 6)\n",
      "\n",
      "dataframe info: \n",
      "<class 'pandas.core.frame.DataFrame'>\n",
      "Int64Index: 58328 entries, 0 to 58327\n",
      "Data columns (total 6 columns):\n",
      " #   Column      Non-Null Count  Dtype  \n",
      "---  ------      --------------  -----  \n",
      " 0   HADM_ID     58328 non-null  float64\n",
      " 1   TEXT        58328 non-null  object \n",
      " 2   ROW_ID      58328 non-null  int64  \n",
      " 3   SUBJECT_ID  58328 non-null  int64  \n",
      " 4   SEQ_NUM     58328 non-null  float64\n",
      " 5   ICD9_CODE   58328 non-null  object \n",
      "dtypes: float64(2), int64(2), object(2)\n",
      "memory usage: 3.1+ MB\n",
      "None\n",
      "\n",
      "Null value count by column:\n"
     ]
    },
    {
     "data": {
      "text/plain": [
       "HADM_ID       0\n",
       "TEXT          0\n",
       "ROW_ID        0\n",
       "SUBJECT_ID    0\n",
       "SEQ_NUM       0\n",
       "ICD9_CODE     0\n",
       "dtype: int64"
      ]
     },
     "metadata": {},
     "output_type": "display_data"
    },
    {
     "name": "stdout",
     "output_type": "stream",
     "text": [
      "\n",
      "\n",
      "First 5 in dataframe\n"
     ]
    },
    {
     "data": {
      "text/html": [
       "<div>\n",
       "<style scoped>\n",
       "    .dataframe tbody tr th:only-of-type {\n",
       "        vertical-align: middle;\n",
       "    }\n",
       "\n",
       "    .dataframe tbody tr th {\n",
       "        vertical-align: top;\n",
       "    }\n",
       "\n",
       "    .dataframe thead th {\n",
       "        text-align: right;\n",
       "    }\n",
       "</style>\n",
       "<table border=\"1\" class=\"dataframe\">\n",
       "  <thead>\n",
       "    <tr style=\"text-align: right;\">\n",
       "      <th></th>\n",
       "      <th>HADM_ID</th>\n",
       "      <th>TEXT</th>\n",
       "      <th>ROW_ID</th>\n",
       "      <th>SUBJECT_ID</th>\n",
       "      <th>SEQ_NUM</th>\n",
       "      <th>ICD9_CODE</th>\n",
       "    </tr>\n",
       "  </thead>\n",
       "  <tbody>\n",
       "    <tr>\n",
       "      <th>0</th>\n",
       "      <td>100001.0</td>\n",
       "      <td>Admission Date:  [**2117-9-11**]              ...</td>\n",
       "      <td>464704</td>\n",
       "      <td>58526</td>\n",
       "      <td>1.0</td>\n",
       "      <td>25013</td>\n",
       "    </tr>\n",
       "    <tr>\n",
       "      <th>1</th>\n",
       "      <td>100003.0</td>\n",
       "      <td>Admission Date:  [**2150-4-17**]              ...</td>\n",
       "      <td>446055</td>\n",
       "      <td>54610</td>\n",
       "      <td>1.0</td>\n",
       "      <td>53100</td>\n",
       "    </tr>\n",
       "    <tr>\n",
       "      <th>2</th>\n",
       "      <td>100006.0</td>\n",
       "      <td>Admission Date:  [**2108-4-6**]       Discharg...</td>\n",
       "      <td>110907</td>\n",
       "      <td>9895</td>\n",
       "      <td>1.0</td>\n",
       "      <td>49320</td>\n",
       "    </tr>\n",
       "    <tr>\n",
       "      <th>3</th>\n",
       "      <td>100007.0</td>\n",
       "      <td>Admission Date:  [**2145-3-31**]              ...</td>\n",
       "      <td>256425</td>\n",
       "      <td>23018</td>\n",
       "      <td>1.0</td>\n",
       "      <td>56081</td>\n",
       "    </tr>\n",
       "    <tr>\n",
       "      <th>4</th>\n",
       "      <td>100009.0</td>\n",
       "      <td>Admission Date:  [**2162-5-16**]              ...</td>\n",
       "      <td>6306</td>\n",
       "      <td>533</td>\n",
       "      <td>1.0</td>\n",
       "      <td>41401</td>\n",
       "    </tr>\n",
       "  </tbody>\n",
       "</table>\n",
       "</div>"
      ],
      "text/plain": [
       "    HADM_ID                                               TEXT  ROW_ID  \\\n",
       "0  100001.0  Admission Date:  [**2117-9-11**]              ...  464704   \n",
       "1  100003.0  Admission Date:  [**2150-4-17**]              ...  446055   \n",
       "2  100006.0  Admission Date:  [**2108-4-6**]       Discharg...  110907   \n",
       "3  100007.0  Admission Date:  [**2145-3-31**]              ...  256425   \n",
       "4  100009.0  Admission Date:  [**2162-5-16**]              ...    6306   \n",
       "\n",
       "   SUBJECT_ID  SEQ_NUM ICD9_CODE  \n",
       "0       58526      1.0     25013  \n",
       "1       54610      1.0     53100  \n",
       "2        9895      1.0     49320  \n",
       "3       23018      1.0     56081  \n",
       "4         533      1.0     41401  "
      ]
     },
     "metadata": {},
     "output_type": "display_data"
    },
    {
     "name": "stdout",
     "output_type": "stream",
     "text": [
      "\n",
      "Last 5 in dataframe\n"
     ]
    },
    {
     "data": {
      "text/html": [
       "<div>\n",
       "<style scoped>\n",
       "    .dataframe tbody tr th:only-of-type {\n",
       "        vertical-align: middle;\n",
       "    }\n",
       "\n",
       "    .dataframe tbody tr th {\n",
       "        vertical-align: top;\n",
       "    }\n",
       "\n",
       "    .dataframe thead th {\n",
       "        text-align: right;\n",
       "    }\n",
       "</style>\n",
       "<table border=\"1\" class=\"dataframe\">\n",
       "  <thead>\n",
       "    <tr style=\"text-align: right;\">\n",
       "      <th></th>\n",
       "      <th>HADM_ID</th>\n",
       "      <th>TEXT</th>\n",
       "      <th>ROW_ID</th>\n",
       "      <th>SUBJECT_ID</th>\n",
       "      <th>SEQ_NUM</th>\n",
       "      <th>ICD9_CODE</th>\n",
       "    </tr>\n",
       "  </thead>\n",
       "  <tbody>\n",
       "    <tr>\n",
       "      <th>58323</th>\n",
       "      <td>199993.0</td>\n",
       "      <td>Admission Date:  [**2161-10-23**]       Discha...</td>\n",
       "      <td>232053</td>\n",
       "      <td>20785</td>\n",
       "      <td>1.0</td>\n",
       "      <td>41031</td>\n",
       "    </tr>\n",
       "    <tr>\n",
       "      <th>58324</th>\n",
       "      <td>199994.0</td>\n",
       "      <td>Admission Date:  [**2188-7-7**]       Discharg...</td>\n",
       "      <td>265424</td>\n",
       "      <td>23761</td>\n",
       "      <td>1.0</td>\n",
       "      <td>486</td>\n",
       "    </tr>\n",
       "    <tr>\n",
       "      <th>58325</th>\n",
       "      <td>199995.0</td>\n",
       "      <td>Admission Date: [**2137-12-11**]        Discha...</td>\n",
       "      <td>216925</td>\n",
       "      <td>19412</td>\n",
       "      <td>1.0</td>\n",
       "      <td>4210</td>\n",
       "    </tr>\n",
       "    <tr>\n",
       "      <th>58326</th>\n",
       "      <td>199998.0</td>\n",
       "      <td>Admission Date:  [**2119-2-18**]              ...</td>\n",
       "      <td>305582</td>\n",
       "      <td>27200</td>\n",
       "      <td>1.0</td>\n",
       "      <td>41401</td>\n",
       "    </tr>\n",
       "    <tr>\n",
       "      <th>58327</th>\n",
       "      <td>199999.0</td>\n",
       "      <td>Admission Date:  [**2136-4-4**]              D...</td>\n",
       "      <td>380657</td>\n",
       "      <td>40370</td>\n",
       "      <td>1.0</td>\n",
       "      <td>48284</td>\n",
       "    </tr>\n",
       "  </tbody>\n",
       "</table>\n",
       "</div>"
      ],
      "text/plain": [
       "        HADM_ID                                               TEXT  ROW_ID  \\\n",
       "58323  199993.0  Admission Date:  [**2161-10-23**]       Discha...  232053   \n",
       "58324  199994.0  Admission Date:  [**2188-7-7**]       Discharg...  265424   \n",
       "58325  199995.0  Admission Date: [**2137-12-11**]        Discha...  216925   \n",
       "58326  199998.0  Admission Date:  [**2119-2-18**]              ...  305582   \n",
       "58327  199999.0  Admission Date:  [**2136-4-4**]              D...  380657   \n",
       "\n",
       "       SUBJECT_ID  SEQ_NUM ICD9_CODE  \n",
       "58323       20785      1.0     41031  \n",
       "58324       23761      1.0       486  \n",
       "58325       19412      1.0      4210  \n",
       "58326       27200      1.0     41401  \n",
       "58327       40370      1.0     48284  "
      ]
     },
     "metadata": {},
     "output_type": "display_data"
    }
   ],
   "source": [
    "# Loading the IMDB Dataset\n",
    "ORIG_DF = pd.read_pickle(f'{DATA_DIR}/notes_combined.pkl.gz')\n",
    "\n",
    "from sklearn.preprocessing import LabelEncoder\n",
    "#le = LabelEncoder()\n",
    "#ORIG_DF['ICD9_CODE'] = le.fit_transform(ORIG_DF['ICD9_CODE'])\n",
    "\n",
    "# Changing target column from string to 0,1. Label encoding not yet included in framework\n",
    "#ORIG_DF['sentiment'] = np.where(ORIG_DF['sentiment']=='positive', 1, 0)\n",
    "\n",
    "DataUtils.exploreDataframe(ORIG_DF)"
   ]
  },
  {
   "cell_type": "code",
   "execution_count": 4,
   "id": "07c02148-3de9-4bac-abb9-639e01097968",
   "metadata": {},
   "outputs": [],
   "source": [
    "# Setting up variables for later usage in DataPackage\n",
    "DATA_COLUMN = 'TEXT'\n",
    "TARGET_COLUMN = 'ICD9_CODE'\n",
    "UNIQUE_COLUMN = None   # Unique index column. If None, one will be created"
   ]
  },
  {
   "cell_type": "code",
   "execution_count": 5,
   "id": "a83b6f4d-6bd0-41b6-a575-bae849c39e45",
   "metadata": {},
   "outputs": [
    {
     "name": "stdout",
     "output_type": "stream",
     "text": [
      "Data type of column [ICD9_CODE] is: object\n",
      "Total number of rows: 58328\n",
      "Unique values in column: 2769 [percent unique: 4.7%]\n",
      "Null values in column: 0\n",
      "List of unique values:\n",
      "['25013' '53100' '49320' ... '6141' '6398' '88121']\n",
      "\n",
      "Top 5 records by frequency for ICD9_CODE\n",
      "     ICD9_CODE  record_count\n",
      "833      41401          3497\n",
      "2731     V3000          3427\n",
      "2732     V3001          2695\n",
      "47        0389          2043\n",
      "822      41071          1747\n",
      "\n",
      "Bottom 5 records by frequency for ICD9_CODE\n",
      "     ICD9_CODE  record_count\n",
      "2768     V7281             1\n",
      "577      28411             1\n",
      "598      28749             1\n",
      "603      28802             1\n",
      "605      28804             1\n"
     ]
    }
   ],
   "source": [
    "# Code frequency distribution for data frame with SEPARATE notes\n",
    "topICD_codes, bottomICD_codesList = DataUtils.showUniqueColVals(ORIG_DF, colName='ICD9_CODE', showRecords=5)"
   ]
  },
  {
   "cell_type": "code",
   "execution_count": 6,
   "id": "59f1139a-ce47-444c-9a7d-43d031e2a6a0",
   "metadata": {},
   "outputs": [
    {
     "name": "stdout",
     "output_type": "stream",
     "text": [
      "Data type of column [ICD9_CODE] is: object\n",
      "Total number of rows: 13409\n",
      "Unique values in column: 5 [percent unique: 0.0%]\n",
      "Null values in column: 0\n",
      "List of unique values:\n",
      "['41401' 'V3000' 'V3001' '0389' '41071']\n",
      "\n",
      "Top 5 records by frequency for ICD9_CODE\n",
      "  ICD9_CODE  record_count\n",
      "2     41401          3497\n",
      "3     V3000          3427\n",
      "4     V3001          2695\n",
      "0      0389          2043\n",
      "1     41071          1747\n",
      "\n",
      "Bottom 5 records by frequency for ICD9_CODE\n",
      "  ICD9_CODE  record_count\n",
      "1     41071          1747\n",
      "0      0389          2043\n",
      "4     V3001          2695\n",
      "3     V3000          3427\n",
      "2     41401          3497\n"
     ]
    }
   ],
   "source": [
    "# Filter records for top 5 ICD9_CODE\n",
    "ORIG_DF_filtered = ORIG_DF.loc[ORIG_DF['ICD9_CODE'].isin(topICD_codes)]\n",
    "\n",
    "# Check results of filtering\n",
    "topICD_codes, bottomICD_codesList = DataUtils.showUniqueColVals(ORIG_DF_filtered, colName='ICD9_CODE', showRecords=5)"
   ]
  },
  {
   "cell_type": "code",
   "execution_count": 7,
   "id": "09d2a3ab-6f4d-4110-844e-a7b55c23890e",
   "metadata": {},
   "outputs": [],
   "source": [
    "import DataPackageSupport as dps"
   ]
  },
  {
   "cell_type": "code",
   "execution_count": 8,
   "id": "0d910a50-7e93-4e23-84bc-5ac2c86c73b8",
   "metadata": {},
   "outputs": [
    {
     "data": {
      "image/png": "[encoded data removed]",
      "text/plain": [
       "<Figure size 576x396 with 1 Axes>"
      ]
     },
     "metadata": {},
     "output_type": "display_data"
    }
   ],
   "source": [
    "dps.displayClassBalance(data=ORIG_DF_filtered,\n",
    "                        columnName=TARGET_COLUMN,\n",
    "                        verbose=False,\n",
    "                        showRecords=5)"
   ]
  },
  {
   "cell_type": "code",
   "execution_count": 16,
   "id": "f9366460-8161-4d76-8d5a-dc530cb18fdc",
   "metadata": {},
   "outputs": [
    {
     "name": "stdout",
     "output_type": "stream",
     "text": [
      "X.shape: (13409, 1)\n",
      "Y.shape: (13409, 1)\n"
     ]
    }
   ],
   "source": [
    "X = ORIG_DF_filtered[[DATA_COLUMN]].copy()\n",
    "print(f'X.shape: {X.shape}')\n",
    "Y = ORIG_DF_filtered[[TARGET_COLUMN]].copy()\n",
    "print(f'Y.shape: {Y.shape}')"
   ]
  },
  {
   "cell_type": "code",
   "execution_count": null,
   "id": "96e314a0-ed19-4df9-ab55-77abe7cd8545",
   "metadata": {},
   "outputs": [],
   "source": []
  },
  {
   "cell_type": "code",
   "execution_count": null,
   "id": "931e4946-1a26-4f09-bb78-fd4ea1740a9a",
   "metadata": {},
   "outputs": [],
   "source": []
  },
  {
   "cell_type": "code",
   "execution_count": null,
   "id": "57944e49-a11c-4723-bb60-70cdebd1aa0a",
   "metadata": {},
   "outputs": [],
   "source": []
  },
  {
   "cell_type": "code",
   "execution_count": 24,
   "id": "9e95a865-8759-4d0c-aa64-aa829e18a49b",
   "metadata": {},
   "outputs": [],
   "source": [
    "from imblearn.over_sampling import RandomOverSampler\n",
    "\n",
    "ros = RandomOverSampler(random_state=987)\n",
    "X_bal, Y_bal = ros.fit_resample(X, Y)\n",
    "\n",
    "print(f'X_bal.shape: {X_bal.shape}')\n",
    "print(f'Y_bal.shape: {Y_bal.shape}')\n",
    "\n",
    "X_bal.reset_index(drop=True, inplace=True)\n",
    "Y_bal.reset_index(drop=True, inplace=True)\n",
    "ORIG_DF_bal = pd.concat([X_bal, Y_bal], axis=1)\n",
    "display(ORIG_DF_bal.head())\n",
    "display(ORIG_DF_bal.info())"
   ]
  },
  {
   "cell_type": "code",
   "execution_count": 25,
   "id": "9fcc8def-b0f9-4592-9cd5-b1a18699c61e",
   "metadata": {},
   "outputs": [
    {
     "data": {
      "image/png": "[encoded data removed]",
      "text/plain": [
       "<Figure size 576x396 with 1 Axes>"
      ]
     },
     "metadata": {},
     "output_type": "display_data"
    }
   ],
   "source": [
    "dps.displayClassBalance(data=ORIG_DF_bal,\n",
    "                        columnName=TARGET_COLUMN,\n",
    "                        verbose=False,\n",
    "                        showRecords=5)"
   ]
  },
  {
   "cell_type": "code",
   "execution_count": 32,
   "id": "971040e5-9080-4764-9614-4142e3d533de",
   "metadata": {},
   "outputs": [],
   "source": [
    "from imblearn.over_sampling import RandomOverSampler\n",
    "\n",
    "def classBalanceOversample(dataFrame,\n",
    "                           columnName,\n",
    "                           random_state=987):\n",
    "    # Display the initial state\n",
    "    tDf = dataFrame.copy()\n",
    "    dps.displayClassBalance(data=tDf,\n",
    "                            columnName=columnName,\n",
    "                            verbose=True)\n",
    "\n",
    "    # Split dataset into X/Y\n",
    "    y_unbal = tDf[[columnName]].copy()\n",
    "    x_unbal = tDf.copy()\n",
    "    \n",
    "    \n",
    "    print(f'Oversampling data to match max class')\n",
    "    ros = RandomOverSampler(random_state=random_state)\n",
    "    x_bal, y_bal = ros.fit_resample(x_unbal, y_unbal)\n",
    "    \n",
    "    \n",
    "    dps.displayClassBalance(data=x_bal,\n",
    "                        columnName=columnName,\n",
    "                        verbose=True)\n",
    "\n",
    "    # Return the balanced dataset\n",
    "    return x_bal"
   ]
  },
  {
   "cell_type": "code",
   "execution_count": 33,
   "id": "b9bebcec-de37-4fba-ae64-587f6baeb39c",
   "metadata": {},
   "outputs": [
    {
     "data": {
      "image/png": "[encoded data removed]",
      "text/plain": [
       "<Figure size 576x396 with 1 Axes>"
      ]
     },
     "metadata": {},
     "output_type": "display_data"
    },
    {
     "data": {
      "text/html": [
       "<div>\n",
       "<style scoped>\n",
       "    .dataframe tbody tr th:only-of-type {\n",
       "        vertical-align: middle;\n",
       "    }\n",
       "\n",
       "    .dataframe tbody tr th {\n",
       "        vertical-align: top;\n",
       "    }\n",
       "\n",
       "    .dataframe thead th {\n",
       "        text-align: right;\n",
       "    }\n",
       "</style>\n",
       "<table border=\"1\" class=\"dataframe\">\n",
       "  <thead>\n",
       "    <tr style=\"text-align: right;\">\n",
       "      <th></th>\n",
       "      <th>ICD9_CODE</th>\n",
       "      <th>ttlCol</th>\n",
       "    </tr>\n",
       "  </thead>\n",
       "  <tbody>\n",
       "    <tr>\n",
       "      <th>0</th>\n",
       "      <td>41071</td>\n",
       "      <td>1747</td>\n",
       "    </tr>\n",
       "    <tr>\n",
       "      <th>1</th>\n",
       "      <td>0389</td>\n",
       "      <td>2043</td>\n",
       "    </tr>\n",
       "    <tr>\n",
       "      <th>2</th>\n",
       "      <td>V3001</td>\n",
       "      <td>2695</td>\n",
       "    </tr>\n",
       "    <tr>\n",
       "      <th>3</th>\n",
       "      <td>V3000</td>\n",
       "      <td>3427</td>\n",
       "    </tr>\n",
       "    <tr>\n",
       "      <th>4</th>\n",
       "      <td>41401</td>\n",
       "      <td>3497</td>\n",
       "    </tr>\n",
       "  </tbody>\n",
       "</table>\n",
       "</div>"
      ],
      "text/plain": [
       "  ICD9_CODE  ttlCol\n",
       "0     41071    1747\n",
       "1      0389    2043\n",
       "2     V3001    2695\n",
       "3     V3000    3427\n",
       "4     41401    3497"
      ]
     },
     "metadata": {},
     "output_type": "display_data"
    },
    {
     "name": "stdout",
     "output_type": "stream",
     "text": [
      "Oversampling data to match max class\n"
     ]
    },
    {
     "data": {
      "image/png": "[encoded data removed]",
      "text/plain": [
       "<Figure size 576x396 with 1 Axes>"
      ]
     },
     "metadata": {},
     "output_type": "display_data"
    },
    {
     "data": {
      "text/html": [
       "<div>\n",
       "<style scoped>\n",
       "    .dataframe tbody tr th:only-of-type {\n",
       "        vertical-align: middle;\n",
       "    }\n",
       "\n",
       "    .dataframe tbody tr th {\n",
       "        vertical-align: top;\n",
       "    }\n",
       "\n",
       "    .dataframe thead th {\n",
       "        text-align: right;\n",
       "    }\n",
       "</style>\n",
       "<table border=\"1\" class=\"dataframe\">\n",
       "  <thead>\n",
       "    <tr style=\"text-align: right;\">\n",
       "      <th></th>\n",
       "      <th>ICD9_CODE</th>\n",
       "      <th>ttlCol</th>\n",
       "    </tr>\n",
       "  </thead>\n",
       "  <tbody>\n",
       "    <tr>\n",
       "      <th>0</th>\n",
       "      <td>0389</td>\n",
       "      <td>3497</td>\n",
       "    </tr>\n",
       "    <tr>\n",
       "      <th>1</th>\n",
       "      <td>41071</td>\n",
       "      <td>3497</td>\n",
       "    </tr>\n",
       "    <tr>\n",
       "      <th>2</th>\n",
       "      <td>41401</td>\n",
       "      <td>3497</td>\n",
       "    </tr>\n",
       "    <tr>\n",
       "      <th>3</th>\n",
       "      <td>V3000</td>\n",
       "      <td>3497</td>\n",
       "    </tr>\n",
       "    <tr>\n",
       "      <th>4</th>\n",
       "      <td>V3001</td>\n",
       "      <td>3497</td>\n",
       "    </tr>\n",
       "  </tbody>\n",
       "</table>\n",
       "</div>"
      ],
      "text/plain": [
       "  ICD9_CODE  ttlCol\n",
       "0      0389    3497\n",
       "1     41071    3497\n",
       "2     41401    3497\n",
       "3     V3000    3497\n",
       "4     V3001    3497"
      ]
     },
     "metadata": {},
     "output_type": "display_data"
    }
   ],
   "source": [
    "retDF = classBalanceOversample(dataFrame=ORIG_DF_filtered,\n",
    "                               columnName=TARGET_COLUMN)"
   ]
  },
  {
   "cell_type": "code",
   "execution_count": 35,
   "id": "dfcc014a-8628-4cce-9bfc-e64b0026039f",
   "metadata": {},
   "outputs": [
    {
     "name": "stdout",
     "output_type": "stream",
     "text": [
      "<class 'pandas.core.frame.DataFrame'>\n",
      "RangeIndex: 17485 entries, 0 to 17484\n",
      "Data columns (total 6 columns):\n",
      " #   Column      Non-Null Count  Dtype  \n",
      "---  ------      --------------  -----  \n",
      " 0   HADM_ID     17485 non-null  float64\n",
      " 1   TEXT        17485 non-null  object \n",
      " 2   ROW_ID      17485 non-null  int64  \n",
      " 3   SUBJECT_ID  17485 non-null  int64  \n",
      " 4   SEQ_NUM     17485 non-null  float64\n",
      " 5   ICD9_CODE   17485 non-null  object \n",
      "dtypes: float64(2), int64(2), object(2)\n",
      "memory usage: 819.7+ KB\n",
      "None\n"
     ]
    }
   ],
   "source": [
    "print(retDF.info())"
   ]
  },
  {
   "cell_type": "markdown",
   "id": "4323b8b3-e747-4547-a589-bd0ef874584f",
   "metadata": {},
   "source": [
    "# Scratchpad"
   ]
  },
  {
   "cell_type": "code",
   "execution_count": null,
   "id": "875c8728-2289-4a7e-9e31-36da81225d49",
   "metadata": {},
   "outputs": [],
   "source": []
  },
  {
   "cell_type": "code",
   "execution_count": null,
   "id": "cf0ec0ea-a055-4779-b038-e2aa137bcb2a",
   "metadata": {},
   "outputs": [],
   "source": []
  },
  {
   "cell_type": "code",
   "execution_count": null,
   "id": "4707b335-1270-4767-94f0-ab71e10c3095",
   "metadata": {},
   "outputs": [],
   "source": []
  },
  {
   "cell_type": "code",
   "execution_count": null,
   "id": "84bf2754-0047-46cd-98fc-cb5c336d44ba",
   "metadata": {},
   "outputs": [],
   "source": []
  },
  {
   "cell_type": "code",
   "execution_count": null,
   "id": "c62179f9-66d0-487f-b530-89db384efdaa",
   "metadata": {},
   "outputs": [],
   "source": []
  },
  {
   "cell_type": "code",
   "execution_count": null,
   "id": "0804575b-6bd3-475f-9f71-ab95a90d1855",
   "metadata": {},
   "outputs": [],
   "source": []
  },
  {
   "cell_type": "code",
   "execution_count": null,
   "id": "762df8d3-9438-406e-8070-ba02b6994514",
   "metadata": {},
   "outputs": [],
   "source": []
  }
 ],
 "metadata": {
  "kernelspec": {
   "display_name": "magritte",
   "language": "python",
   "name": "magritte"
  },
  "language_info": {
   "codemirror_mode": {
    "name": "ipython",
    "version": 3
   },
   "file_extension": ".py",
   "mimetype": "text/x-python",
   "name": "python",
   "nbconvert_exporter": "python",
   "pygments_lexer": "ipython3",
   "version": "3.7.13"
  }
 },
 "nbformat": 4,
 "nbformat_minor": 5
}
