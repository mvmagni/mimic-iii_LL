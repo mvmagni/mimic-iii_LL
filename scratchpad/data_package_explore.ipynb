{
 "cells": [
  {
   "cell_type": "markdown",
   "id": "061a0343-63ab-4aa5-a96c-67526528ce7c",
   "metadata": {},
   "source": [
    "# NLPipe - Data Walkthrough\n",
    "<p>#TODO: Needs description of what this file is</p>"
   ]
  },
  {
   "cell_type": "markdown",
   "id": "c90b14bf-06b8-47eb-ab24-778202720bef",
   "metadata": {
    "id": "1QZKvJBJ7rlc",
    "tags": []
   },
   "source": [
    "# Initialize environment"
   ]
  },
  {
   "cell_type": "code",
   "execution_count": 1,
   "id": "9fb462b6-b6f1-4954-9c3e-d36e3562353e",
   "metadata": {
    "colab": {
     "base_uri": "https://localhost:8080/"
    },
    "executionInfo": {
     "elapsed": 19195,
     "status": "ok",
     "timestamp": 1639849489183,
     "user": {
      "displayName": "Michael Vasiliou",
      "photoUrl": "https://lh3.googleusercontent.com/a/default-user=s64",
      "userId": "07079983815732559270"
     },
     "user_tz": 300
    },
    "id": "jgMPxKZBzfFw",
    "outputId": "ae39cdc2-271b-4bdf-a71b-40f4a11dc389"
   },
   "outputs": [
    {
     "name": "stdout",
     "output_type": "stream",
     "text": [
      "Environment configured:\n",
      "WORKING_DIR:   /home/magni/ML_Root/project_root/mimic-iii_LL/scratchpad\n",
      "MAGRITTE_DIR:  /home/magni/ML_Root/project_root/mimic-iii_LL/scratchpad/../../magritte\n",
      "UTILITIES_DIR: /home/magni/ML_Root/project_root/mimic-iii_LL/scratchpad/../../magritte/utilities\n",
      "DATA_DIR:      /home/magni/ML_Root/project_root/mimic-iii_LL/scratchpad/../../data/mimiciii/working\n"
     ]
    }
   ],
   "source": [
    "import sys\n",
    "import os\n",
    "\n",
    "WORKING_DIR = f'{os.getcwd()}' \n",
    "MAGRITTE_DIR = f'{WORKING_DIR}/../../magritte'\n",
    "UTILITIES_DIR = f'{MAGRITTE_DIR}/utilities'\n",
    "\n",
    "DATA_DIR = f'{WORKING_DIR}/../../data/mimiciii/working'\n",
    "\n",
    "# Add the UTILITY_DIR to the path to import files\n",
    "sys.path.append(UTILITIES_DIR)\n",
    "\n",
    "\n",
    "print(f'Environment configured:')\n",
    "print(f'WORKING_DIR:   {WORKING_DIR}')\n",
    "print(f'MAGRITTE_DIR:  {MAGRITTE_DIR}')\n",
    "print(f'UTILITIES_DIR: {UTILITIES_DIR}')\n",
    "print(f'DATA_DIR:      {DATA_DIR}')\n"
   ]
  },
  {
   "cell_type": "code",
   "execution_count": 2,
   "id": "7acebed1-da05-4a5f-953b-f7a0d2f08197",
   "metadata": {},
   "outputs": [],
   "source": [
    "import pandas as pd\n",
    "import pickle\n",
    "import DataUtils"
   ]
  },
  {
   "cell_type": "markdown",
   "id": "62ec13b5-70aa-4dd9-89fa-811c7d985992",
   "metadata": {},
   "source": [
    "# Load Data"
   ]
  },
  {
   "cell_type": "code",
   "execution_count": 3,
   "id": "5a1f11cc-d448-4950-88fd-b082f52d494d",
   "metadata": {},
   "outputs": [
    {
     "name": "stdout",
     "output_type": "stream",
     "text": [
      "dataframe shape: (58328, 6)\n",
      "\n",
      "dataframe info: \n",
      "<class 'pandas.core.frame.DataFrame'>\n",
      "Int64Index: 58328 entries, 0 to 58327\n",
      "Data columns (total 6 columns):\n",
      " #   Column      Non-Null Count  Dtype  \n",
      "---  ------      --------------  -----  \n",
      " 0   HADM_ID     58328 non-null  float64\n",
      " 1   TEXT        58328 non-null  object \n",
      " 2   ROW_ID      58328 non-null  int64  \n",
      " 3   SUBJECT_ID  58328 non-null  int64  \n",
      " 4   SEQ_NUM     58328 non-null  float64\n",
      " 5   ICD9_CODE   58328 non-null  object \n",
      "dtypes: float64(2), int64(2), object(2)\n",
      "memory usage: 3.1+ MB\n",
      "None\n",
      "\n",
      "Null value count by column:\n"
     ]
    },
    {
     "data": {
      "text/plain": [
       "HADM_ID       0\n",
       "TEXT          0\n",
       "ROW_ID        0\n",
       "SUBJECT_ID    0\n",
       "SEQ_NUM       0\n",
       "ICD9_CODE     0\n",
       "dtype: int64"
      ]
     },
     "metadata": {},
     "output_type": "display_data"
    },
    {
     "name": "stdout",
     "output_type": "stream",
     "text": [
      "\n",
      "\n",
      "First 5 in dataframe\n"
     ]
    },
    {
     "data": {
      "text/html": [
       "<div>\n",
       "<style scoped>\n",
       "    .dataframe tbody tr th:only-of-type {\n",
       "        vertical-align: middle;\n",
       "    }\n",
       "\n",
       "    .dataframe tbody tr th {\n",
       "        vertical-align: top;\n",
       "    }\n",
       "\n",
       "    .dataframe thead th {\n",
       "        text-align: right;\n",
       "    }\n",
       "</style>\n",
       "<table border=\"1\" class=\"dataframe\">\n",
       "  <thead>\n",
       "    <tr style=\"text-align: right;\">\n",
       "      <th></th>\n",
       "      <th>HADM_ID</th>\n",
       "      <th>TEXT</th>\n",
       "      <th>ROW_ID</th>\n",
       "      <th>SUBJECT_ID</th>\n",
       "      <th>SEQ_NUM</th>\n",
       "      <th>ICD9_CODE</th>\n",
       "    </tr>\n",
       "  </thead>\n",
       "  <tbody>\n",
       "    <tr>\n",
       "      <th>0</th>\n",
       "      <td>100001.0</td>\n",
       "      <td>Admission Date:  [**2117-9-11**]              ...</td>\n",
       "      <td>464704</td>\n",
       "      <td>58526</td>\n",
       "      <td>1.0</td>\n",
       "      <td>25013</td>\n",
       "    </tr>\n",
       "    <tr>\n",
       "      <th>1</th>\n",
       "      <td>100003.0</td>\n",
       "      <td>Admission Date:  [**2150-4-17**]              ...</td>\n",
       "      <td>446055</td>\n",
       "      <td>54610</td>\n",
       "      <td>1.0</td>\n",
       "      <td>53100</td>\n",
       "    </tr>\n",
       "    <tr>\n",
       "      <th>2</th>\n",
       "      <td>100006.0</td>\n",
       "      <td>Admission Date:  [**2108-4-6**]       Discharg...</td>\n",
       "      <td>110907</td>\n",
       "      <td>9895</td>\n",
       "      <td>1.0</td>\n",
       "      <td>49320</td>\n",
       "    </tr>\n",
       "    <tr>\n",
       "      <th>3</th>\n",
       "      <td>100007.0</td>\n",
       "      <td>Admission Date:  [**2145-3-31**]              ...</td>\n",
       "      <td>256425</td>\n",
       "      <td>23018</td>\n",
       "      <td>1.0</td>\n",
       "      <td>56081</td>\n",
       "    </tr>\n",
       "    <tr>\n",
       "      <th>4</th>\n",
       "      <td>100009.0</td>\n",
       "      <td>Admission Date:  [**2162-5-16**]              ...</td>\n",
       "      <td>6306</td>\n",
       "      <td>533</td>\n",
       "      <td>1.0</td>\n",
       "      <td>41401</td>\n",
       "    </tr>\n",
       "  </tbody>\n",
       "</table>\n",
       "</div>"
      ],
      "text/plain": [
       "    HADM_ID                                               TEXT  ROW_ID  \\\n",
       "0  100001.0  Admission Date:  [**2117-9-11**]              ...  464704   \n",
       "1  100003.0  Admission Date:  [**2150-4-17**]              ...  446055   \n",
       "2  100006.0  Admission Date:  [**2108-4-6**]       Discharg...  110907   \n",
       "3  100007.0  Admission Date:  [**2145-3-31**]              ...  256425   \n",
       "4  100009.0  Admission Date:  [**2162-5-16**]              ...    6306   \n",
       "\n",
       "   SUBJECT_ID  SEQ_NUM ICD9_CODE  \n",
       "0       58526      1.0     25013  \n",
       "1       54610      1.0     53100  \n",
       "2        9895      1.0     49320  \n",
       "3       23018      1.0     56081  \n",
       "4         533      1.0     41401  "
      ]
     },
     "metadata": {},
     "output_type": "display_data"
    },
    {
     "name": "stdout",
     "output_type": "stream",
     "text": [
      "\n",
      "Last 5 in dataframe\n"
     ]
    },
    {
     "data": {
      "text/html": [
       "<div>\n",
       "<style scoped>\n",
       "    .dataframe tbody tr th:only-of-type {\n",
       "        vertical-align: middle;\n",
       "    }\n",
       "\n",
       "    .dataframe tbody tr th {\n",
       "        vertical-align: top;\n",
       "    }\n",
       "\n",
       "    .dataframe thead th {\n",
       "        text-align: right;\n",
       "    }\n",
       "</style>\n",
       "<table border=\"1\" class=\"dataframe\">\n",
       "  <thead>\n",
       "    <tr style=\"text-align: right;\">\n",
       "      <th></th>\n",
       "      <th>HADM_ID</th>\n",
       "      <th>TEXT</th>\n",
       "      <th>ROW_ID</th>\n",
       "      <th>SUBJECT_ID</th>\n",
       "      <th>SEQ_NUM</th>\n",
       "      <th>ICD9_CODE</th>\n",
       "    </tr>\n",
       "  </thead>\n",
       "  <tbody>\n",
       "    <tr>\n",
       "      <th>58323</th>\n",
       "      <td>199993.0</td>\n",
       "      <td>Admission Date:  [**2161-10-23**]       Discha...</td>\n",
       "      <td>232053</td>\n",
       "      <td>20785</td>\n",
       "      <td>1.0</td>\n",
       "      <td>41031</td>\n",
       "    </tr>\n",
       "    <tr>\n",
       "      <th>58324</th>\n",
       "      <td>199994.0</td>\n",
       "      <td>Admission Date:  [**2188-7-7**]       Discharg...</td>\n",
       "      <td>265424</td>\n",
       "      <td>23761</td>\n",
       "      <td>1.0</td>\n",
       "      <td>486</td>\n",
       "    </tr>\n",
       "    <tr>\n",
       "      <th>58325</th>\n",
       "      <td>199995.0</td>\n",
       "      <td>Admission Date: [**2137-12-11**]        Discha...</td>\n",
       "      <td>216925</td>\n",
       "      <td>19412</td>\n",
       "      <td>1.0</td>\n",
       "      <td>4210</td>\n",
       "    </tr>\n",
       "    <tr>\n",
       "      <th>58326</th>\n",
       "      <td>199998.0</td>\n",
       "      <td>Admission Date:  [**2119-2-18**]              ...</td>\n",
       "      <td>305582</td>\n",
       "      <td>27200</td>\n",
       "      <td>1.0</td>\n",
       "      <td>41401</td>\n",
       "    </tr>\n",
       "    <tr>\n",
       "      <th>58327</th>\n",
       "      <td>199999.0</td>\n",
       "      <td>Admission Date:  [**2136-4-4**]              D...</td>\n",
       "      <td>380657</td>\n",
       "      <td>40370</td>\n",
       "      <td>1.0</td>\n",
       "      <td>48284</td>\n",
       "    </tr>\n",
       "  </tbody>\n",
       "</table>\n",
       "</div>"
      ],
      "text/plain": [
       "        HADM_ID                                               TEXT  ROW_ID  \\\n",
       "58323  199993.0  Admission Date:  [**2161-10-23**]       Discha...  232053   \n",
       "58324  199994.0  Admission Date:  [**2188-7-7**]       Discharg...  265424   \n",
       "58325  199995.0  Admission Date: [**2137-12-11**]        Discha...  216925   \n",
       "58326  199998.0  Admission Date:  [**2119-2-18**]              ...  305582   \n",
       "58327  199999.0  Admission Date:  [**2136-4-4**]              D...  380657   \n",
       "\n",
       "       SUBJECT_ID  SEQ_NUM ICD9_CODE  \n",
       "58323       20785      1.0     41031  \n",
       "58324       23761      1.0       486  \n",
       "58325       19412      1.0      4210  \n",
       "58326       27200      1.0     41401  \n",
       "58327       40370      1.0     48284  "
      ]
     },
     "metadata": {},
     "output_type": "display_data"
    }
   ],
   "source": [
    "# Loading the IMDB Dataset\n",
    "ORIG_DF = pd.read_pickle(f'{DATA_DIR}/notes_combined.pkl.gz')\n",
    "\n",
    "from sklearn.preprocessing import LabelEncoder\n",
    "#le = LabelEncoder()\n",
    "#ORIG_DF['ICD9_CODE'] = le.fit_transform(ORIG_DF['ICD9_CODE'])\n",
    "\n",
    "# Changing target column from string to 0,1. Label encoding not yet included in framework\n",
    "#ORIG_DF['sentiment'] = np.where(ORIG_DF['sentiment']=='positive', 1, 0)\n",
    "\n",
    "DataUtils.exploreDataframe(ORIG_DF)"
   ]
  },
  {
   "cell_type": "code",
   "execution_count": 4,
   "id": "07c02148-3de9-4bac-abb9-639e01097968",
   "metadata": {},
   "outputs": [],
   "source": [
    "# Setting up variables for later usage in DataPackage\n",
    "DATA_COLUMN = 'TEXT'\n",
    "TARGET_COLUMN = 'ICD9_CODE'\n",
    "UNIQUE_COLUMN = None   # Unique index column. If None, one will be created"
   ]
  },
  {
   "cell_type": "code",
   "execution_count": 5,
   "id": "a83b6f4d-6bd0-41b6-a575-bae849c39e45",
   "metadata": {},
   "outputs": [
    {
     "name": "stdout",
     "output_type": "stream",
     "text": [
      "Data type of column [ICD9_CODE] is: object\n",
      "Total number of rows: 58328\n",
      "Unique values in column: 2769 [percent unique: 4.7%]\n",
      "Null values in column: 0\n",
      "List of unique values:\n",
      "['25013' '53100' '49320' ... '6141' '6398' '88121']\n",
      "\n",
      "Top 5 records by frequency for ICD9_CODE\n",
      "     ICD9_CODE  record_count\n",
      "833      41401          3497\n",
      "2731     V3000          3427\n",
      "2732     V3001          2695\n",
      "47        0389          2043\n",
      "822      41071          1747\n",
      "\n",
      "Bottom 5 records by frequency for ICD9_CODE\n",
      "     ICD9_CODE  record_count\n",
      "2768     V7281             1\n",
      "577      28411             1\n",
      "598      28749             1\n",
      "603      28802             1\n",
      "605      28804             1\n"
     ]
    }
   ],
   "source": [
    "# Code frequency distribution for data frame with SEPARATE notes\n",
    "topICD_codes, bottomICD_codesList = DataUtils.showUniqueColVals(ORIG_DF, colName='ICD9_CODE', showRecords=5)"
   ]
  },
  {
   "cell_type": "code",
   "execution_count": 6,
   "id": "59f1139a-ce47-444c-9a7d-43d031e2a6a0",
   "metadata": {},
   "outputs": [
    {
     "name": "stdout",
     "output_type": "stream",
     "text": [
      "Data type of column [ICD9_CODE] is: object\n",
      "Total number of rows: 13409\n",
      "Unique values in column: 5 [percent unique: 0.0%]\n",
      "Null values in column: 0\n",
      "List of unique values:\n",
      "['41401' 'V3000' 'V3001' '0389' '41071']\n",
      "\n",
      "Top 5 records by frequency for ICD9_CODE\n",
      "  ICD9_CODE  record_count\n",
      "2     41401          3497\n",
      "3     V3000          3427\n",
      "4     V3001          2695\n",
      "0      0389          2043\n",
      "1     41071          1747\n",
      "\n",
      "Bottom 5 records by frequency for ICD9_CODE\n",
      "  ICD9_CODE  record_count\n",
      "1     41071          1747\n",
      "0      0389          2043\n",
      "4     V3001          2695\n",
      "3     V3000          3427\n",
      "2     41401          3497\n"
     ]
    }
   ],
   "source": [
    "# Filter records for top 5 ICD9_CODE\n",
    "ORIG_DF_filtered = ORIG_DF.loc[ORIG_DF['ICD9_CODE'].isin(topICD_codes)]\n",
    "\n",
    "# Check results of filtering\n",
    "topICD_codes, bottomICD_codesList = DataUtils.showUniqueColVals(ORIG_DF_filtered, colName='ICD9_CODE', showRecords=5)"
   ]
  },
  {
   "cell_type": "markdown",
   "id": "cd551729-619c-4a5a-a79d-c9d0829b4d72",
   "metadata": {},
   "source": [
    "# DataPackageParams - Create the data parameters\n",
    "<p>#TODO: Needs description of what DataPackageParams is</p>"
   ]
  },
  {
   "cell_type": "code",
   "execution_count": 7,
   "id": "530013a0-b12d-4aa8-9ae2-40f727a9dbf0",
   "metadata": {},
   "outputs": [
    {
     "name": "stdout",
     "output_type": "stream",
     "text": [
      "Custom stopwords:\n",
      "['discharge', 'diagnosis', 'medications', 'medication', 'disposition', 'condition', 'instructions', 'status', 'secondary', 'changes', 'instruction', 'change', 'home', 'name', 'hospital', 'daily', 'hour', 'follow', 'care', 'time', 'day', 'week', 'with', 'disp', 'discharged', 'admitted', 'namepattern', 'none', 'chief', 'complaint', 'physical', 'exam', 'present', 'illness', 'family', 'year', 'history', 'admission', 'social', 'medical', 'allergies', 'date']\n"
     ]
    }
   ],
   "source": [
    "# Retrieve stopwords\n",
    "with open(f'{DATA_DIR}/custom_stop_words.pkl', 'rb') as f:\n",
    "   custom_stopwords = pickle.load(f)\n",
    "\n",
    "\n",
    "print(f'Custom stopwords:')\n",
    "print(custom_stopwords)\n",
    "\n",
    "\n",
    "# DataPackageParams are optional. Can do it manually or store and save the params for re-run\n",
    "from DataPackage import DataPackageParams\n",
    "myDPP = DataPackageParams(\n",
    "                   # Convert to lowercase\n",
    "                    lower=True,  # lowercase text\n",
    "    \n",
    "                    # Contractions\n",
    "                    fix_contractions = True,\n",
    "\n",
    "    \n",
    "                    # Text Cleaning Params\n",
    "                    fix_unicode=True,  # fix various unicode errors\n",
    "                    to_ascii=True,  # transliterate to closest ASCII representation\n",
    "                    no_line_breaks=True,  # fully strip line breaks as opposed to only normalizing them\n",
    "                    no_urls=True,  # replace all URLs with a special token\n",
    "                    no_emails=True,  # replace all email addresses with a special token\n",
    "                    no_phone_numbers=True,  # replace all phone numbers with a special token\n",
    "                    no_numbers=True,  # replace all numbers with a special token\n",
    "                    no_digits=True,  # replace all digits with a special token\n",
    "                    no_currency_symbols=True,  # replace all currency symbols with a special token\n",
    "                    no_punct=True,  # remove punctuations\n",
    "                    replace_with_punct=\"\",  # instead of removing punctuations you may replace them\n",
    "                    replace_with_url=\"\",\n",
    "                    replace_with_email=\"\",\n",
    "                    replace_with_phone_number=\"\",\n",
    "                    replace_with_number=\"\",\n",
    "                    replace_with_digit=\"\",\n",
    "                    replace_with_currency_symbol=\"\",\n",
    "                    lang=\"en\",  # set to 'de' for German special handling\n",
    "\n",
    "                    # Lemmatize\n",
    "                    lemmatize = True,\n",
    "    \n",
    "                    #Remove small tokens\n",
    "                    remove_small_tokens = True,\n",
    "                    min_token_size = 3, # Remove tokens up to and including this value. \n",
    "    \n",
    "                    # Remove stopwords\n",
    "                    remove_stopwords=True, # Removes stopwords\n",
    "                    stopword_language='english',\n",
    "                    custom_stopwords= custom_stopwords,    # List of custom stopwords\n",
    "    \n",
    "                    # Class Balance\n",
    "                    balance_dataset = True, # whether the dataset should be balanced or not        \n",
    "                    balance_type = 'oversample', # options [ overample | undersample ]\n",
    "                    undersample_size = None, # Can be set to an absolute value. None means undersample to smallest\n",
    "\n",
    "                    # train test split params\n",
    "                    stratifyColumn=None, # If None will be autoset to target_column in DataPackage\n",
    "                    train_size=0.8, # Can be percent or absolute number\n",
    "                    random_state=987,\n",
    "                    shuffle=True,\n",
    "\n",
    "                    # Encoding params\n",
    "                    encoding_type='TFIDF', # Currently only supports TFIDF encoding, TBA: BERT, GLOVE, Word2Vec\n",
    "                    max_features=400 # Currently only used in TFIDF\n",
    "                    )"
   ]
  },
  {
   "cell_type": "markdown",
   "id": "79e21213-9169-416f-82bf-587d32947e60",
   "metadata": {},
   "source": [
    "# Data Package - Create the data package\n",
    "<p>#TODO: Needs description of what this file is</p>"
   ]
  },
  {
   "cell_type": "code",
   "execution_count": 8,
   "id": "061d00f5-0fee-4c66-a208-b9ce44340103",
   "metadata": {},
   "outputs": [
    {
     "name": "stdout",
     "output_type": "stream",
     "text": [
      "Target column found. Label encoding target column.\n"
     ]
    },
    {
     "name": "stderr",
     "output_type": "stream",
     "text": [
      "/home/magni/ML_Root/project_root/mimic-iii_LL/scratchpad/../../magritte/utilities/DataPackageSupport.py:19: SettingWithCopyWarning: \n",
      "A value is trying to be set on a copy of a slice from a DataFrame.\n",
      "Try using .loc[row_indexer,col_indexer] = value instead\n",
      "\n",
      "See the caveats in the documentation: https://pandas.pydata.org/pandas-docs/stable/user_guide/indexing.html#returning-a-view-versus-a-copy\n",
      "  dataFrame['uuid'] = dataFrame.apply(lambda _: uuid.uuid4(), axis=1)\n"
     ]
    }
   ],
   "source": [
    "# Create the DataPackage\n",
    "from DataPackage import DataPackage\n",
    "myDP = DataPackage(original_data = ORIG_DF_filtered,\n",
    "                   data_column = DATA_COLUMN,\n",
    "                   target_column = TARGET_COLUMN,\n",
    "                   unique_column = UNIQUE_COLUMN,\n",
    "                   data_package_params = myDPP)\n"
   ]
  },
  {
   "cell_type": "code",
   "execution_count": 9,
   "id": "8858885c-57ce-48f6-b362-5263e9d37fb2",
   "metadata": {},
   "outputs": [
    {
     "name": "stdout",
     "output_type": "stream",
     "text": [
      "DataPackage summary\n",
      "Attributes:\n",
      "---> uniqueColumn: uuid\n",
      "---> dataColumn: TEXT\n",
      "---> targetColumn: ICD9_CODE\n",
      "Data:\n",
      "---> isOrigDataLoaded: True\n",
      "---> isWorkingDataLoaded: True\n",
      "---> isTrainDataLoaded: False\n",
      "---> isTestDataLoaded: False\n",
      "\n",
      "Original Data:\n",
      "---> original data shape: (13409, 7)\n",
      "Working Data:\n",
      "---> working data shape: (13409, 7)\n",
      "\n",
      "Process:\n",
      "---> isProcessed: False\n",
      "---> isCleaned: False\n",
      "---> isStopWorded: False\n",
      "---> isBalanced: False\n",
      "---> isEncoded: False\n",
      "---> isTrainTestSplit: False\n",
      "---> isImportantFeaturesApplied: False\n",
      "Processing data package with provided parameters\n",
      "Spawning 15 processes to process text\n",
      "Processes completed: [ P1 P5 P14 P10 P11 P4 P9 P8 P13 P2 P7 P3 P15 P6 P12 ]\n",
      "\n",
      "Encoding to TF-IDF with max_features=400\n",
      "Encoding completed. Feature list:\n",
      "['abdomen', 'abdominal', 'able', 'abnormality', 'action', 'active', 'acute', 'adequate', 'admitting', 'afternoon', 'airway', 'alert', 'allergy', 'also', 'amount', 'anterior', 'antibiotic', 'aorta', 'aortic', 'appears', 'appropriate', 'area', 'arterial', 'artery', 'aspirate', 'assessed', 'assessment', 'atelectasis', 'atrial', 'atrium', 'attending', 'awake', 'aware', 'baby', 'back', 'balance', 'base', 'baseline', 'bedside', 'benign', 'bilateral', 'bilaterally', 'bili', 'blood', 'bolus', 'bottle', 'bowel', 'breath', 'breathing', 'bypass', 'cabg', 'caffeine', 'call', 'called', 'cardiac', 'cath', 'catheter', 'cchr', 'cckd', 'cckg', 'cckgd', 'cckgday', 'changed', 'check', 'chest', 'chronic', 'clear', 'clinical', 'clip', 'closely', 'cmho', 'coarse', 'code', 'color', 'comfortable', 'command', 'comment', 'compared', 'comparison', 'consider', 'consistent', 'cont', 'contact', 'continue', 'continued', 'continues', 'contrast', 'control', 'coronary', 'cough', 'course', 'cpap', 'crib', 'culture', 'current', 'currently', 'data', 'decreased', 'delivery', 'detail', 'dilated', 'diminished', 'disease', 'distress', 'doctor', 'done', 'doppler', 'dose', 'drain', 'drainage', 'echo', 'edema', 'effusion', 'elevated', 'episode', 'equal', 'eval', 'evaluate', 'evaluation', 'event', 'every', 'evidence', 'examination', 'extremity', 'face', 'failure', 'feed', 'feeding', 'female', 'fentanyl', 'fever', 'final', 'finding', 'first', 'flat', 'flow', 'flowsheet', 'fluid', 'foley', 'following', 'free', 'full', 'function', 'general', 'given', 'glucose', 'goal', 'good', 'graft', 'gram', 'growth', 'hand', 'head', 'heart', 'held', 'heme', 'heparin', 'high', 'however', 'hypertension', 'hypotension', 'impression', 'improved', 'increase', 'increased', 'indication', 'infant', 'infection', 'infusion', 'initial', 'initially', 'insulin', 'intact', 'interval', 'intubated', 'isolette', 'keep', 'known', 'large', 'lasix', 'last', 'lastname', 'leaflet', 'left', 'level', 'life', 'likely', 'line', 'lobe', 'location', 'loop', 'lopressor', 'lower', 'lung', 'lytes', 'made', 'male', 'management', 'mass', 'meeting', 'meql', 'mgdl', 'mild', 'mildly', 'minimal', 'minute', 'mitral', 'mmhg', 'moderate', 'monitor', 'monitoring', 'month', 'morning', 'mother', 'motion', 'multiple', 'murmur', 'nasal', 'need', 'needed', 'negative', 'neonatology', 'neuro', 'next', 'nicu', 'night', 'normal', 'note', 'noted', 'number', 'nursing', 'nutrition', 'obtained', 'open', 'oral', 'ordered', 'output', 'overnight', 'pacifier', 'pain', 'parent', 'past', 'patent', 'patient', 'peep', 'pending', 'performed', 'perfused', 'picc', 'pink', 'place', 'placed', 'placement', 'plan', 'please', 'pleural', 'pneumonia', 'pneumothorax', 'portable', 'position', 'positive', 'possible', 'post', 'pressure', 'previous', 'prior', 'procedure', 'progress', 'prophylaxis', 'pulmonary', 'pulse', 'question', 'radiology', 'rate', 'reason', 'received', 'recent', 'refill', 'regular', 'regurgitation', 'remain', 'remains', 'removed', 'renal', 'repeat', 'report', 'requiring', 'resolved', 'resp', 'respiratory', 'response', 'result', 'retraction', 'review', 'rhythm', 'right', 'room', 'round', 'secretion', 'seen', 'sent', 'sepsis', 'service', 'setting', 'severe', 'shift', 'showed', 'sign', 'significant', 'since', 'sinus', 'site', 'size', 'skin', 'sleep', 'slightly', 'small', 'sodium', 'soft', 'sound', 'spell', 'spit', 'spontaneous', 'sputum', 'stable', 'start', 'started', 'stenosis', 'still', 'stitle', 'stool', 'stooling', 'stress', 'study', 'suck', 'suctioned', 'support', 'surgery', 'swaddled', 'system', 'systolic', 'tablet', 'taking', 'team', 'telephonefax', 'temp', 'test', 'thick', 'thickened', 'throughout', 'thus', 'tmax', 'today', 'tolerated', 'tolerating', 'tomorrow', 'tone', 'tonight', 'total', 'tracing', 'transfer', 'transferred', 'tube', 'type', 'ulcer', 'unable', 'unchanged', 'unit', 'unknown', 'update', 'updated', 'upper', 'urine', 'valve', 'vancomycin', 'vein', 'vent', 'ventilation', 'ventricle', 'ventricular', 'visit', 'vital', 'voiding', 'volume', 'wall', 'warm', 'wave', 'wean', 'weaned', 'weight', 'well', 'white', 'wire', 'within', 'without', 'woman', 'would', 'wound', 'yellow', 'yesterday']\n",
      "\n",
      "Calling train_test_split with shuffle: True\n",
      "Completed train/test split (train_size = 0.8):\n",
      "---> Original data size: 13409\n",
      "---> Training data size: 10727\n",
      "---> Testing data size: 2682\n",
      "---> Stratified on column: ICD9_CODE\n",
      "Data has been train/test split\n",
      "Oversampling for class balance will occur on the training datset only\n"
     ]
    },
    {
     "data": {
      "image/png": "[encoded data removed]",
      "text/plain": [
       "<Figure size 576x396 with 1 Axes>"
      ]
     },
     "metadata": {},
     "output_type": "display_data"
    },
    {
     "data": {
      "text/html": [
       "<div>\n",
       "<style scoped>\n",
       "    .dataframe tbody tr th:only-of-type {\n",
       "        vertical-align: middle;\n",
       "    }\n",
       "\n",
       "    .dataframe tbody tr th {\n",
       "        vertical-align: top;\n",
       "    }\n",
       "\n",
       "    .dataframe thead th {\n",
       "        text-align: right;\n",
       "    }\n",
       "</style>\n",
       "<table border=\"1\" class=\"dataframe\">\n",
       "  <thead>\n",
       "    <tr style=\"text-align: right;\">\n",
       "      <th></th>\n",
       "      <th>ICD9_CODE</th>\n",
       "      <th>ttlCol</th>\n",
       "    </tr>\n",
       "  </thead>\n",
       "  <tbody>\n",
       "    <tr>\n",
       "      <th>0</th>\n",
       "      <td>1</td>\n",
       "      <td>1398</td>\n",
       "    </tr>\n",
       "    <tr>\n",
       "      <th>1</th>\n",
       "      <td>0</td>\n",
       "      <td>1634</td>\n",
       "    </tr>\n",
       "    <tr>\n",
       "      <th>2</th>\n",
       "      <td>4</td>\n",
       "      <td>2156</td>\n",
       "    </tr>\n",
       "    <tr>\n",
       "      <th>3</th>\n",
       "      <td>3</td>\n",
       "      <td>2742</td>\n",
       "    </tr>\n",
       "    <tr>\n",
       "      <th>4</th>\n",
       "      <td>2</td>\n",
       "      <td>2797</td>\n",
       "    </tr>\n",
       "  </tbody>\n",
       "</table>\n",
       "</div>"
      ],
      "text/plain": [
       "   ICD9_CODE  ttlCol\n",
       "0          1    1398\n",
       "1          0    1634\n",
       "2          4    2156\n",
       "3          3    2742\n",
       "4          2    2797"
      ]
     },
     "metadata": {},
     "output_type": "display_data"
    },
    {
     "name": "stdout",
     "output_type": "stream",
     "text": [
      "Oversampling data to match max class\n"
     ]
    },
    {
     "data": {
      "image/png": "[encoded data removed]",
      "text/plain": [
       "<Figure size 576x396 with 1 Axes>"
      ]
     },
     "metadata": {},
     "output_type": "display_data"
    },
    {
     "data": {
      "text/html": [
       "<div>\n",
       "<style scoped>\n",
       "    .dataframe tbody tr th:only-of-type {\n",
       "        vertical-align: middle;\n",
       "    }\n",
       "\n",
       "    .dataframe tbody tr th {\n",
       "        vertical-align: top;\n",
       "    }\n",
       "\n",
       "    .dataframe thead th {\n",
       "        text-align: right;\n",
       "    }\n",
       "</style>\n",
       "<table border=\"1\" class=\"dataframe\">\n",
       "  <thead>\n",
       "    <tr style=\"text-align: right;\">\n",
       "      <th></th>\n",
       "      <th>ICD9_CODE</th>\n",
       "      <th>ttlCol</th>\n",
       "    </tr>\n",
       "  </thead>\n",
       "  <tbody>\n",
       "    <tr>\n",
       "      <th>0</th>\n",
       "      <td>0</td>\n",
       "      <td>2797</td>\n",
       "    </tr>\n",
       "    <tr>\n",
       "      <th>1</th>\n",
       "      <td>1</td>\n",
       "      <td>2797</td>\n",
       "    </tr>\n",
       "    <tr>\n",
       "      <th>2</th>\n",
       "      <td>2</td>\n",
       "      <td>2797</td>\n",
       "    </tr>\n",
       "    <tr>\n",
       "      <th>3</th>\n",
       "      <td>3</td>\n",
       "      <td>2797</td>\n",
       "    </tr>\n",
       "    <tr>\n",
       "      <th>4</th>\n",
       "      <td>4</td>\n",
       "      <td>2797</td>\n",
       "    </tr>\n",
       "  </tbody>\n",
       "</table>\n",
       "</div>"
      ],
      "text/plain": [
       "   ICD9_CODE  ttlCol\n",
       "0          0    2797\n",
       "1          1    2797\n",
       "2          2    2797\n",
       "3          3    2797\n",
       "4          4    2797"
      ]
     },
     "metadata": {},
     "output_type": "display_data"
    },
    {
     "name": "stdout",
     "output_type": "stream",
     "text": [
      "\n",
      "Processing data package has been completed\n",
      "\n",
      "DataPackage summary\n",
      "Attributes:\n",
      "---> uniqueColumn: uuid\n",
      "---> dataColumn: TEXT\n",
      "---> targetColumn: ICD9_CODE\n",
      "Data:\n",
      "---> isOrigDataLoaded: True\n",
      "---> isWorkingDataLoaded: True\n",
      "---> isTrainDataLoaded: True\n",
      "---> isTestDataLoaded: True\n",
      "\n",
      "Original Data:\n",
      "---> original data shape: (13409, 7)\n",
      "Working Data:\n",
      "---> working data shape: (13409, 402)\n",
      "\n",
      "Process:\n",
      "---> isProcessed: True\n",
      "---> isCleaned: True\n",
      "---> isStopWorded: True\n",
      "---> isBalanced: True\n",
      "---> isEncoded: True\n",
      "---> isTrainTestSplit: True\n",
      "---> isImportantFeaturesApplied: False\n"
     ]
    }
   ],
   "source": [
    "myDP.processDataPackage(num_cores=15)"
   ]
  },
  {
   "cell_type": "markdown",
   "id": "4323b8b3-e747-4547-a589-bd0ef874584f",
   "metadata": {},
   "source": [
    "# Scratchpad"
   ]
  },
  {
   "cell_type": "code",
   "execution_count": null,
   "id": "875c8728-2289-4a7e-9e31-36da81225d49",
   "metadata": {},
   "outputs": [],
   "source": []
  },
  {
   "cell_type": "code",
   "execution_count": null,
   "id": "cf0ec0ea-a055-4779-b038-e2aa137bcb2a",
   "metadata": {},
   "outputs": [],
   "source": []
  },
  {
   "cell_type": "code",
   "execution_count": null,
   "id": "4707b335-1270-4767-94f0-ab71e10c3095",
   "metadata": {},
   "outputs": [],
   "source": []
  },
  {
   "cell_type": "code",
   "execution_count": null,
   "id": "84bf2754-0047-46cd-98fc-cb5c336d44ba",
   "metadata": {},
   "outputs": [],
   "source": []
  },
  {
   "cell_type": "code",
   "execution_count": null,
   "id": "c62179f9-66d0-487f-b530-89db384efdaa",
   "metadata": {},
   "outputs": [],
   "source": []
  },
  {
   "cell_type": "code",
   "execution_count": null,
   "id": "0804575b-6bd3-475f-9f71-ab95a90d1855",
   "metadata": {},
   "outputs": [],
   "source": []
  },
  {
   "cell_type": "code",
   "execution_count": null,
   "id": "762df8d3-9438-406e-8070-ba02b6994514",
   "metadata": {},
   "outputs": [],
   "source": []
  }
 ],
 "metadata": {
  "kernelspec": {
   "display_name": "magritte",
   "language": "python",
   "name": "magritte"
  },
  "language_info": {
   "codemirror_mode": {
    "name": "ipython",
    "version": 3
   },
   "file_extension": ".py",
   "mimetype": "text/x-python",
   "name": "python",
   "nbconvert_exporter": "python",
   "pygments_lexer": "ipython3",
   "version": "3.7.13"
  }
 },
 "nbformat": 4,
 "nbformat_minor": 5
}
