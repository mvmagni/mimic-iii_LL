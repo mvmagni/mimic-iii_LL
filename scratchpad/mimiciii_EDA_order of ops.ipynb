{
 "cells": [
  {
   "cell_type": "markdown",
   "id": "203bd08b-d308-4088-98e2-2a3a1084bafb",
   "metadata": {
    "tags": []
   },
   "source": [
    "\n",
    "# MIMIC-III EDA and prep\n",
    "\n",
    "Cleaning and prep of diagnostic notes and related data from MIMIC-III dataset\n",
    "\n",
    "Dataset location:\n",
    "\n",
    "    wget -r -N -c -np --user [username] --ask-password https://physionet.org/files/mimiciii/1.4/"
   ]
  },
  {
   "cell_type": "markdown",
   "id": "616ab917-44c8-44e4-9bd7-13e68838b69f",
   "metadata": {
    "tags": []
   },
   "source": [
    "## Steps\n",
    "\n",
    "1. Import data\n",
    "    * NOTEEVENTS.csv\n",
    "    * DIAGNOSIS_ICD.csv\n",
    "2. DIAGNOSIS_ICD prep\n",
    "    * Action: Take first record over HADM_ID where SEQ_NUM==1 which contains the primary diagnoses. \n",
    "    * Data check: SEQ_NUM == 1 for all records, no nulls\n",
    "    * Data check: HADM_ID should be unique across all records, no nulls\n",
    "3. NOTEEVENTS prep\n",
    "    * Action: Trim to only include HADM_ID and TEXT columns\n",
    "    * Action: Drop null rows 231,836 NULL values in HADM_ID\n",
    "    * Data check: TEXT has no null values\n",
    "    * Data check: HADM_ID has no null values\n",
    "4. Combine TEXT in NOTEEVENTS for all HADM_ID\n",
    "    * Action: create new dataframe with unique HADM_ID where all TEXT values combined\n",
    "    * Data check: ensure combined frame has higher text length values (e.g. mean, max, stdev)\n",
    "    * Data check: combined TEXT has no null values\n",
    "    * Data check: unique HADM_ID across all records\n",
    "    * Data check: HADM_ID has no null values\n",
    "5. Output 1: Create dataframe where TEXT is not joined but has ICD9 Code for SEQ==1\n",
    "    * Data check: check that HADM_ID values all exist in both NOTES and DIAGNOSES before merge\n",
    "    * Action: Merge NOTES and DIAGNOSES (with uncombined TEXT) \n",
    "    * Data check: only common HADM_ID should remain after merge\n",
    "    * Data check: TEXT has no null values\n",
    "    * Data check: ICD9_CODE has no null values\n",
    "    * Data check: SEQ_NUM == 1 for all records \n",
    "    * Persist dataframe\n",
    "6. Output 2: Create dataframe where TEXT is not joined but has ICD9 Code for SEQ==1\n",
    "    * Data check: check that HADM_ID values all exist in both NOTES and DIAGNOSES before merge\n",
    "    * Action: Merge NOTES and DIAGNOSES (with uncombined TEXT) \n",
    "    * Data check: only common HADM_ID should remain after merge\n",
    "    * Data check: TEXT has no null values\n",
    "    * Data check: ICD9_CODE has no null values\n",
    "    * Data check: SEQ_NUM == 1 for all records \n",
    "    * Persist dataframe\n",
    "7. Explore ICD9_CODE frequency in combined and separate NOTES data sets\n",
    "8. Persist custom set of stopwords for later use"
   ]
  },
  {
   "cell_type": "markdown",
   "id": "2f1d9624-8f40-4e12-a09f-bfdf20e4f45b",
   "metadata": {
    "id": "1QZKvJBJ7rlc",
    "tags": []
   },
   "source": [
    "\n",
    "# Initialize environment    "
   ]
  },
  {
   "cell_type": "code",
   "execution_count": 1,
   "id": "9fb462b6-b6f1-4954-9c3e-d36e3562353e",
   "metadata": {
    "colab": {
     "base_uri": "https://localhost:8080/"
    },
    "executionInfo": {
     "elapsed": 19195,
     "status": "ok",
     "timestamp": 1639849489183,
     "user": {
      "displayName": "Michael Vasiliou",
      "photoUrl": "https://lh3.googleusercontent.com/a/default-user=s64",
      "userId": "07079983815732559270"
     },
     "user_tz": 300
    },
    "id": "jgMPxKZBzfFw",
    "outputId": "ae39cdc2-271b-4bdf-a71b-40f4a11dc389"
   },
   "outputs": [],
   "source": [
    "import sys\n",
    "import os\n",
    "\n",
    "WORKING_DIR = f'{os.getcwd()}'\n",
    "\n",
    "# Magritte has the utility functions we will be using\n",
    "# Set MAGRITTE_DIR to where you checked out the github repo\n",
    "MAGRITTE_DIR = f'{WORKING_DIR}/../../magritte'\n",
    "UTILITIES_DIR = f'{MAGRITTE_DIR}/utilities'\n",
    "\n",
    "# Directory for loading and storing files\n",
    "DATA_DIR = f'{WORKING_DIR}/../../data/mimiciii'\n",
    "\n",
    "# Add the UTILITY_DIR to the path to import files\n",
    "sys.path.append(UTILITIES_DIR)"
   ]
  },
  {
   "cell_type": "code",
   "execution_count": 2,
   "id": "7acebed1-da05-4a5f-953b-f7a0d2f08197",
   "metadata": {},
   "outputs": [],
   "source": [
    "import pandas as pd\n",
    "import DataUtils\n",
    "import pickle"
   ]
  },
  {
   "cell_type": "markdown",
   "id": "182716fd-c93a-4957-9723-d22b0be9ab28",
   "metadata": {
    "tags": []
   },
   "source": [
    "# Load Data (MIMIC-III Dataset)"
   ]
  },
  {
   "cell_type": "code",
   "execution_count": 3,
   "id": "e6cbae24-83ae-47b7-95e5-1a11e1a8742d",
   "metadata": {},
   "outputs": [
    {
     "name": "stdout",
     "output_type": "stream",
     "text": [
      "CPU times: user 151 ms, sys: 17 ms, total: 168 ms\n",
      "Wall time: 170 ms\n"
     ]
    }
   ],
   "source": [
    "%%time\n",
    "# Loading three tables from MIMIC-III\n",
    "# 1) DIAGNOSES_ICD.csv.gz\n",
    "# 2) NOTEEVENTS.csv.gz\n",
    "\n",
    "DIAGNOSIS_ICD_DF = pd.read_csv(f'{DATA_DIR}/DIAGNOSES_ICD.csv.gz',\n",
    "                              compression='gzip'\n",
    "                             )\n"
   ]
  },
  {
   "cell_type": "markdown",
   "id": "a53cbf67-8a3f-43b8-b305-74da04494fd3",
   "metadata": {
    "jp-MarkdownHeadingCollapsed": true,
    "tags": []
   },
   "source": [
    "## DIAGNOSES_ICD summary"
   ]
  },
  {
   "cell_type": "code",
   "execution_count": 4,
   "id": "accc4e64-2f01-439b-ae08-3153aba7e813",
   "metadata": {},
   "outputs": [
    {
     "name": "stdout",
     "output_type": "stream",
     "text": [
      "dataframe shape: (651047, 5)\n",
      "\n",
      "dataframe info: \n",
      "<class 'pandas.core.frame.DataFrame'>\n",
      "RangeIndex: 651047 entries, 0 to 651046\n",
      "Data columns (total 5 columns):\n",
      " #   Column      Non-Null Count   Dtype  \n",
      "---  ------      --------------   -----  \n",
      " 0   ROW_ID      651047 non-null  int64  \n",
      " 1   SUBJECT_ID  651047 non-null  int64  \n",
      " 2   HADM_ID     651047 non-null  int64  \n",
      " 3   SEQ_NUM     651000 non-null  float64\n",
      " 4   ICD9_CODE   651000 non-null  object \n",
      "dtypes: float64(1), int64(3), object(1)\n",
      "memory usage: 24.8+ MB\n",
      "None\n",
      "\n",
      "Null value count by column:\n"
     ]
    },
    {
     "data": {
      "text/plain": [
       "ROW_ID         0\n",
       "SUBJECT_ID     0\n",
       "HADM_ID        0\n",
       "SEQ_NUM       47\n",
       "ICD9_CODE     47\n",
       "dtype: int64"
      ]
     },
     "metadata": {},
     "output_type": "display_data"
    },
    {
     "name": "stdout",
     "output_type": "stream",
     "text": [
      "\n",
      "\n",
      "First 5 in dataframe\n"
     ]
    },
    {
     "data": {
      "text/html": [
       "<div>\n",
       "<style scoped>\n",
       "    .dataframe tbody tr th:only-of-type {\n",
       "        vertical-align: middle;\n",
       "    }\n",
       "\n",
       "    .dataframe tbody tr th {\n",
       "        vertical-align: top;\n",
       "    }\n",
       "\n",
       "    .dataframe thead th {\n",
       "        text-align: right;\n",
       "    }\n",
       "</style>\n",
       "<table border=\"1\" class=\"dataframe\">\n",
       "  <thead>\n",
       "    <tr style=\"text-align: right;\">\n",
       "      <th></th>\n",
       "      <th>ROW_ID</th>\n",
       "      <th>SUBJECT_ID</th>\n",
       "      <th>HADM_ID</th>\n",
       "      <th>SEQ_NUM</th>\n",
       "      <th>ICD9_CODE</th>\n",
       "    </tr>\n",
       "  </thead>\n",
       "  <tbody>\n",
       "    <tr>\n",
       "      <th>0</th>\n",
       "      <td>1297</td>\n",
       "      <td>109</td>\n",
       "      <td>172335</td>\n",
       "      <td>1.0</td>\n",
       "      <td>40301</td>\n",
       "    </tr>\n",
       "    <tr>\n",
       "      <th>1</th>\n",
       "      <td>1298</td>\n",
       "      <td>109</td>\n",
       "      <td>172335</td>\n",
       "      <td>2.0</td>\n",
       "      <td>486</td>\n",
       "    </tr>\n",
       "    <tr>\n",
       "      <th>2</th>\n",
       "      <td>1299</td>\n",
       "      <td>109</td>\n",
       "      <td>172335</td>\n",
       "      <td>3.0</td>\n",
       "      <td>58281</td>\n",
       "    </tr>\n",
       "    <tr>\n",
       "      <th>3</th>\n",
       "      <td>1300</td>\n",
       "      <td>109</td>\n",
       "      <td>172335</td>\n",
       "      <td>4.0</td>\n",
       "      <td>5855</td>\n",
       "    </tr>\n",
       "    <tr>\n",
       "      <th>4</th>\n",
       "      <td>1301</td>\n",
       "      <td>109</td>\n",
       "      <td>172335</td>\n",
       "      <td>5.0</td>\n",
       "      <td>4254</td>\n",
       "    </tr>\n",
       "  </tbody>\n",
       "</table>\n",
       "</div>"
      ],
      "text/plain": [
       "   ROW_ID  SUBJECT_ID  HADM_ID  SEQ_NUM ICD9_CODE\n",
       "0    1297         109   172335      1.0     40301\n",
       "1    1298         109   172335      2.0       486\n",
       "2    1299         109   172335      3.0     58281\n",
       "3    1300         109   172335      4.0      5855\n",
       "4    1301         109   172335      5.0      4254"
      ]
     },
     "metadata": {},
     "output_type": "display_data"
    },
    {
     "name": "stdout",
     "output_type": "stream",
     "text": [
      "\n",
      "Last 5 in dataframe\n"
     ]
    },
    {
     "data": {
      "text/html": [
       "<div>\n",
       "<style scoped>\n",
       "    .dataframe tbody tr th:only-of-type {\n",
       "        vertical-align: middle;\n",
       "    }\n",
       "\n",
       "    .dataframe tbody tr th {\n",
       "        vertical-align: top;\n",
       "    }\n",
       "\n",
       "    .dataframe thead th {\n",
       "        text-align: right;\n",
       "    }\n",
       "</style>\n",
       "<table border=\"1\" class=\"dataframe\">\n",
       "  <thead>\n",
       "    <tr style=\"text-align: right;\">\n",
       "      <th></th>\n",
       "      <th>ROW_ID</th>\n",
       "      <th>SUBJECT_ID</th>\n",
       "      <th>HADM_ID</th>\n",
       "      <th>SEQ_NUM</th>\n",
       "      <th>ICD9_CODE</th>\n",
       "    </tr>\n",
       "  </thead>\n",
       "  <tbody>\n",
       "    <tr>\n",
       "      <th>651042</th>\n",
       "      <td>639798</td>\n",
       "      <td>97503</td>\n",
       "      <td>188195</td>\n",
       "      <td>2.0</td>\n",
       "      <td>20280</td>\n",
       "    </tr>\n",
       "    <tr>\n",
       "      <th>651043</th>\n",
       "      <td>639799</td>\n",
       "      <td>97503</td>\n",
       "      <td>188195</td>\n",
       "      <td>3.0</td>\n",
       "      <td>V5869</td>\n",
       "    </tr>\n",
       "    <tr>\n",
       "      <th>651044</th>\n",
       "      <td>639800</td>\n",
       "      <td>97503</td>\n",
       "      <td>188195</td>\n",
       "      <td>4.0</td>\n",
       "      <td>V1279</td>\n",
       "    </tr>\n",
       "    <tr>\n",
       "      <th>651045</th>\n",
       "      <td>639801</td>\n",
       "      <td>97503</td>\n",
       "      <td>188195</td>\n",
       "      <td>5.0</td>\n",
       "      <td>5275</td>\n",
       "    </tr>\n",
       "    <tr>\n",
       "      <th>651046</th>\n",
       "      <td>639802</td>\n",
       "      <td>97503</td>\n",
       "      <td>188195</td>\n",
       "      <td>6.0</td>\n",
       "      <td>5569</td>\n",
       "    </tr>\n",
       "  </tbody>\n",
       "</table>\n",
       "</div>"
      ],
      "text/plain": [
       "        ROW_ID  SUBJECT_ID  HADM_ID  SEQ_NUM ICD9_CODE\n",
       "651042  639798       97503   188195      2.0     20280\n",
       "651043  639799       97503   188195      3.0     V5869\n",
       "651044  639800       97503   188195      4.0     V1279\n",
       "651045  639801       97503   188195      5.0      5275\n",
       "651046  639802       97503   188195      6.0      5569"
      ]
     },
     "metadata": {},
     "output_type": "display_data"
    }
   ],
   "source": [
    "DataUtils.exploreDataframe(DIAGNOSIS_ICD_DF)"
   ]
  },
  {
   "cell_type": "code",
   "execution_count": 5,
   "id": "1d3d2f06-abab-462e-bd3d-3c9841bfb4c4",
   "metadata": {},
   "outputs": [
    {
     "name": "stdout",
     "output_type": "stream",
     "text": [
      "Data type of column [ICD9_CODE] is: object\n",
      "Total number of rows: 651047\n",
      "Unique values in column: 6985 [percent unique: 1.0999999999999999%]\n",
      "Null values in column: 47\n",
      "List of unique values:\n",
      "['40301' '486' '58281' ... 'E0070' '6940' '20930']\n",
      "\n",
      "Top 5 records by frequency for ICD9_CODE\n",
      "     ICD9_CODE  record_count\n",
      "1962      4019         20703\n",
      "2109      4280         13111\n",
      "2098     42731         12891\n",
      "2019     41401         12429\n",
      "2957      5849          9119\n",
      "\n",
      "Bottom 5 records by frequency for ICD9_CODE\n",
      "     ICD9_CODE  record_count\n",
      "6983     V9103             1\n",
      "6854      V562             1\n",
      "1336      3060             1\n",
      "202      07953             1\n",
      "1338      3062             1\n"
     ]
    },
    {
     "data": {
      "text/plain": [
       "(['4019', '4280', '42731', '41401', '5849'],\n",
       " ['V9103', 'V562', '3060', '07953', '3062'])"
      ]
     },
     "execution_count": 5,
     "metadata": {},
     "output_type": "execute_result"
    }
   ],
   "source": [
    "DataUtils.showUniqueColVals(DIAGNOSIS_ICD_DF, 'ICD9_CODE')"
   ]
  },
  {
   "cell_type": "markdown",
   "id": "afc1687c-7350-4e19-9b19-f5a09a676f42",
   "metadata": {
    "jp-MarkdownHeadingCollapsed": true,
    "tags": []
   },
   "source": [
    "\n",
    "# DIAGNOSES_ICD explore and prep"
   ]
  },
  {
   "cell_type": "code",
   "execution_count": 6,
   "id": "6c000cd8-e72c-48ac-b83f-9c4ac99ec4e7",
   "metadata": {},
   "outputs": [
    {
     "name": "stdout",
     "output_type": "stream",
     "text": [
      "dataframe shape: (651047, 5)\n",
      "\n",
      "dataframe info: \n",
      "<class 'pandas.core.frame.DataFrame'>\n",
      "RangeIndex: 651047 entries, 0 to 651046\n",
      "Data columns (total 5 columns):\n",
      " #   Column      Non-Null Count   Dtype  \n",
      "---  ------      --------------   -----  \n",
      " 0   ROW_ID      651047 non-null  int64  \n",
      " 1   SUBJECT_ID  651047 non-null  int64  \n",
      " 2   HADM_ID     651047 non-null  int64  \n",
      " 3   SEQ_NUM     651000 non-null  float64\n",
      " 4   ICD9_CODE   651000 non-null  object \n",
      "dtypes: float64(1), int64(3), object(1)\n",
      "memory usage: 24.8+ MB\n",
      "None\n",
      "\n",
      "Null value count by column:\n"
     ]
    },
    {
     "data": {
      "text/plain": [
       "ROW_ID         0\n",
       "SUBJECT_ID     0\n",
       "HADM_ID        0\n",
       "SEQ_NUM       47\n",
       "ICD9_CODE     47\n",
       "dtype: int64"
      ]
     },
     "metadata": {},
     "output_type": "display_data"
    },
    {
     "name": "stdout",
     "output_type": "stream",
     "text": [
      "\n",
      "\n",
      "First 5 in dataframe\n"
     ]
    },
    {
     "data": {
      "text/html": [
       "<div>\n",
       "<style scoped>\n",
       "    .dataframe tbody tr th:only-of-type {\n",
       "        vertical-align: middle;\n",
       "    }\n",
       "\n",
       "    .dataframe tbody tr th {\n",
       "        vertical-align: top;\n",
       "    }\n",
       "\n",
       "    .dataframe thead th {\n",
       "        text-align: right;\n",
       "    }\n",
       "</style>\n",
       "<table border=\"1\" class=\"dataframe\">\n",
       "  <thead>\n",
       "    <tr style=\"text-align: right;\">\n",
       "      <th></th>\n",
       "      <th>ROW_ID</th>\n",
       "      <th>SUBJECT_ID</th>\n",
       "      <th>HADM_ID</th>\n",
       "      <th>SEQ_NUM</th>\n",
       "      <th>ICD9_CODE</th>\n",
       "    </tr>\n",
       "  </thead>\n",
       "  <tbody>\n",
       "    <tr>\n",
       "      <th>0</th>\n",
       "      <td>1297</td>\n",
       "      <td>109</td>\n",
       "      <td>172335</td>\n",
       "      <td>1.0</td>\n",
       "      <td>40301</td>\n",
       "    </tr>\n",
       "    <tr>\n",
       "      <th>1</th>\n",
       "      <td>1298</td>\n",
       "      <td>109</td>\n",
       "      <td>172335</td>\n",
       "      <td>2.0</td>\n",
       "      <td>486</td>\n",
       "    </tr>\n",
       "    <tr>\n",
       "      <th>2</th>\n",
       "      <td>1299</td>\n",
       "      <td>109</td>\n",
       "      <td>172335</td>\n",
       "      <td>3.0</td>\n",
       "      <td>58281</td>\n",
       "    </tr>\n",
       "    <tr>\n",
       "      <th>3</th>\n",
       "      <td>1300</td>\n",
       "      <td>109</td>\n",
       "      <td>172335</td>\n",
       "      <td>4.0</td>\n",
       "      <td>5855</td>\n",
       "    </tr>\n",
       "    <tr>\n",
       "      <th>4</th>\n",
       "      <td>1301</td>\n",
       "      <td>109</td>\n",
       "      <td>172335</td>\n",
       "      <td>5.0</td>\n",
       "      <td>4254</td>\n",
       "    </tr>\n",
       "  </tbody>\n",
       "</table>\n",
       "</div>"
      ],
      "text/plain": [
       "   ROW_ID  SUBJECT_ID  HADM_ID  SEQ_NUM ICD9_CODE\n",
       "0    1297         109   172335      1.0     40301\n",
       "1    1298         109   172335      2.0       486\n",
       "2    1299         109   172335      3.0     58281\n",
       "3    1300         109   172335      4.0      5855\n",
       "4    1301         109   172335      5.0      4254"
      ]
     },
     "metadata": {},
     "output_type": "display_data"
    },
    {
     "name": "stdout",
     "output_type": "stream",
     "text": [
      "\n",
      "Last 5 in dataframe\n"
     ]
    },
    {
     "data": {
      "text/html": [
       "<div>\n",
       "<style scoped>\n",
       "    .dataframe tbody tr th:only-of-type {\n",
       "        vertical-align: middle;\n",
       "    }\n",
       "\n",
       "    .dataframe tbody tr th {\n",
       "        vertical-align: top;\n",
       "    }\n",
       "\n",
       "    .dataframe thead th {\n",
       "        text-align: right;\n",
       "    }\n",
       "</style>\n",
       "<table border=\"1\" class=\"dataframe\">\n",
       "  <thead>\n",
       "    <tr style=\"text-align: right;\">\n",
       "      <th></th>\n",
       "      <th>ROW_ID</th>\n",
       "      <th>SUBJECT_ID</th>\n",
       "      <th>HADM_ID</th>\n",
       "      <th>SEQ_NUM</th>\n",
       "      <th>ICD9_CODE</th>\n",
       "    </tr>\n",
       "  </thead>\n",
       "  <tbody>\n",
       "    <tr>\n",
       "      <th>651042</th>\n",
       "      <td>639798</td>\n",
       "      <td>97503</td>\n",
       "      <td>188195</td>\n",
       "      <td>2.0</td>\n",
       "      <td>20280</td>\n",
       "    </tr>\n",
       "    <tr>\n",
       "      <th>651043</th>\n",
       "      <td>639799</td>\n",
       "      <td>97503</td>\n",
       "      <td>188195</td>\n",
       "      <td>3.0</td>\n",
       "      <td>V5869</td>\n",
       "    </tr>\n",
       "    <tr>\n",
       "      <th>651044</th>\n",
       "      <td>639800</td>\n",
       "      <td>97503</td>\n",
       "      <td>188195</td>\n",
       "      <td>4.0</td>\n",
       "      <td>V1279</td>\n",
       "    </tr>\n",
       "    <tr>\n",
       "      <th>651045</th>\n",
       "      <td>639801</td>\n",
       "      <td>97503</td>\n",
       "      <td>188195</td>\n",
       "      <td>5.0</td>\n",
       "      <td>5275</td>\n",
       "    </tr>\n",
       "    <tr>\n",
       "      <th>651046</th>\n",
       "      <td>639802</td>\n",
       "      <td>97503</td>\n",
       "      <td>188195</td>\n",
       "      <td>6.0</td>\n",
       "      <td>5569</td>\n",
       "    </tr>\n",
       "  </tbody>\n",
       "</table>\n",
       "</div>"
      ],
      "text/plain": [
       "        ROW_ID  SUBJECT_ID  HADM_ID  SEQ_NUM ICD9_CODE\n",
       "651042  639798       97503   188195      2.0     20280\n",
       "651043  639799       97503   188195      3.0     V5869\n",
       "651044  639800       97503   188195      4.0     V1279\n",
       "651045  639801       97503   188195      5.0      5275\n",
       "651046  639802       97503   188195      6.0      5569"
      ]
     },
     "metadata": {},
     "output_type": "display_data"
    }
   ],
   "source": [
    "DataUtils.exploreDataframe(DIAGNOSIS_ICD_DF)"
   ]
  },
  {
   "cell_type": "code",
   "execution_count": 7,
   "id": "1d85d517-9413-4eda-8a23-266ac3991383",
   "metadata": {},
   "outputs": [],
   "source": [
    "# Info from original data prep\n",
    "## labels = ['4019', '5849', '51881', '53081']\n",
    "## diagnosis_icd_filter = diagnosis_icd.loc[diagnosis_icd['ICD9_CODE'].isin(labels)]\n",
    "## diagnosis_icd_filter_drop = diagnosis_icd_filter.sort_values('SEQ_NUM').drop_duplicates('HADM_ID', keep='first')"
   ]
  },
  {
   "cell_type": "code",
   "execution_count": 8,
   "id": "2ddbc8b2-797d-4970-99ba-c615ab8a5b7e",
   "metadata": {},
   "outputs": [
    {
     "name": "stdout",
     "output_type": "stream",
     "text": [
      "dataframe shape: (20703, 5)\n",
      "\n",
      "dataframe info: \n",
      "<class 'pandas.core.frame.DataFrame'>\n",
      "Int64Index: 20703 entries, 53 to 651012\n",
      "Data columns (total 5 columns):\n",
      " #   Column      Non-Null Count  Dtype  \n",
      "---  ------      --------------  -----  \n",
      " 0   ROW_ID      20703 non-null  int64  \n",
      " 1   SUBJECT_ID  20703 non-null  int64  \n",
      " 2   HADM_ID     20703 non-null  int64  \n",
      " 3   SEQ_NUM     20703 non-null  float64\n",
      " 4   ICD9_CODE   20703 non-null  object \n",
      "dtypes: float64(1), int64(3), object(1)\n",
      "memory usage: 970.5+ KB\n",
      "None\n",
      "\n",
      "Null value count by column:\n"
     ]
    },
    {
     "data": {
      "text/plain": [
       "ROW_ID        0\n",
       "SUBJECT_ID    0\n",
       "HADM_ID       0\n",
       "SEQ_NUM       0\n",
       "ICD9_CODE     0\n",
       "dtype: int64"
      ]
     },
     "metadata": {},
     "output_type": "display_data"
    },
    {
     "name": "stdout",
     "output_type": "stream",
     "text": [
      "\n",
      "\n",
      "First 1 in dataframe\n"
     ]
    },
    {
     "data": {
      "text/html": [
       "<div>\n",
       "<style scoped>\n",
       "    .dataframe tbody tr th:only-of-type {\n",
       "        vertical-align: middle;\n",
       "    }\n",
       "\n",
       "    .dataframe tbody tr th {\n",
       "        vertical-align: top;\n",
       "    }\n",
       "\n",
       "    .dataframe thead th {\n",
       "        text-align: right;\n",
       "    }\n",
       "</style>\n",
       "<table border=\"1\" class=\"dataframe\">\n",
       "  <thead>\n",
       "    <tr style=\"text-align: right;\">\n",
       "      <th></th>\n",
       "      <th>ROW_ID</th>\n",
       "      <th>SUBJECT_ID</th>\n",
       "      <th>HADM_ID</th>\n",
       "      <th>SEQ_NUM</th>\n",
       "      <th>ICD9_CODE</th>\n",
       "    </tr>\n",
       "  </thead>\n",
       "  <tbody>\n",
       "    <tr>\n",
       "      <th>53</th>\n",
       "      <td>1513</td>\n",
       "      <td>115</td>\n",
       "      <td>114585</td>\n",
       "      <td>12.0</td>\n",
       "      <td>4019</td>\n",
       "    </tr>\n",
       "  </tbody>\n",
       "</table>\n",
       "</div>"
      ],
      "text/plain": [
       "    ROW_ID  SUBJECT_ID  HADM_ID  SEQ_NUM ICD9_CODE\n",
       "53    1513         115   114585     12.0      4019"
      ]
     },
     "metadata": {},
     "output_type": "display_data"
    },
    {
     "name": "stdout",
     "output_type": "stream",
     "text": [
      "\n",
      "Last 1 in dataframe\n"
     ]
    },
    {
     "data": {
      "text/html": [
       "<div>\n",
       "<style scoped>\n",
       "    .dataframe tbody tr th:only-of-type {\n",
       "        vertical-align: middle;\n",
       "    }\n",
       "\n",
       "    .dataframe tbody tr th {\n",
       "        vertical-align: top;\n",
       "    }\n",
       "\n",
       "    .dataframe thead th {\n",
       "        text-align: right;\n",
       "    }\n",
       "</style>\n",
       "<table border=\"1\" class=\"dataframe\">\n",
       "  <thead>\n",
       "    <tr style=\"text-align: right;\">\n",
       "      <th></th>\n",
       "      <th>ROW_ID</th>\n",
       "      <th>SUBJECT_ID</th>\n",
       "      <th>HADM_ID</th>\n",
       "      <th>SEQ_NUM</th>\n",
       "      <th>ICD9_CODE</th>\n",
       "    </tr>\n",
       "  </thead>\n",
       "  <tbody>\n",
       "    <tr>\n",
       "      <th>651012</th>\n",
       "      <td>639768</td>\n",
       "      <td>97488</td>\n",
       "      <td>161999</td>\n",
       "      <td>13.0</td>\n",
       "      <td>4019</td>\n",
       "    </tr>\n",
       "  </tbody>\n",
       "</table>\n",
       "</div>"
      ],
      "text/plain": [
       "        ROW_ID  SUBJECT_ID  HADM_ID  SEQ_NUM ICD9_CODE\n",
       "651012  639768       97488   161999     13.0      4019"
      ]
     },
     "metadata": {},
     "output_type": "display_data"
    }
   ],
   "source": [
    "# Info from original data prep\n",
    "# labels = ['4019', '5849', '51881', '53081']\n",
    "\n",
    "# 4019 is one of the research codes used\n",
    "DIAGNOSIS_ICD_DF_4019 = DIAGNOSIS_ICD_DF.loc[DIAGNOSIS_ICD_DF['ICD9_CODE'].isin(['4019'])]\n",
    "DataUtils.exploreDataframe(DIAGNOSIS_ICD_DF_4019, showRecords=1)"
   ]
  },
  {
   "cell_type": "code",
   "execution_count": 9,
   "id": "2bdb0627-d321-4ccf-aa16-3d35ce888ea5",
   "metadata": {},
   "outputs": [
    {
     "name": "stdout",
     "output_type": "stream",
     "text": [
      "       ROW_ID  SUBJECT_ID  HADM_ID  SEQ_NUM ICD9_CODE\n",
      "12341   10697         913   138570      1.0      4019\n",
      "24200   38614        3466   157659      1.0      4019\n",
      "41483   22137        1988   137710      1.0      4019\n",
      "57583   41472        3747   112435      1.0      4019\n",
      "77924   70574        6296   107183      1.0      4019\n"
     ]
    }
   ],
   "source": [
    "# Get all HADM_ID where SEQ_NUM=1 (e.g. primary diagnosis)\n",
    "DIAGNOSIS_WHERE_SEQ_IS_1 = DIAGNOSIS_ICD_DF_4019.loc[DIAGNOSIS_ICD_DF_4019['SEQ_NUM'] == 1.0]\n",
    "print(DIAGNOSIS_WHERE_SEQ_IS_1.head(5))"
   ]
  },
  {
   "cell_type": "code",
   "execution_count": 10,
   "id": "cfe90181-e70c-4577-a63a-d0398b174049",
   "metadata": {},
   "outputs": [
    {
     "name": "stdout",
     "output_type": "stream",
     "text": [
      "There are 36 unique HADM_ID having a 1.0 in the dataset\n",
      "HADM_ID where there is a SEQ_NUM==1: [138570 157659 137710 112435 107183 104644 101648 186291 175330 160898\n",
      " 196106 155063 144308 137862 108356 102481 185828 135201 165198 144320\n",
      " 137529 156768 175521 118532 167285 165975 105818 105254 158369 157074\n",
      " 147717 152597 114043 188033 149121 151745]\n"
     ]
    }
   ],
   "source": [
    "# Remove ALL rows from filtered dataset where HADM_ID has a 1.0 present \n",
    "\n",
    "# Get list of HADM_ID\n",
    "HADM_ID_with_SEQ_1 = DIAGNOSIS_WHERE_SEQ_IS_1['HADM_ID'].unique()\n",
    "print(f'There are {len(HADM_ID_with_SEQ_1)} unique HADM_ID having a 1.0 in the dataset')\n",
    "print(f'HADM_ID where there is a SEQ_NUM==1: {HADM_ID_with_SEQ_1}')"
   ]
  },
  {
   "cell_type": "code",
   "execution_count": 12,
   "id": "13a3e4a6-51ef-4d5d-84b5-de540d386e63",
   "metadata": {},
   "outputs": [
    {
     "name": "stdout",
     "output_type": "stream",
     "text": [
      "dataframe shape: (20667, 5)\n",
      "\n",
      "dataframe info: \n",
      "<class 'pandas.core.frame.DataFrame'>\n",
      "Int64Index: 20667 entries, 53 to 651012\n",
      "Data columns (total 5 columns):\n",
      " #   Column      Non-Null Count  Dtype  \n",
      "---  ------      --------------  -----  \n",
      " 0   ROW_ID      20667 non-null  int64  \n",
      " 1   SUBJECT_ID  20667 non-null  int64  \n",
      " 2   HADM_ID     20667 non-null  int64  \n",
      " 3   SEQ_NUM     20667 non-null  float64\n",
      " 4   ICD9_CODE   20667 non-null  object \n",
      "dtypes: float64(1), int64(3), object(1)\n",
      "memory usage: 1.5+ MB\n",
      "None\n",
      "\n",
      "Null value count by column:\n"
     ]
    },
    {
     "data": {
      "text/plain": [
       "ROW_ID        0\n",
       "SUBJECT_ID    0\n",
       "HADM_ID       0\n",
       "SEQ_NUM       0\n",
       "ICD9_CODE     0\n",
       "dtype: int64"
      ]
     },
     "metadata": {},
     "output_type": "display_data"
    },
    {
     "name": "stdout",
     "output_type": "stream",
     "text": [
      "\n",
      "\n",
      "First 1 in dataframe\n"
     ]
    },
    {
     "data": {
      "text/html": [
       "<div>\n",
       "<style scoped>\n",
       "    .dataframe tbody tr th:only-of-type {\n",
       "        vertical-align: middle;\n",
       "    }\n",
       "\n",
       "    .dataframe tbody tr th {\n",
       "        vertical-align: top;\n",
       "    }\n",
       "\n",
       "    .dataframe thead th {\n",
       "        text-align: right;\n",
       "    }\n",
       "</style>\n",
       "<table border=\"1\" class=\"dataframe\">\n",
       "  <thead>\n",
       "    <tr style=\"text-align: right;\">\n",
       "      <th></th>\n",
       "      <th>ROW_ID</th>\n",
       "      <th>SUBJECT_ID</th>\n",
       "      <th>HADM_ID</th>\n",
       "      <th>SEQ_NUM</th>\n",
       "      <th>ICD9_CODE</th>\n",
       "    </tr>\n",
       "  </thead>\n",
       "  <tbody>\n",
       "    <tr>\n",
       "      <th>53</th>\n",
       "      <td>1513</td>\n",
       "      <td>115</td>\n",
       "      <td>114585</td>\n",
       "      <td>12.0</td>\n",
       "      <td>4019</td>\n",
       "    </tr>\n",
       "  </tbody>\n",
       "</table>\n",
       "</div>"
      ],
      "text/plain": [
       "    ROW_ID  SUBJECT_ID  HADM_ID  SEQ_NUM ICD9_CODE\n",
       "53    1513         115   114585     12.0      4019"
      ]
     },
     "metadata": {},
     "output_type": "display_data"
    },
    {
     "name": "stdout",
     "output_type": "stream",
     "text": [
      "\n",
      "Last 1 in dataframe\n"
     ]
    },
    {
     "data": {
      "text/html": [
       "<div>\n",
       "<style scoped>\n",
       "    .dataframe tbody tr th:only-of-type {\n",
       "        vertical-align: middle;\n",
       "    }\n",
       "\n",
       "    .dataframe tbody tr th {\n",
       "        vertical-align: top;\n",
       "    }\n",
       "\n",
       "    .dataframe thead th {\n",
       "        text-align: right;\n",
       "    }\n",
       "</style>\n",
       "<table border=\"1\" class=\"dataframe\">\n",
       "  <thead>\n",
       "    <tr style=\"text-align: right;\">\n",
       "      <th></th>\n",
       "      <th>ROW_ID</th>\n",
       "      <th>SUBJECT_ID</th>\n",
       "      <th>HADM_ID</th>\n",
       "      <th>SEQ_NUM</th>\n",
       "      <th>ICD9_CODE</th>\n",
       "    </tr>\n",
       "  </thead>\n",
       "  <tbody>\n",
       "    <tr>\n",
       "      <th>651012</th>\n",
       "      <td>639768</td>\n",
       "      <td>97488</td>\n",
       "      <td>161999</td>\n",
       "      <td>13.0</td>\n",
       "      <td>4019</td>\n",
       "    </tr>\n",
       "  </tbody>\n",
       "</table>\n",
       "</div>"
      ],
      "text/plain": [
       "        ROW_ID  SUBJECT_ID  HADM_ID  SEQ_NUM ICD9_CODE\n",
       "651012  639768       97488   161999     13.0      4019"
      ]
     },
     "metadata": {},
     "output_type": "display_data"
    }
   ],
   "source": [
    "# delete all rows with column 'Age' has value 30 to 40 \n",
    "indexNames = DIAGNOSIS_ICD_DF_4019[ (DIAGNOSIS_ICD_DF_4019['HADM_ID'].isin(HADM_ID_with_SEQ_1))].index\n",
    "DIAGNOSIS_ICD_DF_4019= DIAGNOSIS_ICD_DF_4019.drop(indexNames)\n",
    "\n",
    "DataUtils.exploreDataframe(DIAGNOSIS_ICD_DF_4019, showRecords=1)"
   ]
  },
  {
   "cell_type": "code",
   "execution_count": 15,
   "id": "e46d1840-6dc6-43d8-aaca-b027de31279d",
   "metadata": {},
   "outputs": [
    {
     "name": "stdout",
     "output_type": "stream",
     "text": [
      "dataframe shape: (24, 5)\n",
      "\n",
      "dataframe info: \n",
      "<class 'pandas.core.frame.DataFrame'>\n",
      "Int64Index: 24 entries, 651000 to 651023\n",
      "Data columns (total 5 columns):\n",
      " #   Column      Non-Null Count  Dtype  \n",
      "---  ------      --------------  -----  \n",
      " 0   ROW_ID      24 non-null     int64  \n",
      " 1   SUBJECT_ID  24 non-null     int64  \n",
      " 2   HADM_ID     24 non-null     int64  \n",
      " 3   SEQ_NUM     24 non-null     float64\n",
      " 4   ICD9_CODE   24 non-null     object \n",
      "dtypes: float64(1), int64(3), object(1)\n",
      "memory usage: 1.1+ KB\n",
      "None\n",
      "\n",
      "Null value count by column:\n"
     ]
    },
    {
     "data": {
      "text/plain": [
       "ROW_ID        0\n",
       "SUBJECT_ID    0\n",
       "HADM_ID       0\n",
       "SEQ_NUM       0\n",
       "ICD9_CODE     0\n",
       "dtype: int64"
      ]
     },
     "metadata": {},
     "output_type": "display_data"
    },
    {
     "name": "stdout",
     "output_type": "stream",
     "text": [
      "\n",
      "\n",
      "First 12 in dataframe\n"
     ]
    },
    {
     "data": {
      "text/html": [
       "<div>\n",
       "<style scoped>\n",
       "    .dataframe tbody tr th:only-of-type {\n",
       "        vertical-align: middle;\n",
       "    }\n",
       "\n",
       "    .dataframe tbody tr th {\n",
       "        vertical-align: top;\n",
       "    }\n",
       "\n",
       "    .dataframe thead th {\n",
       "        text-align: right;\n",
       "    }\n",
       "</style>\n",
       "<table border=\"1\" class=\"dataframe\">\n",
       "  <thead>\n",
       "    <tr style=\"text-align: right;\">\n",
       "      <th></th>\n",
       "      <th>ROW_ID</th>\n",
       "      <th>SUBJECT_ID</th>\n",
       "      <th>HADM_ID</th>\n",
       "      <th>SEQ_NUM</th>\n",
       "      <th>ICD9_CODE</th>\n",
       "    </tr>\n",
       "  </thead>\n",
       "  <tbody>\n",
       "    <tr>\n",
       "      <th>651000</th>\n",
       "      <td>639756</td>\n",
       "      <td>97488</td>\n",
       "      <td>161999</td>\n",
       "      <td>1.0</td>\n",
       "      <td>43411</td>\n",
       "    </tr>\n",
       "    <tr>\n",
       "      <th>651001</th>\n",
       "      <td>639757</td>\n",
       "      <td>97488</td>\n",
       "      <td>161999</td>\n",
       "      <td>2.0</td>\n",
       "      <td>3485</td>\n",
       "    </tr>\n",
       "    <tr>\n",
       "      <th>651002</th>\n",
       "      <td>639758</td>\n",
       "      <td>97488</td>\n",
       "      <td>161999</td>\n",
       "      <td>3.0</td>\n",
       "      <td>3484</td>\n",
       "    </tr>\n",
       "    <tr>\n",
       "      <th>651003</th>\n",
       "      <td>639759</td>\n",
       "      <td>97488</td>\n",
       "      <td>161999</td>\n",
       "      <td>4.0</td>\n",
       "      <td>430</td>\n",
       "    </tr>\n",
       "    <tr>\n",
       "      <th>651004</th>\n",
       "      <td>639760</td>\n",
       "      <td>97488</td>\n",
       "      <td>161999</td>\n",
       "      <td>5.0</td>\n",
       "      <td>34830</td>\n",
       "    </tr>\n",
       "    <tr>\n",
       "      <th>651005</th>\n",
       "      <td>639761</td>\n",
       "      <td>97488</td>\n",
       "      <td>161999</td>\n",
       "      <td>6.0</td>\n",
       "      <td>99731</td>\n",
       "    </tr>\n",
       "    <tr>\n",
       "      <th>651006</th>\n",
       "      <td>639762</td>\n",
       "      <td>97488</td>\n",
       "      <td>161999</td>\n",
       "      <td>7.0</td>\n",
       "      <td>51883</td>\n",
       "    </tr>\n",
       "    <tr>\n",
       "      <th>651007</th>\n",
       "      <td>639763</td>\n",
       "      <td>97488</td>\n",
       "      <td>161999</td>\n",
       "      <td>8.0</td>\n",
       "      <td>5990</td>\n",
       "    </tr>\n",
       "    <tr>\n",
       "      <th>651008</th>\n",
       "      <td>639764</td>\n",
       "      <td>97488</td>\n",
       "      <td>161999</td>\n",
       "      <td>9.0</td>\n",
       "      <td>34291</td>\n",
       "    </tr>\n",
       "    <tr>\n",
       "      <th>651009</th>\n",
       "      <td>639765</td>\n",
       "      <td>97488</td>\n",
       "      <td>161999</td>\n",
       "      <td>10.0</td>\n",
       "      <td>29181</td>\n",
       "    </tr>\n",
       "    <tr>\n",
       "      <th>651010</th>\n",
       "      <td>639766</td>\n",
       "      <td>97488</td>\n",
       "      <td>161999</td>\n",
       "      <td>11.0</td>\n",
       "      <td>V4588</td>\n",
       "    </tr>\n",
       "    <tr>\n",
       "      <th>651011</th>\n",
       "      <td>639767</td>\n",
       "      <td>97488</td>\n",
       "      <td>161999</td>\n",
       "      <td>12.0</td>\n",
       "      <td>42731</td>\n",
       "    </tr>\n",
       "  </tbody>\n",
       "</table>\n",
       "</div>"
      ],
      "text/plain": [
       "        ROW_ID  SUBJECT_ID  HADM_ID  SEQ_NUM ICD9_CODE\n",
       "651000  639756       97488   161999      1.0     43411\n",
       "651001  639757       97488   161999      2.0      3485\n",
       "651002  639758       97488   161999      3.0      3484\n",
       "651003  639759       97488   161999      4.0       430\n",
       "651004  639760       97488   161999      5.0     34830\n",
       "651005  639761       97488   161999      6.0     99731\n",
       "651006  639762       97488   161999      7.0     51883\n",
       "651007  639763       97488   161999      8.0      5990\n",
       "651008  639764       97488   161999      9.0     34291\n",
       "651009  639765       97488   161999     10.0     29181\n",
       "651010  639766       97488   161999     11.0     V4588\n",
       "651011  639767       97488   161999     12.0     42731"
      ]
     },
     "metadata": {},
     "output_type": "display_data"
    },
    {
     "name": "stdout",
     "output_type": "stream",
     "text": [
      "\n",
      "Last 12 in dataframe\n"
     ]
    },
    {
     "data": {
      "text/html": [
       "<div>\n",
       "<style scoped>\n",
       "    .dataframe tbody tr th:only-of-type {\n",
       "        vertical-align: middle;\n",
       "    }\n",
       "\n",
       "    .dataframe tbody tr th {\n",
       "        vertical-align: top;\n",
       "    }\n",
       "\n",
       "    .dataframe thead th {\n",
       "        text-align: right;\n",
       "    }\n",
       "</style>\n",
       "<table border=\"1\" class=\"dataframe\">\n",
       "  <thead>\n",
       "    <tr style=\"text-align: right;\">\n",
       "      <th></th>\n",
       "      <th>ROW_ID</th>\n",
       "      <th>SUBJECT_ID</th>\n",
       "      <th>HADM_ID</th>\n",
       "      <th>SEQ_NUM</th>\n",
       "      <th>ICD9_CODE</th>\n",
       "    </tr>\n",
       "  </thead>\n",
       "  <tbody>\n",
       "    <tr>\n",
       "      <th>651012</th>\n",
       "      <td>639768</td>\n",
       "      <td>97488</td>\n",
       "      <td>161999</td>\n",
       "      <td>13.0</td>\n",
       "      <td>4019</td>\n",
       "    </tr>\n",
       "    <tr>\n",
       "      <th>651013</th>\n",
       "      <td>639769</td>\n",
       "      <td>97488</td>\n",
       "      <td>161999</td>\n",
       "      <td>14.0</td>\n",
       "      <td>2724</td>\n",
       "    </tr>\n",
       "    <tr>\n",
       "      <th>651014</th>\n",
       "      <td>639770</td>\n",
       "      <td>97488</td>\n",
       "      <td>161999</td>\n",
       "      <td>15.0</td>\n",
       "      <td>25000</td>\n",
       "    </tr>\n",
       "    <tr>\n",
       "      <th>651015</th>\n",
       "      <td>639771</td>\n",
       "      <td>97488</td>\n",
       "      <td>161999</td>\n",
       "      <td>16.0</td>\n",
       "      <td>V5867</td>\n",
       "    </tr>\n",
       "    <tr>\n",
       "      <th>651016</th>\n",
       "      <td>639772</td>\n",
       "      <td>97488</td>\n",
       "      <td>161999</td>\n",
       "      <td>17.0</td>\n",
       "      <td>4280</td>\n",
       "    </tr>\n",
       "    <tr>\n",
       "      <th>651017</th>\n",
       "      <td>639773</td>\n",
       "      <td>97488</td>\n",
       "      <td>161999</td>\n",
       "      <td>18.0</td>\n",
       "      <td>3051</td>\n",
       "    </tr>\n",
       "    <tr>\n",
       "      <th>651018</th>\n",
       "      <td>639774</td>\n",
       "      <td>97488</td>\n",
       "      <td>161999</td>\n",
       "      <td>19.0</td>\n",
       "      <td>7843</td>\n",
       "    </tr>\n",
       "    <tr>\n",
       "      <th>651019</th>\n",
       "      <td>639775</td>\n",
       "      <td>97488</td>\n",
       "      <td>161999</td>\n",
       "      <td>20.0</td>\n",
       "      <td>0414</td>\n",
       "    </tr>\n",
       "    <tr>\n",
       "      <th>651020</th>\n",
       "      <td>639776</td>\n",
       "      <td>97488</td>\n",
       "      <td>161999</td>\n",
       "      <td>21.0</td>\n",
       "      <td>30391</td>\n",
       "    </tr>\n",
       "    <tr>\n",
       "      <th>651021</th>\n",
       "      <td>639777</td>\n",
       "      <td>97488</td>\n",
       "      <td>161999</td>\n",
       "      <td>22.0</td>\n",
       "      <td>E8798</td>\n",
       "    </tr>\n",
       "    <tr>\n",
       "      <th>651022</th>\n",
       "      <td>639778</td>\n",
       "      <td>97488</td>\n",
       "      <td>161999</td>\n",
       "      <td>23.0</td>\n",
       "      <td>78791</td>\n",
       "    </tr>\n",
       "    <tr>\n",
       "      <th>651023</th>\n",
       "      <td>639779</td>\n",
       "      <td>97488</td>\n",
       "      <td>161999</td>\n",
       "      <td>24.0</td>\n",
       "      <td>V4986</td>\n",
       "    </tr>\n",
       "  </tbody>\n",
       "</table>\n",
       "</div>"
      ],
      "text/plain": [
       "        ROW_ID  SUBJECT_ID  HADM_ID  SEQ_NUM ICD9_CODE\n",
       "651012  639768       97488   161999     13.0      4019\n",
       "651013  639769       97488   161999     14.0      2724\n",
       "651014  639770       97488   161999     15.0     25000\n",
       "651015  639771       97488   161999     16.0     V5867\n",
       "651016  639772       97488   161999     17.0      4280\n",
       "651017  639773       97488   161999     18.0      3051\n",
       "651018  639774       97488   161999     19.0      7843\n",
       "651019  639775       97488   161999     20.0      0414\n",
       "651020  639776       97488   161999     21.0     30391\n",
       "651021  639777       97488   161999     22.0     E8798\n",
       "651022  639778       97488   161999     23.0     78791\n",
       "651023  639779       97488   161999     24.0     V4986"
      ]
     },
     "metadata": {},
     "output_type": "display_data"
    }
   ],
   "source": [
    "# Get all the records from the original DF matching one of the HADM_ID from above\n",
    "df_example = DIAGNOSIS_ICD_DF[DIAGNOSIS_ICD_DF['HADM_ID'] == 161999]\n",
    "DataUtils.exploreDataframe(df_example, showRecords=12)"
   ]
  },
  {
   "cell_type": "markdown",
   "id": "b3cf54f5-236d-479f-9aba-e0a8696427f6",
   "metadata": {},
   "source": [
    "## Business interpretation of ICD9_CODE and SEQ_NUM\n",
    "\n",
    "<a href=\"https://github.com/MIT-LCP/mimic-code/issues/199\">Business rules???</a>\n",
    "<br />\n",
    "\n"
   ]
  },
  {
   "cell_type": "markdown",
   "id": "6717bed3-3c17-4f69-b3e5-03b7dc473e9d",
   "metadata": {},
   "source": [
    "# Scratchpad"
   ]
  },
  {
   "cell_type": "code",
   "execution_count": null,
   "id": "1ffb0120-a166-4ae3-a385-5153529f1d95",
   "metadata": {},
   "outputs": [],
   "source": []
  },
  {
   "cell_type": "markdown",
   "id": "557d6a49-94d7-4595-92f6-08dc832b7908",
   "metadata": {},
   "source": [
    "## Explore differences in order of ops (ICD9_CODE filter, SEQ_NO)"
   ]
  },
  {
   "cell_type": "code",
   "execution_count": null,
   "id": "cb1f2900-a607-4263-9648-b7543730c4c7",
   "metadata": {},
   "outputs": [],
   "source": [
    "DataUtils.exploreDataframe(DIAGNOSIS_ICD_DF)"
   ]
  },
  {
   "cell_type": "code",
   "execution_count": null,
   "id": "12e9df13-c074-42ed-9ff4-e6c8b17a74b0",
   "metadata": {},
   "outputs": [],
   "source": [
    "# Original data prep added a filter on ICD9 Codes and then sorted based on \"keep first\" not SEQ=1.0\n",
    "\n",
    "# Info from original data prep\n",
    "## labels = ['4019', '5849', '51881', '53081']\n",
    "## diagnosis_icd_filter = diagnosis_icd.loc[diagnosis_icd['ICD9_CODE'].isin(labels)]\n",
    "## diagnosis_icd_filter_drop = diagnosis_icd_filter.sort_values('SEQ_NUM').drop_duplicates('HADM_ID', keep='first')\n",
    "\n",
    "\n",
    "# Expected record results\n",
    "RECORDS_AFTER_FILTER = 43645\n",
    "RECORDS_AFTER_KEEPFIRST = 32275\n",
    "\n",
    "# ICD9_Codes used in research paper\n",
    "labels = ['4019', '5849', '51881', '53081']\n",
    "\n",
    "DIAGNOSIS_ICD_SANITY_orig_filter = DIAGNOSIS_ICD_DF.loc[DIAGNOSIS_ICD_DF['ICD9_CODE'].isin(labels)]\n",
    "assert(RECORDS_AFTER_FILTER == len(DIAGNOSIS_ICD_SANITY_orig_filter))\n",
    "\n",
    "\n",
    "DIAGNOSIS_ICD_SANITY_orig_sort = DIAGNOSIS_ICD_SANITY_orig_filter.sort_values('SEQ_NUM', ascending=True).drop_duplicates('HADM_ID', keep='first')\n",
    "assert(RECORDS_AFTER_KEEPFIRST == len(DIAGNOSIS_ICD_SANITY_orig_sort))\n",
    "\n",
    "\n",
    "# Explore data changes and output\n",
    "print(f'')\n",
    "print(f'SEQ_NUM after filter then keep_first')\n",
    "_, _ = DataUtils.showUniqueColVals(DIAGNOSIS_ICD_SANITY_orig_sort, 'SEQ_NUM', showRecords=5)\n",
    "\n",
    "print(f'')\n",
    "print(f'HADM_ID after filter then keep_first')\n",
    "_, _ = DataUtils.showUniqueColVals(DIAGNOSIS_ICD_SANITY_orig_sort, 'HADM_ID', showRecords=5)\n",
    "\n"
   ]
  },
  {
   "cell_type": "code",
   "execution_count": null,
   "id": "0495f9c4-2e24-4d0b-a476-3a13d9b95b5e",
   "metadata": {},
   "outputs": [],
   "source": [
    "# Comparing order of operations. Original (above) did filter then sort to keep first records\n",
    "# This one reverses and sorts to keep first record (primary diagnoses) then filter\n",
    "\n",
    "\n",
    "# Original data prep added a filter on ICD9 Codes and then sorted based on \"keep first\" not SEQ=1.0\n",
    "## labels = ['4019', '5849', '51881', '53081']\n",
    "## diagnosis_icd_filter = diagnosis_icd.loc[diagnosis_icd['ICD9_CODE'].isin(labels)]\n",
    "## diagnosis_icd_filter_drop = diagnosis_icd_filter.sort_values('SEQ_NUM').drop_duplicates('HADM_ID', keep='first')\n",
    "\n",
    "\n",
    "# Expected record results\n",
    "RECORDS_AFTER_FILTER = 43645\n",
    "RECORDS_AFTER_KEEPFIRST = 32275\n",
    "\n",
    "# ICD9_Codes used in research paper\n",
    "labels = ['4019', '5849', '51881', '53081']\n",
    "\n",
    "\n",
    "# Filter recordset down keeping only 'first' record based on SEQ_NUM over HADM_ID\n",
    "DIAGNOSIS_ICD_SANITY_sort = DIAGNOSIS_ICD_DF.sort_values('SEQ_NUM', ascending=True).drop_duplicates('HADM_ID', keep='first')\n",
    "\n",
    "print(f'')\n",
    "# Now keep only the ones with the right ICD9_CODE\n",
    "DIAGNOSIS_ICD_SANITY_filter = DIAGNOSIS_ICD_SANITY_sort.loc[DIAGNOSIS_ICD_SANITY_sort['ICD9_CODE'].isin(labels)]\n",
    "\n",
    "\n",
    "# Explore data changes and output\n",
    "print(f'')\n",
    "print(f'SEQ_NUM after keep_first then filter')\n",
    "_, _ = DataUtils.showUniqueColVals(DIAGNOSIS_ICD_SANITY_filter, 'SEQ_NUM', showRecords=5)\n",
    "\n",
    "print(f'')\n",
    "print(f'HADM_ID after keep_first then filter')\n",
    "_, _ = DataUtils.showUniqueColVals(DIAGNOSIS_ICD_SANITY_filter, 'HADM_ID', showRecords=5)"
   ]
  }
 ],
 "metadata": {
  "kernelspec": {
   "display_name": "ML1010_env2",
   "language": "python",
   "name": "ml1010_env2"
  },
  "language_info": {
   "codemirror_mode": {
    "name": "ipython",
    "version": 3
   },
   "file_extension": ".py",
   "mimetype": "text/x-python",
   "name": "python",
   "nbconvert_exporter": "python",
   "pygments_lexer": "ipython3",
   "version": "3.7.13"
  }
 },
 "nbformat": 4,
 "nbformat_minor": 5
}
