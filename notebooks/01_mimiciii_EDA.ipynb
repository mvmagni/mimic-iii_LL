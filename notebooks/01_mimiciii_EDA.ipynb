{
 "cells": [
  {
   "cell_type": "markdown",
   "id": "203bd08b-d308-4088-98e2-2a3a1084bafb",
   "metadata": {},
   "source": [
    "# MIMIC-III EDA\n",
    "<p>Notebook used for working on features to include into magritte pipeline\n",
    "    dataset location\n",
    "    wget -r -N -c -np --user [username] --ask-password https://physionet.org/files/mimiciii/1.4/\n",
    "</p>"
   ]
  },
  {
   "cell_type": "markdown",
   "id": "2f1d9624-8f40-4e12-a09f-bfdf20e4f45b",
   "metadata": {
    "id": "1QZKvJBJ7rlc",
    "tags": []
   },
   "source": [
    "# Initialize environment\n",
    "\n",
    "When doing magritte dev work, I am currently using two repos:\n",
    "- magritte (for core code changes)\n",
    "- magritte scratch (for scratch notebooks for development work)\n",
    "\n",
    "Configs below are setup so that you checkout both repos in parallel directories\n",
    "    "
   ]
  },
  {
   "cell_type": "code",
   "execution_count": 1,
   "id": "9fb462b6-b6f1-4954-9c3e-d36e3562353e",
   "metadata": {
    "colab": {
     "base_uri": "https://localhost:8080/"
    },
    "executionInfo": {
     "elapsed": 19195,
     "status": "ok",
     "timestamp": 1639849489183,
     "user": {
      "displayName": "Michael Vasiliou",
      "photoUrl": "https://lh3.googleusercontent.com/a/default-user=s64",
      "userId": "07079983815732559270"
     },
     "user_tz": 300
    },
    "id": "jgMPxKZBzfFw",
    "outputId": "ae39cdc2-271b-4bdf-a71b-40f4a11dc389"
   },
   "outputs": [],
   "source": [
    "import sys\n",
    "import os\n",
    "\n",
    "WORKING_DIR = f'{os.getcwd()}' # assume notebook is in root of magritte scratch dir\n",
    "MAGRITTE_DIR = f'{WORKING_DIR}/../../magritte'\n",
    "UTILITIES_DIR = f'{MAGRITTE_DIR}/utilities'\n",
    "\n",
    "DATA_DIR = f'{MAGRITTE_DIR}/../data/mimiciii/working'\n",
    "\n",
    "# Add the UTILITY_DIR to the path to import files\n",
    "sys.path.append(UTILITIES_DIR)"
   ]
  },
  {
   "cell_type": "code",
   "execution_count": 2,
   "id": "7acebed1-da05-4a5f-953b-f7a0d2f08197",
   "metadata": {},
   "outputs": [],
   "source": [
    "import pandas as pd\n",
    "import DataUtils\n",
    "import pickle"
   ]
  },
  {
   "cell_type": "markdown",
   "id": "182716fd-c93a-4957-9723-d22b0be9ab28",
   "metadata": {},
   "source": [
    "# Load Data (MIMIC-III Dataset)"
   ]
  },
  {
   "cell_type": "code",
   "execution_count": 3,
   "id": "e6cbae24-83ae-47b7-95e5-1a11e1a8742d",
   "metadata": {},
   "outputs": [
    {
     "ename": "FileNotFoundError",
     "evalue": "[Errno 2] No such file or directory: '/home/magni/ML_Root/project_root/mimic-iii_LL/notebooks/../../magritte/../data/mimiciii/working/DIAGNOSES_ICD.csv.gz'",
     "output_type": "error",
     "traceback": [
      "\u001b[0;31m---------------------------------------------------------------------------\u001b[0m",
      "\u001b[0;31mFileNotFoundError\u001b[0m                         Traceback (most recent call last)",
      "\u001b[0;32m<timed exec>\u001b[0m in \u001b[0;36m<module>\u001b[0;34m\u001b[0m\n",
      "\u001b[0;32m~/python_env/ML1010_env2/lib64/python3.7/site-packages/pandas/util/_decorators.py\u001b[0m in \u001b[0;36mwrapper\u001b[0;34m(*args, **kwargs)\u001b[0m\n\u001b[1;32m    309\u001b[0m                     \u001b[0mstacklevel\u001b[0m\u001b[0;34m=\u001b[0m\u001b[0mstacklevel\u001b[0m\u001b[0;34m,\u001b[0m\u001b[0;34m\u001b[0m\u001b[0;34m\u001b[0m\u001b[0m\n\u001b[1;32m    310\u001b[0m                 )\n\u001b[0;32m--> 311\u001b[0;31m             \u001b[0;32mreturn\u001b[0m \u001b[0mfunc\u001b[0m\u001b[0;34m(\u001b[0m\u001b[0;34m*\u001b[0m\u001b[0margs\u001b[0m\u001b[0;34m,\u001b[0m \u001b[0;34m**\u001b[0m\u001b[0mkwargs\u001b[0m\u001b[0;34m)\u001b[0m\u001b[0;34m\u001b[0m\u001b[0;34m\u001b[0m\u001b[0m\n\u001b[0m\u001b[1;32m    312\u001b[0m \u001b[0;34m\u001b[0m\u001b[0m\n\u001b[1;32m    313\u001b[0m         \u001b[0;32mreturn\u001b[0m \u001b[0mwrapper\u001b[0m\u001b[0;34m\u001b[0m\u001b[0;34m\u001b[0m\u001b[0m\n",
      "\u001b[0;32m~/python_env/ML1010_env2/lib64/python3.7/site-packages/pandas/io/parsers/readers.py\u001b[0m in \u001b[0;36mread_csv\u001b[0;34m(filepath_or_buffer, sep, delimiter, header, names, index_col, usecols, squeeze, prefix, mangle_dupe_cols, dtype, engine, converters, true_values, false_values, skipinitialspace, skiprows, skipfooter, nrows, na_values, keep_default_na, na_filter, verbose, skip_blank_lines, parse_dates, infer_datetime_format, keep_date_col, date_parser, dayfirst, cache_dates, iterator, chunksize, compression, thousands, decimal, lineterminator, quotechar, quoting, doublequote, escapechar, comment, encoding, encoding_errors, dialect, error_bad_lines, warn_bad_lines, on_bad_lines, delim_whitespace, low_memory, memory_map, float_precision, storage_options)\u001b[0m\n\u001b[1;32m    584\u001b[0m     \u001b[0mkwds\u001b[0m\u001b[0;34m.\u001b[0m\u001b[0mupdate\u001b[0m\u001b[0;34m(\u001b[0m\u001b[0mkwds_defaults\u001b[0m\u001b[0;34m)\u001b[0m\u001b[0;34m\u001b[0m\u001b[0;34m\u001b[0m\u001b[0m\n\u001b[1;32m    585\u001b[0m \u001b[0;34m\u001b[0m\u001b[0m\n\u001b[0;32m--> 586\u001b[0;31m     \u001b[0;32mreturn\u001b[0m \u001b[0m_read\u001b[0m\u001b[0;34m(\u001b[0m\u001b[0mfilepath_or_buffer\u001b[0m\u001b[0;34m,\u001b[0m \u001b[0mkwds\u001b[0m\u001b[0;34m)\u001b[0m\u001b[0;34m\u001b[0m\u001b[0;34m\u001b[0m\u001b[0m\n\u001b[0m\u001b[1;32m    587\u001b[0m \u001b[0;34m\u001b[0m\u001b[0m\n\u001b[1;32m    588\u001b[0m \u001b[0;34m\u001b[0m\u001b[0m\n",
      "\u001b[0;32m~/python_env/ML1010_env2/lib64/python3.7/site-packages/pandas/io/parsers/readers.py\u001b[0m in \u001b[0;36m_read\u001b[0;34m(filepath_or_buffer, kwds)\u001b[0m\n\u001b[1;32m    480\u001b[0m \u001b[0;34m\u001b[0m\u001b[0m\n\u001b[1;32m    481\u001b[0m     \u001b[0;31m# Create the parser.\u001b[0m\u001b[0;34m\u001b[0m\u001b[0;34m\u001b[0m\u001b[0;34m\u001b[0m\u001b[0m\n\u001b[0;32m--> 482\u001b[0;31m     \u001b[0mparser\u001b[0m \u001b[0;34m=\u001b[0m \u001b[0mTextFileReader\u001b[0m\u001b[0;34m(\u001b[0m\u001b[0mfilepath_or_buffer\u001b[0m\u001b[0;34m,\u001b[0m \u001b[0;34m**\u001b[0m\u001b[0mkwds\u001b[0m\u001b[0;34m)\u001b[0m\u001b[0;34m\u001b[0m\u001b[0;34m\u001b[0m\u001b[0m\n\u001b[0m\u001b[1;32m    483\u001b[0m \u001b[0;34m\u001b[0m\u001b[0m\n\u001b[1;32m    484\u001b[0m     \u001b[0;32mif\u001b[0m \u001b[0mchunksize\u001b[0m \u001b[0;32mor\u001b[0m \u001b[0miterator\u001b[0m\u001b[0;34m:\u001b[0m\u001b[0;34m\u001b[0m\u001b[0;34m\u001b[0m\u001b[0m\n",
      "\u001b[0;32m~/python_env/ML1010_env2/lib64/python3.7/site-packages/pandas/io/parsers/readers.py\u001b[0m in \u001b[0;36m__init__\u001b[0;34m(self, f, engine, **kwds)\u001b[0m\n\u001b[1;32m    809\u001b[0m             \u001b[0mself\u001b[0m\u001b[0;34m.\u001b[0m\u001b[0moptions\u001b[0m\u001b[0;34m[\u001b[0m\u001b[0;34m\"has_index_names\"\u001b[0m\u001b[0;34m]\u001b[0m \u001b[0;34m=\u001b[0m \u001b[0mkwds\u001b[0m\u001b[0;34m[\u001b[0m\u001b[0;34m\"has_index_names\"\u001b[0m\u001b[0;34m]\u001b[0m\u001b[0;34m\u001b[0m\u001b[0;34m\u001b[0m\u001b[0m\n\u001b[1;32m    810\u001b[0m \u001b[0;34m\u001b[0m\u001b[0m\n\u001b[0;32m--> 811\u001b[0;31m         \u001b[0mself\u001b[0m\u001b[0;34m.\u001b[0m\u001b[0m_engine\u001b[0m \u001b[0;34m=\u001b[0m \u001b[0mself\u001b[0m\u001b[0;34m.\u001b[0m\u001b[0m_make_engine\u001b[0m\u001b[0;34m(\u001b[0m\u001b[0mself\u001b[0m\u001b[0;34m.\u001b[0m\u001b[0mengine\u001b[0m\u001b[0;34m)\u001b[0m\u001b[0;34m\u001b[0m\u001b[0;34m\u001b[0m\u001b[0m\n\u001b[0m\u001b[1;32m    812\u001b[0m \u001b[0;34m\u001b[0m\u001b[0m\n\u001b[1;32m    813\u001b[0m     \u001b[0;32mdef\u001b[0m \u001b[0mclose\u001b[0m\u001b[0;34m(\u001b[0m\u001b[0mself\u001b[0m\u001b[0;34m)\u001b[0m\u001b[0;34m:\u001b[0m\u001b[0;34m\u001b[0m\u001b[0;34m\u001b[0m\u001b[0m\n",
      "\u001b[0;32m~/python_env/ML1010_env2/lib64/python3.7/site-packages/pandas/io/parsers/readers.py\u001b[0m in \u001b[0;36m_make_engine\u001b[0;34m(self, engine)\u001b[0m\n\u001b[1;32m   1038\u001b[0m             )\n\u001b[1;32m   1039\u001b[0m         \u001b[0;31m# error: Too many arguments for \"ParserBase\"\u001b[0m\u001b[0;34m\u001b[0m\u001b[0;34m\u001b[0m\u001b[0;34m\u001b[0m\u001b[0m\n\u001b[0;32m-> 1040\u001b[0;31m         \u001b[0;32mreturn\u001b[0m \u001b[0mmapping\u001b[0m\u001b[0;34m[\u001b[0m\u001b[0mengine\u001b[0m\u001b[0;34m]\u001b[0m\u001b[0;34m(\u001b[0m\u001b[0mself\u001b[0m\u001b[0;34m.\u001b[0m\u001b[0mf\u001b[0m\u001b[0;34m,\u001b[0m \u001b[0;34m**\u001b[0m\u001b[0mself\u001b[0m\u001b[0;34m.\u001b[0m\u001b[0moptions\u001b[0m\u001b[0;34m)\u001b[0m  \u001b[0;31m# type: ignore[call-arg]\u001b[0m\u001b[0;34m\u001b[0m\u001b[0;34m\u001b[0m\u001b[0m\n\u001b[0m\u001b[1;32m   1041\u001b[0m \u001b[0;34m\u001b[0m\u001b[0m\n\u001b[1;32m   1042\u001b[0m     \u001b[0;32mdef\u001b[0m \u001b[0m_failover_to_python\u001b[0m\u001b[0;34m(\u001b[0m\u001b[0mself\u001b[0m\u001b[0;34m)\u001b[0m\u001b[0;34m:\u001b[0m\u001b[0;34m\u001b[0m\u001b[0;34m\u001b[0m\u001b[0m\n",
      "\u001b[0;32m~/python_env/ML1010_env2/lib64/python3.7/site-packages/pandas/io/parsers/c_parser_wrapper.py\u001b[0m in \u001b[0;36m__init__\u001b[0;34m(self, src, **kwds)\u001b[0m\n\u001b[1;32m     49\u001b[0m \u001b[0;34m\u001b[0m\u001b[0m\n\u001b[1;32m     50\u001b[0m         \u001b[0;31m# open handles\u001b[0m\u001b[0;34m\u001b[0m\u001b[0;34m\u001b[0m\u001b[0;34m\u001b[0m\u001b[0m\n\u001b[0;32m---> 51\u001b[0;31m         \u001b[0mself\u001b[0m\u001b[0;34m.\u001b[0m\u001b[0m_open_handles\u001b[0m\u001b[0;34m(\u001b[0m\u001b[0msrc\u001b[0m\u001b[0;34m,\u001b[0m \u001b[0mkwds\u001b[0m\u001b[0;34m)\u001b[0m\u001b[0;34m\u001b[0m\u001b[0;34m\u001b[0m\u001b[0m\n\u001b[0m\u001b[1;32m     52\u001b[0m         \u001b[0;32massert\u001b[0m \u001b[0mself\u001b[0m\u001b[0;34m.\u001b[0m\u001b[0mhandles\u001b[0m \u001b[0;32mis\u001b[0m \u001b[0;32mnot\u001b[0m \u001b[0;32mNone\u001b[0m\u001b[0;34m\u001b[0m\u001b[0;34m\u001b[0m\u001b[0m\n\u001b[1;32m     53\u001b[0m \u001b[0;34m\u001b[0m\u001b[0m\n",
      "\u001b[0;32m~/python_env/ML1010_env2/lib64/python3.7/site-packages/pandas/io/parsers/base_parser.py\u001b[0m in \u001b[0;36m_open_handles\u001b[0;34m(self, src, kwds)\u001b[0m\n\u001b[1;32m    227\u001b[0m             \u001b[0mmemory_map\u001b[0m\u001b[0;34m=\u001b[0m\u001b[0mkwds\u001b[0m\u001b[0;34m.\u001b[0m\u001b[0mget\u001b[0m\u001b[0;34m(\u001b[0m\u001b[0;34m\"memory_map\"\u001b[0m\u001b[0;34m,\u001b[0m \u001b[0;32mFalse\u001b[0m\u001b[0;34m)\u001b[0m\u001b[0;34m,\u001b[0m\u001b[0;34m\u001b[0m\u001b[0;34m\u001b[0m\u001b[0m\n\u001b[1;32m    228\u001b[0m             \u001b[0mstorage_options\u001b[0m\u001b[0;34m=\u001b[0m\u001b[0mkwds\u001b[0m\u001b[0;34m.\u001b[0m\u001b[0mget\u001b[0m\u001b[0;34m(\u001b[0m\u001b[0;34m\"storage_options\"\u001b[0m\u001b[0;34m,\u001b[0m \u001b[0;32mNone\u001b[0m\u001b[0;34m)\u001b[0m\u001b[0;34m,\u001b[0m\u001b[0;34m\u001b[0m\u001b[0;34m\u001b[0m\u001b[0m\n\u001b[0;32m--> 229\u001b[0;31m             \u001b[0merrors\u001b[0m\u001b[0;34m=\u001b[0m\u001b[0mkwds\u001b[0m\u001b[0;34m.\u001b[0m\u001b[0mget\u001b[0m\u001b[0;34m(\u001b[0m\u001b[0;34m\"encoding_errors\"\u001b[0m\u001b[0;34m,\u001b[0m \u001b[0;34m\"strict\"\u001b[0m\u001b[0;34m)\u001b[0m\u001b[0;34m,\u001b[0m\u001b[0;34m\u001b[0m\u001b[0;34m\u001b[0m\u001b[0m\n\u001b[0m\u001b[1;32m    230\u001b[0m         )\n\u001b[1;32m    231\u001b[0m \u001b[0;34m\u001b[0m\u001b[0m\n",
      "\u001b[0;32m~/python_env/ML1010_env2/lib64/python3.7/site-packages/pandas/io/common.py\u001b[0m in \u001b[0;36mget_handle\u001b[0;34m(path_or_buf, mode, encoding, compression, memory_map, is_text, errors, storage_options)\u001b[0m\n\u001b[1;32m    643\u001b[0m                     \u001b[0mfilename\u001b[0m\u001b[0;34m=\u001b[0m\u001b[0mhandle\u001b[0m\u001b[0;34m,\u001b[0m\u001b[0;34m\u001b[0m\u001b[0;34m\u001b[0m\u001b[0m\n\u001b[1;32m    644\u001b[0m                     \u001b[0mmode\u001b[0m\u001b[0;34m=\u001b[0m\u001b[0mioargs\u001b[0m\u001b[0;34m.\u001b[0m\u001b[0mmode\u001b[0m\u001b[0;34m,\u001b[0m\u001b[0;34m\u001b[0m\u001b[0;34m\u001b[0m\u001b[0m\n\u001b[0;32m--> 645\u001b[0;31m                     \u001b[0;34m**\u001b[0m\u001b[0mcompression_args\u001b[0m\u001b[0;34m,\u001b[0m\u001b[0;34m\u001b[0m\u001b[0;34m\u001b[0m\u001b[0m\n\u001b[0m\u001b[1;32m    646\u001b[0m                 )\n\u001b[1;32m    647\u001b[0m             \u001b[0;32melse\u001b[0m\u001b[0;34m:\u001b[0m\u001b[0;34m\u001b[0m\u001b[0;34m\u001b[0m\u001b[0m\n",
      "\u001b[0;32m/usr/lib64/python3.7/gzip.py\u001b[0m in \u001b[0;36m__init__\u001b[0;34m(self, filename, mode, compresslevel, fileobj, mtime)\u001b[0m\n\u001b[1;32m    166\u001b[0m             \u001b[0mmode\u001b[0m \u001b[0;34m+=\u001b[0m \u001b[0;34m'b'\u001b[0m\u001b[0;34m\u001b[0m\u001b[0;34m\u001b[0m\u001b[0m\n\u001b[1;32m    167\u001b[0m         \u001b[0;32mif\u001b[0m \u001b[0mfileobj\u001b[0m \u001b[0;32mis\u001b[0m \u001b[0;32mNone\u001b[0m\u001b[0;34m:\u001b[0m\u001b[0;34m\u001b[0m\u001b[0;34m\u001b[0m\u001b[0m\n\u001b[0;32m--> 168\u001b[0;31m             \u001b[0mfileobj\u001b[0m \u001b[0;34m=\u001b[0m \u001b[0mself\u001b[0m\u001b[0;34m.\u001b[0m\u001b[0mmyfileobj\u001b[0m \u001b[0;34m=\u001b[0m \u001b[0mbuiltins\u001b[0m\u001b[0;34m.\u001b[0m\u001b[0mopen\u001b[0m\u001b[0;34m(\u001b[0m\u001b[0mfilename\u001b[0m\u001b[0;34m,\u001b[0m \u001b[0mmode\u001b[0m \u001b[0;32mor\u001b[0m \u001b[0;34m'rb'\u001b[0m\u001b[0;34m)\u001b[0m\u001b[0;34m\u001b[0m\u001b[0;34m\u001b[0m\u001b[0m\n\u001b[0m\u001b[1;32m    169\u001b[0m         \u001b[0;32mif\u001b[0m \u001b[0mfilename\u001b[0m \u001b[0;32mis\u001b[0m \u001b[0;32mNone\u001b[0m\u001b[0;34m:\u001b[0m\u001b[0;34m\u001b[0m\u001b[0;34m\u001b[0m\u001b[0m\n\u001b[1;32m    170\u001b[0m             \u001b[0mfilename\u001b[0m \u001b[0;34m=\u001b[0m \u001b[0mgetattr\u001b[0m\u001b[0;34m(\u001b[0m\u001b[0mfileobj\u001b[0m\u001b[0;34m,\u001b[0m \u001b[0;34m'name'\u001b[0m\u001b[0;34m,\u001b[0m \u001b[0;34m''\u001b[0m\u001b[0;34m)\u001b[0m\u001b[0;34m\u001b[0m\u001b[0;34m\u001b[0m\u001b[0m\n",
      "\u001b[0;31mFileNotFoundError\u001b[0m: [Errno 2] No such file or directory: '/home/magni/ML_Root/project_root/mimic-iii_LL/notebooks/../../magritte/../data/mimiciii/working/DIAGNOSES_ICD.csv.gz'"
     ]
    }
   ],
   "source": [
    "%%time\n",
    "# Loading three tables from MIMIC-III\n",
    "# 1) DIAGNOSES_ICD.csv.gz\n",
    "# 2) NOTEEVENTS.csv.gz\n",
    "# 3) D_ICD_DIAGNOSES.csv.gz\n",
    "\n",
    "diagnosisICD_DF = pd.read_csv(f'{DATA_DIR}/DIAGNOSES_ICD.csv.gz',\n",
    "                              #dtype = {'ROW_ID': int, 'SUBJECT_ID':int, 'HADM_ID':int, 'SEQ_NUM':float, 'ICD9_CODE': str},\n",
    "                              compression='gzip'\n",
    "                             )\n",
    "\n",
    "\n",
    "DATE_COLS=['CHARTTIME','STORETIME', 'CHARTDATE']\n",
    "notesDF = pd.read_csv(f'{DATA_DIR}/NOTEEVENTS.csv.gz',\n",
    "                      parse_dates=DATE_COLS,\n",
    "                      compression='gzip'\n",
    "                     )\n",
    "\n",
    "D_ICDDiagnosis_DF = pd.read_csv(f'{DATA_DIR}/D_ICD_DIAGNOSES.csv.gz', compression='gzip')"
   ]
  },
  {
   "cell_type": "markdown",
   "id": "a53cbf67-8a3f-43b8-b305-74da04494fd3",
   "metadata": {
    "jp-MarkdownHeadingCollapsed": true,
    "tags": []
   },
   "source": [
    "## DIAGNOSES_ICD.csv.gz summary"
   ]
  },
  {
   "cell_type": "code",
   "execution_count": 4,
   "id": "accc4e64-2f01-439b-ae08-3153aba7e813",
   "metadata": {},
   "outputs": [
    {
     "ename": "NameError",
     "evalue": "name 'diagnosisICD_DF' is not defined",
     "output_type": "error",
     "traceback": [
      "\u001b[0;31m---------------------------------------------------------------------------\u001b[0m",
      "\u001b[0;31mNameError\u001b[0m                                 Traceback (most recent call last)",
      "\u001b[0;32m/tmp/ipykernel_929140/1373802784.py\u001b[0m in \u001b[0;36m<module>\u001b[0;34m\u001b[0m\n\u001b[0;32m----> 1\u001b[0;31m \u001b[0mDataUtils\u001b[0m\u001b[0;34m.\u001b[0m\u001b[0mexploreDataframe\u001b[0m\u001b[0;34m(\u001b[0m\u001b[0mdiagnosisICD_DF\u001b[0m\u001b[0;34m)\u001b[0m\u001b[0;34m\u001b[0m\u001b[0;34m\u001b[0m\u001b[0m\n\u001b[0m",
      "\u001b[0;31mNameError\u001b[0m: name 'diagnosisICD_DF' is not defined"
     ]
    }
   ],
   "source": [
    "DataUtils.exploreDataframe(diagnosisICD_DF)"
   ]
  },
  {
   "cell_type": "code",
   "execution_count": null,
   "id": "1d3d2f06-abab-462e-bd3d-3c9841bfb4c4",
   "metadata": {},
   "outputs": [],
   "source": [
    "DataUtils.showUniqueColVals(diagnosisICD_DF, 'ICD9_CODE')"
   ]
  },
  {
   "cell_type": "markdown",
   "id": "8489fa27-3553-4258-a21d-30168535f80d",
   "metadata": {
    "jp-MarkdownHeadingCollapsed": true,
    "tags": []
   },
   "source": [
    "## NOTEEVENTS.csv.gz summary"
   ]
  },
  {
   "cell_type": "code",
   "execution_count": null,
   "id": "43b10e8d-3986-489e-8c3d-5be9b8bb1710",
   "metadata": {},
   "outputs": [],
   "source": [
    "DataUtils.exploreDataframe(notesDF)"
   ]
  },
  {
   "cell_type": "code",
   "execution_count": null,
   "id": "53937c85-def3-4765-9560-1b9ba865b8b4",
   "metadata": {},
   "outputs": [],
   "source": [
    "DataUtils.showUniqueColVals(notesDF, 'HADM_ID')"
   ]
  },
  {
   "cell_type": "code",
   "execution_count": null,
   "id": "af6bfb67-1106-463f-b509-a7bd11830e23",
   "metadata": {},
   "outputs": [],
   "source": [
    "DataUtils.showUniqueColVals(notesDF, 'CATEGORY', showRecords=15)"
   ]
  },
  {
   "cell_type": "markdown",
   "id": "93befa4c-77d8-4a58-9df8-01b92fc416d8",
   "metadata": {
    "jp-MarkdownHeadingCollapsed": true,
    "tags": []
   },
   "source": [
    "## D_ICD_DIAGNOSES.csv.gz summary"
   ]
  },
  {
   "cell_type": "code",
   "execution_count": null,
   "id": "66ef3f70-b9bb-469d-acd5-454dfb6b92e1",
   "metadata": {},
   "outputs": [],
   "source": [
    "DataUtils.exploreDataframe(D_ICDDiagnosis_DF)"
   ]
  },
  {
   "cell_type": "code",
   "execution_count": null,
   "id": "5c7ed5af-fa7b-4d96-b66e-dbf3f2511fc4",
   "metadata": {},
   "outputs": [],
   "source": [
    "DataUtils.showUniqueColVals(D_ICDDiagnosis_DF, 'ICD9_CODE')"
   ]
  },
  {
   "cell_type": "markdown",
   "id": "cbb4db51-670c-4d2d-8cc0-e319f3cb2b69",
   "metadata": {},
   "source": [
    "# NOTEEVENTS.csv.gz explore, prep, and clean"
   ]
  },
  {
   "cell_type": "markdown",
   "id": "d1c896a4-972d-477a-b00c-510e8e7a8757",
   "metadata": {},
   "source": [
    "## Explore"
   ]
  },
  {
   "cell_type": "code",
   "execution_count": null,
   "id": "ce56c8c5-06dd-4bb8-9fef-1bfb05443a8b",
   "metadata": {},
   "outputs": [],
   "source": [
    "DataUtils.exploreDataframe(notesDF, showRecords=1)"
   ]
  },
  {
   "cell_type": "code",
   "execution_count": null,
   "id": "ebd36393-ee4b-4e90-a904-5f6864ee15a7",
   "metadata": {},
   "outputs": [],
   "source": [
    "# Find out how many entries by CATEGORY for each HADM_ID\n",
    "sumDF = notesDF.groupby(['HADM_ID','CATEGORY']).size().to_frame('record_count')\n",
    "sumDF.reset_index(inplace=True)\n",
    "sumDF.head(10)"
   ]
  },
  {
   "cell_type": "code",
   "execution_count": null,
   "id": "c08aa36e-3d89-421e-9f20-239b40f8b93b",
   "metadata": {},
   "outputs": [],
   "source": [
    "# How many times does \"Discharge summary\" appear per HADM_ID?\n",
    "# Entry of: record_count=5, sum_by_record_count=30 means there were 30 HADM_ID's that had 5 \"Discharge summary\"\n",
    "\n",
    "sumDF2 = sumDF[(sumDF['CATEGORY'] == 'Discharge summary')]\n",
    "sumDF2 = sumDF2.groupby(['CATEGORY', 'record_count']).size().to_frame('sum_by_record_count')\n",
    "sumDF2.reset_index(inplace=True)\n",
    "sumDF2.head(10)\n",
    "\n",
    "# Discharge summary may not provide helpful support for this experiment"
   ]
  },
  {
   "cell_type": "markdown",
   "id": "0e2016c9-2b96-468c-8a04-148fdb080246",
   "metadata": {},
   "source": [
    "## Clean and trim"
   ]
  },
  {
   "cell_type": "code",
   "execution_count": null,
   "id": "7b94891b-1c83-4095-9eb0-bc3a7c5e0882",
   "metadata": {},
   "outputs": [],
   "source": [
    "notesDF_working = notesDF[['HADM_ID', 'TEXT']]\n",
    "DataUtils.exploreDataframe(notesDF_working, showRecords=1)"
   ]
  },
  {
   "cell_type": "code",
   "execution_count": null,
   "id": "83a91aa2-9c5d-4095-b31f-201b96a30e6d",
   "metadata": {},
   "outputs": [],
   "source": [
    "# Drop nulls for HADM_ID\n",
    "notesDF_working = DataUtils.dropNullRows(notesDF_working)"
   ]
  },
  {
   "cell_type": "code",
   "execution_count": null,
   "id": "5abf089f-810a-4b23-a97a-88c786a55864",
   "metadata": {},
   "outputs": [],
   "source": [
    "DataUtils.showUniqueColVals(dataFrame=notesDF_working, colName='HADM_ID')"
   ]
  },
  {
   "cell_type": "code",
   "execution_count": null,
   "id": "08573526-f694-4f54-a0e3-37d0475cd623",
   "metadata": {},
   "outputs": [],
   "source": [
    "# Combine notes for each HADM_ID into one record. \n",
    "# Should now be only one record per HADM_ID (100% unique in showUniqueColVals)\n",
    "notesDF_compressed = notesDF_working.groupby('HADM_ID').agg({\n",
    "                                             'TEXT': lambda x: ' '.join(x)\n",
    "                                            })\n",
    "notesDF_compressed.reset_index(inplace=True)\n",
    "\n",
    "DataUtils.showUniqueColVals(dataFrame=notesDF_compressed,\n",
    "                            colName='HADM_ID')"
   ]
  },
  {
   "cell_type": "markdown",
   "id": "b7ff640d-8d1f-4fac-bece-de0ffb8512d5",
   "metadata": {},
   "source": [
    "# DIAGNOSES_ICD.csv.gz expore, prep, clean\n"
   ]
  },
  {
   "cell_type": "code",
   "execution_count": null,
   "id": "6c000cd8-e72c-48ac-b83f-9c4ac99ec4e7",
   "metadata": {},
   "outputs": [],
   "source": [
    "DataUtils.exploreDataframe(diagnosisICD_DF)"
   ]
  },
  {
   "cell_type": "code",
   "execution_count": null,
   "id": "b9c271f5-5c32-4f80-8851-6166ef6b5832",
   "metadata": {},
   "outputs": [],
   "source": [
    "# Choose only the ones where SEQ_NUM = 1\n",
    "# Filtering for only sequence 1 of records. Sequence 1 has the \"primary\" diagnosis for the patient\n",
    "diagnosisICD_DF_working = diagnosisICD_DF[(diagnosisICD_DF['SEQ_NUM'] == 1.0)]\n",
    "DataUtils.showUniqueColVals(diagnosisICD_DF_working, 'SEQ_NUM', showRecords=10)"
   ]
  },
  {
   "cell_type": "code",
   "execution_count": null,
   "id": "ffbe2bc4-9720-42bb-a435-598727a96954",
   "metadata": {},
   "outputs": [],
   "source": [
    "DataUtils.showUniqueColVals(diagnosisICD_DF_working, 'HADM_ID', showRecords=1)"
   ]
  },
  {
   "cell_type": "code",
   "execution_count": null,
   "id": "758f23a3-8836-4707-bf9b-a9b72f8fc86b",
   "metadata": {},
   "outputs": [],
   "source": [
    "# Drop nulls values (47 in each of SEQ_NUM and ICD9_CODE)\n",
    "diagnosisICD_DF_working = diagnosisICD_DF_working[['HADM_ID','ICD9_CODE']]\n",
    "diagnosisICD_DF_working = DataUtils.dropNullRows(diagnosisICD_DF_working)"
   ]
  },
  {
   "cell_type": "markdown",
   "id": "d442a349-5b21-4b94-ba40-54024f1dc939",
   "metadata": {},
   "source": [
    "# Merge datasets for two outputs\n",
    "- Output 1: All notes remain separate but will the ICD9 code from SEQ_NO 1\n",
    "- Output 2: Notes are combined together. One set of notes for each HADM_ID."
   ]
  },
  {
   "cell_type": "markdown",
   "id": "3e5d6b90-6d91-4007-adaa-f1c2bf2bd90b",
   "metadata": {},
   "source": [
    "## Output 1: All notes remain separate but with the ICD9 code from SEQ_NO 1"
   ]
  },
  {
   "cell_type": "code",
   "execution_count": null,
   "id": "5ffaabbd-223c-4e79-bdb2-96b4c74878bb",
   "metadata": {},
   "outputs": [],
   "source": [
    "mimic3_notes_separateDF = pd.merge(notesDF_working, diagnosisICD_DF_working, on='HADM_ID', how='inner')\n",
    "DataUtils.exploreDataframe(mimic3_notes_separateDF, showRecords=2)  "
   ]
  },
  {
   "cell_type": "code",
   "execution_count": null,
   "id": "d74108e0-598c-4b84-991f-c07271291255",
   "metadata": {},
   "outputs": [],
   "source": [
    "# Don't need the HADM_ID column\n",
    "mimic3_notes_separateDF.drop(['HADM_ID'], axis=1, inplace=True)\n",
    "DataUtils.exploreDataframe(mimic3_notes_separateDF, showRecords=2)"
   ]
  },
  {
   "cell_type": "markdown",
   "id": "516b0ccb-3a7a-4cce-8d15-8b40cc940ffb",
   "metadata": {},
   "source": [
    "## Output 2: Notes are combined together. One set of notes for each HADM_ID."
   ]
  },
  {
   "cell_type": "code",
   "execution_count": null,
   "id": "bc17963a-6985-48b3-b8a1-77e5608bd55d",
   "metadata": {},
   "outputs": [],
   "source": [
    "mimic3_notes_combinedDF = pd.merge(notesDF_compressed, diagnosisICD_DF_working, on='HADM_ID', how='inner')\n",
    "DataUtils.exploreDataframe(mimic3_notes_combinedDF, showRecords=2)                                   "
   ]
  },
  {
   "cell_type": "code",
   "execution_count": null,
   "id": "e7f79138-2b6c-4934-a2a8-d1ad658241b4",
   "metadata": {},
   "outputs": [],
   "source": [
    "# Don't need the HADM_ID column\n",
    "mimic3_notes_combinedDF.drop(['HADM_ID'], axis=1, inplace=True)\n",
    "DataUtils.exploreDataframe(mimic3_notes_combinedDF, showRecords=2)"
   ]
  },
  {
   "cell_type": "markdown",
   "id": "d95b41b7-e3f9-42b9-82ab-47e3091eb43e",
   "metadata": {},
   "source": [
    "# Get top ICD9 codes for filtering"
   ]
  },
  {
   "cell_type": "code",
   "execution_count": null,
   "id": "7fc0ee10-3be5-4e9a-a64e-08ef1a53869e",
   "metadata": {},
   "outputs": [],
   "source": [
    "topICD_codes, bottomICD_codesList = DataUtils.showUniqueColVals(mimic3_notes_separateDF, colName='ICD9_CODE', showRecords=5)"
   ]
  },
  {
   "cell_type": "code",
   "execution_count": null,
   "id": "71ab8a89-351c-4fae-9cb7-966c81d6552c",
   "metadata": {},
   "outputs": [],
   "source": []
  },
  {
   "cell_type": "markdown",
   "id": "c2e52127-6b9c-4cd5-b5ef-b2669a6df92f",
   "metadata": {},
   "source": [
    "# Filter and persist the datasets"
   ]
  },
  {
   "cell_type": "markdown",
   "id": "a6fb1cc5-f62c-4b9c-8c94-18ee27d1411c",
   "metadata": {},
   "source": [
    "## Output 1: All notes remain separate but will the ICD9 code from SEQ_NO"
   ]
  },
  {
   "cell_type": "code",
   "execution_count": null,
   "id": "46c5fef0-2b68-4681-b76b-b176abd0bc8e",
   "metadata": {},
   "outputs": [],
   "source": [
    "# Apply filter\n",
    "mimic_separate_DF = mimic3_notes_separateDF[mimic3_notes_separateDF['ICD9_CODE'].isin(topICD_codes)]\n",
    "_, _ = DataUtils.showUniqueColVals(mimic_separate_DF, 'ICD9_CODE')\n"
   ]
  },
  {
   "cell_type": "code",
   "execution_count": null,
   "id": "ae0ccb81-47ea-4bbd-8965-1b35ff1bcac7",
   "metadata": {},
   "outputs": [],
   "source": [
    "mimic_separate_DF.to_pickle(f'{DATA_DIR}/notes_separate.pkl.gz')"
   ]
  },
  {
   "cell_type": "code",
   "execution_count": null,
   "id": "42300d88-6b80-482e-84c5-591f18806c48",
   "metadata": {},
   "outputs": [],
   "source": []
  },
  {
   "cell_type": "markdown",
   "id": "c4f72e00-6f8c-4fd5-99cb-480717b61873",
   "metadata": {},
   "source": [
    "## Output 2: Notes are combined together. One set of notes for each HADM_ID."
   ]
  },
  {
   "cell_type": "code",
   "execution_count": null,
   "id": "e0bc7eb3-90d1-4f4b-a189-02a8a37899e7",
   "metadata": {},
   "outputs": [],
   "source": [
    "# Apply filter\n",
    "mimic_combined_DF = mimic3_notes_combinedDF[mimic3_notes_combinedDF['ICD9_CODE'].isin(topICD_codes)]\n",
    "_, _ = DataUtils.showUniqueColVals(mimic_combined_DF, 'ICD9_CODE')\n"
   ]
  },
  {
   "cell_type": "code",
   "execution_count": null,
   "id": "bf740c4b-3f0c-4dbe-b5c8-c159031cb31a",
   "metadata": {},
   "outputs": [],
   "source": [
    "mimic_combined_DF.to_pickle(f'{DATA_DIR}/notes_combined.pkl.gz')"
   ]
  },
  {
   "cell_type": "code",
   "execution_count": null,
   "id": "7af544cb-30f5-4cff-8a21-cf378ab933b0",
   "metadata": {},
   "outputs": [],
   "source": []
  },
  {
   "cell_type": "code",
   "execution_count": null,
   "id": "70b85400-e004-406a-adba-c766d2e21369",
   "metadata": {},
   "outputs": [],
   "source": [
    "is_414 = D_ICDDiagnosis_DF[(D_ICDDiagnosis_DF['ICD9_CODE'].isin(['00414','0414', '414']))]\n",
    "display(is_414)"
   ]
  },
  {
   "cell_type": "code",
   "execution_count": null,
   "id": "7f36456c-c3c8-4e27-b5f2-b3a74d1dc18b",
   "metadata": {},
   "outputs": [],
   "source": [
    "filteredICD414 = D_ICDDiagnosis_DF.loc[D_ICDDiagnosis_DF['ICD9_CODE'].str.contains(\"414\", case=False)]\n",
    "display(filteredICD414)"
   ]
  },
  {
   "cell_type": "code",
   "execution_count": null,
   "id": "af0bb3a7-691f-4640-be06-10cc7b75c592",
   "metadata": {},
   "outputs": [],
   "source": [
    "filteredICD414Word = D_ICDDiagnosis_DF.loc[D_ICDDiagnosis_DF['LONG_TITLE'].str.contains(\"ischemic\", case=False)]\n",
    "display(filteredICD414Word)"
   ]
  },
  {
   "cell_type": "code",
   "execution_count": null,
   "id": "29ea6741-f071-497c-b3ef-e881d7b253a2",
   "metadata": {},
   "outputs": [],
   "source": [
    "is_038 = D_ICDDiagnosis_DF[(D_ICDDiagnosis_DF['ICD9_CODE'].isin(['0038','038', '38']))]\n",
    "display(is_038)"
   ]
  },
  {
   "cell_type": "code",
   "execution_count": null,
   "id": "167e0246-a127-4868-92dc-c13cc3cfd3dc",
   "metadata": {},
   "outputs": [],
   "source": [
    "filteredICD038 = D_ICDDiagnosis_DF.loc[D_ICDDiagnosis_DF['ICD9_CODE'].str.contains(\"38\", case=False)]\n",
    "display(filteredICD038)"
   ]
  },
  {
   "cell_type": "code",
   "execution_count": null,
   "id": "bc9a6cce-5bad-4f6e-8cc3-efdadc48208a",
   "metadata": {},
   "outputs": [],
   "source": [
    "filteredICD038Word = D_ICDDiagnosis_DF.loc[D_ICDDiagnosis_DF['LONG_TITLE'].str.contains(\"septicemia\", case=False)]\n",
    "display(filteredICD038Word)"
   ]
  },
  {
   "cell_type": "code",
   "execution_count": null,
   "id": "6d39b945-2479-436c-8032-47d6300fe678",
   "metadata": {},
   "outputs": [],
   "source": [
    "is_410 = D_ICDDiagnosis_DF[(D_ICDDiagnosis_DF['ICD9_CODE'].isin(['00410','0410', '410']))]\n",
    "display(is_410)"
   ]
  },
  {
   "cell_type": "code",
   "execution_count": null,
   "id": "28861277-dcf7-4aa0-8708-7f7a2fd1a829",
   "metadata": {},
   "outputs": [],
   "source": [
    "filteredICD410 = D_ICDDiagnosis_DF.loc[D_ICDDiagnosis_DF['ICD9_CODE'].str.contains(\"410\", case=False)]\n",
    "display(filteredICD410)"
   ]
  },
  {
   "cell_type": "code",
   "execution_count": null,
   "id": "4e59f919-4de2-4796-9466-0abfb4d8a4eb",
   "metadata": {},
   "outputs": [],
   "source": [
    "filteredICD410Word = D_ICDDiagnosis_DF.loc[D_ICDDiagnosis_DF['LONG_TITLE'].str.contains(\"myocardial\", case=False)]\n",
    "display(filteredICD410Word)"
   ]
  },
  {
   "cell_type": "code",
   "execution_count": null,
   "id": "68c07ec9-3c03-464b-aaaa-c2d0af1368ae",
   "metadata": {},
   "outputs": [],
   "source": [
    "is_424 = D_ICDDiagnosis_DF[(D_ICDDiagnosis_DF['ICD9_CODE'].isin(['00424','0424', '424']))]\n",
    "display(is_424)"
   ]
  },
  {
   "cell_type": "code",
   "execution_count": null,
   "id": "d5f8e416-e2da-4755-adb4-f903f8f12a32",
   "metadata": {},
   "outputs": [],
   "source": [
    "filteredICD424 = D_ICDDiagnosis_DF.loc[D_ICDDiagnosis_DF['ICD9_CODE'].str.contains(\"424\", case=False)]\n",
    "display(filteredICD424)"
   ]
  },
  {
   "cell_type": "code",
   "execution_count": null,
   "id": "e3951246-84b8-4fa7-904d-a3f767f25f3f",
   "metadata": {},
   "outputs": [],
   "source": [
    "filteredICD424Word = D_ICDDiagnosis_DF.loc[D_ICDDiagnosis_DF['LONG_TITLE'].str.contains(\"endocardium\", case=False)]\n",
    "display(filteredICD424Word)"
   ]
  }
 ],
 "metadata": {
  "kernelspec": {
   "display_name": "ML1010_env2",
   "language": "python",
   "name": "ml1010_env2"
  },
  "language_info": {
   "codemirror_mode": {
    "name": "ipython",
    "version": 3
   },
   "file_extension": ".py",
   "mimetype": "text/x-python",
   "name": "python",
   "nbconvert_exporter": "python",
   "pygments_lexer": "ipython3",
   "version": "3.7.13"
  }
 },
 "nbformat": 4,
 "nbformat_minor": 5
}
