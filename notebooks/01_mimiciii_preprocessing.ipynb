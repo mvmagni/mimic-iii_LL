{
 "cells": [
  {
   "cell_type": "markdown",
   "id": "203bd08b-d308-4088-98e2-2a3a1084bafb",
   "metadata": {
    "tags": []
   },
   "source": [
    "\n",
    "# MIMIC-III EDA and prep\n",
    "\n",
    "Cleaning and prep of diagnostic notes and related data from MIMIC-III dataset\n",
    "\n",
    "Repo: <a href=\"https://github.com/mvmagni/mimic-iii_LL\">github.com/mvmagni/mimic-iii_LL</a>\n",
    "\n",
    "Dataset location:\n",
    "\n",
    "    wget -r -N -c -np --user [username] --ask-password https://physionet.org/files/mimiciii/1.4/"
   ]
  },
  {
   "cell_type": "markdown",
   "id": "616ab917-44c8-44e4-9bd7-13e68838b69f",
   "metadata": {
    "jp-MarkdownHeadingCollapsed": true,
    "tags": []
   },
   "source": [
    "## Steps\n",
    "\n",
    "1. Import data\n",
    "    * NOTEEVENTS.csv\n",
    "    * DIAGNOSIS_ICD.csv\n",
    "2. DIAGNOSIS_ICD prep\n",
    "    * Action: Take first record over HADM_ID where SEQ_NUM==1 which contains the primary diagnoses. \n",
    "    * Data check: SEQ_NUM == 1 for all records, no nulls\n",
    "    * Data check: HADM_ID should be unique across all records, no nulls\n",
    "3. NOTEEVENTS prep\n",
    "    * Action: Trim to only include HADM_ID and TEXT columns\n",
    "    * Action: Drop null rows 231,836 NULL values in HADM_ID\n",
    "    * Data check: TEXT has no null values\n",
    "    * Data check: HADM_ID has no null values\n",
    "4. Combine TEXT in NOTEEVENTS for all HADM_ID\n",
    "    * Action: create new dataframe with unique HADM_ID where all TEXT values combined\n",
    "    * Data check: ensure combined frame has higher text length values (e.g. mean, max, stdev)\n",
    "    * Data check: combined TEXT has no null values\n",
    "    * Data check: unique HADM_ID across all records\n",
    "    * Data check: HADM_ID has no null values\n",
    "5. Output 1: Create dataframe where TEXT is not joined but has ICD9 Code for SEQ==1\n",
    "    * Data check: check that HADM_ID values all exist in both NOTES and DIAGNOSES before merge\n",
    "    * Action: Merge NOTES and DIAGNOSES (with uncombined TEXT) \n",
    "    * Data check: only common HADM_ID should remain after merge\n",
    "    * Data check: TEXT has no null values\n",
    "    * Data check: ICD9_CODE has no null values\n",
    "    * Data check: SEQ_NUM == 1 for all records \n",
    "    * Persist dataframe\n",
    "6. Output 2: Create dataframe where TEXT are joined and has ICD9 Code for SEQ==1\n",
    "    * Data check: check that HADM_ID values all exist in both NOTES and DIAGNOSES before merge\n",
    "    * Action: Merge NOTES and DIAGNOSES (with uncombined TEXT) \n",
    "    * Data check: only common HADM_ID should remain after merge\n",
    "    * Data check: TEXT has no null values\n",
    "    * Data check: ICD9_CODE has no null values\n",
    "    * Data check: SEQ_NUM == 1 for all records \n",
    "    * Persist dataframe\n",
    "7. Explore ICD9_CODE frequency in combined and separate NOTES data sets\n",
    "8. Persist custom set of stopwords for later use"
   ]
  },
  {
   "cell_type": "markdown",
   "id": "2f1d9624-8f40-4e12-a09f-bfdf20e4f45b",
   "metadata": {
    "id": "1QZKvJBJ7rlc",
    "tags": []
   },
   "source": [
    "\n",
    "# Initialize environment    "
   ]
  },
  {
   "cell_type": "code",
   "execution_count": 1,
   "id": "9fb462b6-b6f1-4954-9c3e-d36e3562353e",
   "metadata": {
    "colab": {
     "base_uri": "https://localhost:8080/"
    },
    "executionInfo": {
     "elapsed": 19195,
     "status": "ok",
     "timestamp": 1639849489183,
     "user": {
      "displayName": "Michael Vasiliou",
      "photoUrl": "https://lh3.googleusercontent.com/a/default-user=s64",
      "userId": "07079983815732559270"
     },
     "user_tz": 300
    },
    "id": "jgMPxKZBzfFw",
    "outputId": "ae39cdc2-271b-4bdf-a71b-40f4a11dc389"
   },
   "outputs": [
    {
     "name": "stdout",
     "output_type": "stream",
     "text": [
      "Environment configured:\n",
      "WORKING_DIR:   /home/magni/ML_Root/project_root/mimic-iii_LL/notebooks\n",
      "MAGRITTE_DIR:  /home/magni/ML_Root/project_root/mimic-iii_LL/notebooks/../../magritte\n",
      "UTILITIES_DIR: /home/magni/ML_Root/project_root/mimic-iii_LL/notebooks/../../magritte/utilities\n",
      "DATA_DIR:      /home/magni/ML_Root/project_root/mimic-iii_LL/notebooks/../../data/mimiciii\n"
     ]
    }
   ],
   "source": [
    "import sys\n",
    "import os\n",
    "\n",
    "WORKING_DIR = f'{os.getcwd()}'\n",
    "\n",
    "# Magritte has the utility functions we will be using\n",
    "# Set MAGRITTE_DIR to where you checked out the github repo\n",
    "# URL: github.com/mvmagni/magritte\n",
    "MAGRITTE_DIR = f'{WORKING_DIR}/../../magritte'\n",
    "UTILITIES_DIR = f'{MAGRITTE_DIR}/utilities'\n",
    "\n",
    "# Directory for loading and storing files\n",
    "DATA_DIR = f'{WORKING_DIR}/../../data/mimiciii'\n",
    "\n",
    "# Add the UTILITY_DIR to the path to import files\n",
    "sys.path.append(UTILITIES_DIR)\n",
    "\n",
    "print(f'Environment configured:')\n",
    "print(f'WORKING_DIR:   {WORKING_DIR}')\n",
    "print(f'MAGRITTE_DIR:  {MAGRITTE_DIR}')\n",
    "print(f'UTILITIES_DIR: {UTILITIES_DIR}')\n",
    "print(f'DATA_DIR:      {DATA_DIR}')\n"
   ]
  },
  {
   "cell_type": "code",
   "execution_count": 2,
   "id": "7acebed1-da05-4a5f-953b-f7a0d2f08197",
   "metadata": {},
   "outputs": [],
   "source": [
    "import pandas as pd\n",
    "import DataUtils\n",
    "import pickle"
   ]
  },
  {
   "cell_type": "markdown",
   "id": "182716fd-c93a-4957-9723-d22b0be9ab28",
   "metadata": {
    "tags": []
   },
   "source": [
    "# Load Data (MIMIC-III Dataset)"
   ]
  },
  {
   "cell_type": "code",
   "execution_count": 3,
   "id": "e6cbae24-83ae-47b7-95e5-1a11e1a8742d",
   "metadata": {},
   "outputs": [
    {
     "name": "stdout",
     "output_type": "stream",
     "text": [
      "CPU times: user 30.7 s, sys: 1.37 s, total: 32.1 s\n",
      "Wall time: 33.7 s\n"
     ]
    }
   ],
   "source": [
    "%%time\n",
    "# Loading two tables from MIMIC-III\n",
    "# 1) DIAGNOSES_ICD.csv.gz\n",
    "# 2) NOTEEVENTS.csv.gz\n",
    "\n",
    "DIAGNOSES_ICD_DF = pd.read_csv(f'{DATA_DIR}/DIAGNOSES_ICD.csv.gz',\n",
    "                              compression='gzip'\n",
    "                             )\n",
    "\n",
    "DATE_COLS=['CHARTTIME','STORETIME', 'CHARTDATE']\n",
    "NOTES_DF = pd.read_csv(f'{DATA_DIR}/NOTEEVENTS.csv.gz',\n",
    "                      parse_dates=DATE_COLS,\n",
    "                      compression='gzip'\n",
    "                     )"
   ]
  },
  {
   "cell_type": "markdown",
   "id": "a53cbf67-8a3f-43b8-b305-74da04494fd3",
   "metadata": {
    "tags": []
   },
   "source": [
    "## DIAGNOSES_ICD summary"
   ]
  },
  {
   "cell_type": "code",
   "execution_count": 4,
   "id": "accc4e64-2f01-439b-ae08-3153aba7e813",
   "metadata": {},
   "outputs": [
    {
     "name": "stdout",
     "output_type": "stream",
     "text": [
      "dataframe shape: (651047, 5)\n",
      "\n",
      "dataframe info: \n",
      "<class 'pandas.core.frame.DataFrame'>\n",
      "RangeIndex: 651047 entries, 0 to 651046\n",
      "Data columns (total 5 columns):\n",
      " #   Column      Non-Null Count   Dtype  \n",
      "---  ------      --------------   -----  \n",
      " 0   ROW_ID      651047 non-null  int64  \n",
      " 1   SUBJECT_ID  651047 non-null  int64  \n",
      " 2   HADM_ID     651047 non-null  int64  \n",
      " 3   SEQ_NUM     651000 non-null  float64\n",
      " 4   ICD9_CODE   651000 non-null  object \n",
      "dtypes: float64(1), int64(3), object(1)\n",
      "memory usage: 24.8+ MB\n",
      "None\n",
      "\n",
      "Null value count by column:\n"
     ]
    },
    {
     "data": {
      "text/plain": [
       "ROW_ID         0\n",
       "SUBJECT_ID     0\n",
       "HADM_ID        0\n",
       "SEQ_NUM       47\n",
       "ICD9_CODE     47\n",
       "dtype: int64"
      ]
     },
     "metadata": {},
     "output_type": "display_data"
    },
    {
     "name": "stdout",
     "output_type": "stream",
     "text": [
      "\n",
      "\n",
      "First 5 in dataframe\n"
     ]
    },
    {
     "data": {
      "text/html": [
       "<div>\n",
       "<style scoped>\n",
       "    .dataframe tbody tr th:only-of-type {\n",
       "        vertical-align: middle;\n",
       "    }\n",
       "\n",
       "    .dataframe tbody tr th {\n",
       "        vertical-align: top;\n",
       "    }\n",
       "\n",
       "    .dataframe thead th {\n",
       "        text-align: right;\n",
       "    }\n",
       "</style>\n",
       "<table border=\"1\" class=\"dataframe\">\n",
       "  <thead>\n",
       "    <tr style=\"text-align: right;\">\n",
       "      <th></th>\n",
       "      <th>ROW_ID</th>\n",
       "      <th>SUBJECT_ID</th>\n",
       "      <th>HADM_ID</th>\n",
       "      <th>SEQ_NUM</th>\n",
       "      <th>ICD9_CODE</th>\n",
       "    </tr>\n",
       "  </thead>\n",
       "  <tbody>\n",
       "    <tr>\n",
       "      <th>0</th>\n",
       "      <td>1297</td>\n",
       "      <td>109</td>\n",
       "      <td>172335</td>\n",
       "      <td>1.0</td>\n",
       "      <td>40301</td>\n",
       "    </tr>\n",
       "    <tr>\n",
       "      <th>1</th>\n",
       "      <td>1298</td>\n",
       "      <td>109</td>\n",
       "      <td>172335</td>\n",
       "      <td>2.0</td>\n",
       "      <td>486</td>\n",
       "    </tr>\n",
       "    <tr>\n",
       "      <th>2</th>\n",
       "      <td>1299</td>\n",
       "      <td>109</td>\n",
       "      <td>172335</td>\n",
       "      <td>3.0</td>\n",
       "      <td>58281</td>\n",
       "    </tr>\n",
       "    <tr>\n",
       "      <th>3</th>\n",
       "      <td>1300</td>\n",
       "      <td>109</td>\n",
       "      <td>172335</td>\n",
       "      <td>4.0</td>\n",
       "      <td>5855</td>\n",
       "    </tr>\n",
       "    <tr>\n",
       "      <th>4</th>\n",
       "      <td>1301</td>\n",
       "      <td>109</td>\n",
       "      <td>172335</td>\n",
       "      <td>5.0</td>\n",
       "      <td>4254</td>\n",
       "    </tr>\n",
       "  </tbody>\n",
       "</table>\n",
       "</div>"
      ],
      "text/plain": [
       "   ROW_ID  SUBJECT_ID  HADM_ID  SEQ_NUM ICD9_CODE\n",
       "0    1297         109   172335      1.0     40301\n",
       "1    1298         109   172335      2.0       486\n",
       "2    1299         109   172335      3.0     58281\n",
       "3    1300         109   172335      4.0      5855\n",
       "4    1301         109   172335      5.0      4254"
      ]
     },
     "metadata": {},
     "output_type": "display_data"
    },
    {
     "name": "stdout",
     "output_type": "stream",
     "text": [
      "\n",
      "Last 5 in dataframe\n"
     ]
    },
    {
     "data": {
      "text/html": [
       "<div>\n",
       "<style scoped>\n",
       "    .dataframe tbody tr th:only-of-type {\n",
       "        vertical-align: middle;\n",
       "    }\n",
       "\n",
       "    .dataframe tbody tr th {\n",
       "        vertical-align: top;\n",
       "    }\n",
       "\n",
       "    .dataframe thead th {\n",
       "        text-align: right;\n",
       "    }\n",
       "</style>\n",
       "<table border=\"1\" class=\"dataframe\">\n",
       "  <thead>\n",
       "    <tr style=\"text-align: right;\">\n",
       "      <th></th>\n",
       "      <th>ROW_ID</th>\n",
       "      <th>SUBJECT_ID</th>\n",
       "      <th>HADM_ID</th>\n",
       "      <th>SEQ_NUM</th>\n",
       "      <th>ICD9_CODE</th>\n",
       "    </tr>\n",
       "  </thead>\n",
       "  <tbody>\n",
       "    <tr>\n",
       "      <th>651042</th>\n",
       "      <td>639798</td>\n",
       "      <td>97503</td>\n",
       "      <td>188195</td>\n",
       "      <td>2.0</td>\n",
       "      <td>20280</td>\n",
       "    </tr>\n",
       "    <tr>\n",
       "      <th>651043</th>\n",
       "      <td>639799</td>\n",
       "      <td>97503</td>\n",
       "      <td>188195</td>\n",
       "      <td>3.0</td>\n",
       "      <td>V5869</td>\n",
       "    </tr>\n",
       "    <tr>\n",
       "      <th>651044</th>\n",
       "      <td>639800</td>\n",
       "      <td>97503</td>\n",
       "      <td>188195</td>\n",
       "      <td>4.0</td>\n",
       "      <td>V1279</td>\n",
       "    </tr>\n",
       "    <tr>\n",
       "      <th>651045</th>\n",
       "      <td>639801</td>\n",
       "      <td>97503</td>\n",
       "      <td>188195</td>\n",
       "      <td>5.0</td>\n",
       "      <td>5275</td>\n",
       "    </tr>\n",
       "    <tr>\n",
       "      <th>651046</th>\n",
       "      <td>639802</td>\n",
       "      <td>97503</td>\n",
       "      <td>188195</td>\n",
       "      <td>6.0</td>\n",
       "      <td>5569</td>\n",
       "    </tr>\n",
       "  </tbody>\n",
       "</table>\n",
       "</div>"
      ],
      "text/plain": [
       "        ROW_ID  SUBJECT_ID  HADM_ID  SEQ_NUM ICD9_CODE\n",
       "651042  639798       97503   188195      2.0     20280\n",
       "651043  639799       97503   188195      3.0     V5869\n",
       "651044  639800       97503   188195      4.0     V1279\n",
       "651045  639801       97503   188195      5.0      5275\n",
       "651046  639802       97503   188195      6.0      5569"
      ]
     },
     "metadata": {},
     "output_type": "display_data"
    }
   ],
   "source": [
    "DataUtils.exploreDataframe(DIAGNOSES_ICD_DF)"
   ]
  },
  {
   "cell_type": "code",
   "execution_count": 5,
   "id": "1d3d2f06-abab-462e-bd3d-3c9841bfb4c4",
   "metadata": {},
   "outputs": [
    {
     "name": "stdout",
     "output_type": "stream",
     "text": [
      "Data type of column [ICD9_CODE] is: object\n",
      "Total number of rows: 651047\n",
      "Unique values in column: 6985 [percent unique: 1.0999999999999999%]\n",
      "Null values in column: 47\n",
      "List of unique values:\n",
      "['40301' '486' '58281' ... 'E0070' '6940' '20930']\n",
      "\n",
      "Top 5 records by frequency for ICD9_CODE\n",
      "     ICD9_CODE  record_count\n",
      "1962      4019         20703\n",
      "2109      4280         13111\n",
      "2098     42731         12891\n",
      "2019     41401         12429\n",
      "2957      5849          9119\n",
      "\n",
      "Bottom 5 records by frequency for ICD9_CODE\n",
      "     ICD9_CODE  record_count\n",
      "6983     V9103             1\n",
      "6854      V562             1\n",
      "1336      3060             1\n",
      "202      07953             1\n",
      "1338      3062             1\n"
     ]
    }
   ],
   "source": [
    "_, _ = DataUtils.showUniqueColVals(DIAGNOSES_ICD_DF, 'ICD9_CODE')"
   ]
  },
  {
   "cell_type": "markdown",
   "id": "8489fa27-3553-4258-a21d-30168535f80d",
   "metadata": {
    "tags": []
   },
   "source": [
    "## NOTEEVENTS summary"
   ]
  },
  {
   "cell_type": "code",
   "execution_count": 6,
   "id": "43b10e8d-3986-489e-8c3d-5be9b8bb1710",
   "metadata": {},
   "outputs": [
    {
     "name": "stdout",
     "output_type": "stream",
     "text": [
      "dataframe shape: (2083180, 11)\n",
      "\n",
      "dataframe info: \n",
      "<class 'pandas.core.frame.DataFrame'>\n",
      "RangeIndex: 2083180 entries, 0 to 2083179\n",
      "Data columns (total 11 columns):\n",
      " #   Column       Dtype         \n",
      "---  ------       -----         \n",
      " 0   ROW_ID       int64         \n",
      " 1   SUBJECT_ID   int64         \n",
      " 2   HADM_ID      float64       \n",
      " 3   CHARTDATE    datetime64[ns]\n",
      " 4   CHARTTIME    datetime64[ns]\n",
      " 5   STORETIME    datetime64[ns]\n",
      " 6   CATEGORY     object        \n",
      " 7   DESCRIPTION  object        \n",
      " 8   CGID         float64       \n",
      " 9   ISERROR      float64       \n",
      " 10  TEXT         object        \n",
      "dtypes: datetime64[ns](3), float64(3), int64(2), object(3)\n",
      "memory usage: 174.8+ MB\n",
      "None\n",
      "\n",
      "Null value count by column:\n"
     ]
    },
    {
     "data": {
      "text/plain": [
       "ROW_ID               0\n",
       "SUBJECT_ID           0\n",
       "HADM_ID         231836\n",
       "CHARTDATE            0\n",
       "CHARTTIME       316566\n",
       "STORETIME       836776\n",
       "CATEGORY             0\n",
       "DESCRIPTION          0\n",
       "CGID            836776\n",
       "ISERROR        2082294\n",
       "TEXT                 0\n",
       "dtype: int64"
      ]
     },
     "metadata": {},
     "output_type": "display_data"
    },
    {
     "name": "stdout",
     "output_type": "stream",
     "text": [
      "\n",
      "\n",
      "First 5 in dataframe\n"
     ]
    },
    {
     "data": {
      "text/html": [
       "<div>\n",
       "<style scoped>\n",
       "    .dataframe tbody tr th:only-of-type {\n",
       "        vertical-align: middle;\n",
       "    }\n",
       "\n",
       "    .dataframe tbody tr th {\n",
       "        vertical-align: top;\n",
       "    }\n",
       "\n",
       "    .dataframe thead th {\n",
       "        text-align: right;\n",
       "    }\n",
       "</style>\n",
       "<table border=\"1\" class=\"dataframe\">\n",
       "  <thead>\n",
       "    <tr style=\"text-align: right;\">\n",
       "      <th></th>\n",
       "      <th>ROW_ID</th>\n",
       "      <th>SUBJECT_ID</th>\n",
       "      <th>HADM_ID</th>\n",
       "      <th>CHARTDATE</th>\n",
       "      <th>CHARTTIME</th>\n",
       "      <th>STORETIME</th>\n",
       "      <th>CATEGORY</th>\n",
       "      <th>DESCRIPTION</th>\n",
       "      <th>CGID</th>\n",
       "      <th>ISERROR</th>\n",
       "      <th>TEXT</th>\n",
       "    </tr>\n",
       "  </thead>\n",
       "  <tbody>\n",
       "    <tr>\n",
       "      <th>0</th>\n",
       "      <td>174</td>\n",
       "      <td>22532</td>\n",
       "      <td>167853.0</td>\n",
       "      <td>2151-08-04</td>\n",
       "      <td>NaT</td>\n",
       "      <td>NaT</td>\n",
       "      <td>Discharge summary</td>\n",
       "      <td>Report</td>\n",
       "      <td>NaN</td>\n",
       "      <td>NaN</td>\n",
       "      <td>Admission Date:  [**2151-7-16**]       Dischar...</td>\n",
       "    </tr>\n",
       "    <tr>\n",
       "      <th>1</th>\n",
       "      <td>175</td>\n",
       "      <td>13702</td>\n",
       "      <td>107527.0</td>\n",
       "      <td>2118-06-14</td>\n",
       "      <td>NaT</td>\n",
       "      <td>NaT</td>\n",
       "      <td>Discharge summary</td>\n",
       "      <td>Report</td>\n",
       "      <td>NaN</td>\n",
       "      <td>NaN</td>\n",
       "      <td>Admission Date:  [**2118-6-2**]       Discharg...</td>\n",
       "    </tr>\n",
       "    <tr>\n",
       "      <th>2</th>\n",
       "      <td>176</td>\n",
       "      <td>13702</td>\n",
       "      <td>167118.0</td>\n",
       "      <td>2119-05-25</td>\n",
       "      <td>NaT</td>\n",
       "      <td>NaT</td>\n",
       "      <td>Discharge summary</td>\n",
       "      <td>Report</td>\n",
       "      <td>NaN</td>\n",
       "      <td>NaN</td>\n",
       "      <td>Admission Date:  [**2119-5-4**]              D...</td>\n",
       "    </tr>\n",
       "    <tr>\n",
       "      <th>3</th>\n",
       "      <td>177</td>\n",
       "      <td>13702</td>\n",
       "      <td>196489.0</td>\n",
       "      <td>2124-08-18</td>\n",
       "      <td>NaT</td>\n",
       "      <td>NaT</td>\n",
       "      <td>Discharge summary</td>\n",
       "      <td>Report</td>\n",
       "      <td>NaN</td>\n",
       "      <td>NaN</td>\n",
       "      <td>Admission Date:  [**2124-7-21**]              ...</td>\n",
       "    </tr>\n",
       "    <tr>\n",
       "      <th>4</th>\n",
       "      <td>178</td>\n",
       "      <td>26880</td>\n",
       "      <td>135453.0</td>\n",
       "      <td>2162-03-25</td>\n",
       "      <td>NaT</td>\n",
       "      <td>NaT</td>\n",
       "      <td>Discharge summary</td>\n",
       "      <td>Report</td>\n",
       "      <td>NaN</td>\n",
       "      <td>NaN</td>\n",
       "      <td>Admission Date:  [**2162-3-3**]              D...</td>\n",
       "    </tr>\n",
       "  </tbody>\n",
       "</table>\n",
       "</div>"
      ],
      "text/plain": [
       "   ROW_ID  SUBJECT_ID   HADM_ID  CHARTDATE CHARTTIME STORETIME  \\\n",
       "0     174       22532  167853.0 2151-08-04       NaT       NaT   \n",
       "1     175       13702  107527.0 2118-06-14       NaT       NaT   \n",
       "2     176       13702  167118.0 2119-05-25       NaT       NaT   \n",
       "3     177       13702  196489.0 2124-08-18       NaT       NaT   \n",
       "4     178       26880  135453.0 2162-03-25       NaT       NaT   \n",
       "\n",
       "            CATEGORY DESCRIPTION  CGID  ISERROR  \\\n",
       "0  Discharge summary      Report   NaN      NaN   \n",
       "1  Discharge summary      Report   NaN      NaN   \n",
       "2  Discharge summary      Report   NaN      NaN   \n",
       "3  Discharge summary      Report   NaN      NaN   \n",
       "4  Discharge summary      Report   NaN      NaN   \n",
       "\n",
       "                                                TEXT  \n",
       "0  Admission Date:  [**2151-7-16**]       Dischar...  \n",
       "1  Admission Date:  [**2118-6-2**]       Discharg...  \n",
       "2  Admission Date:  [**2119-5-4**]              D...  \n",
       "3  Admission Date:  [**2124-7-21**]              ...  \n",
       "4  Admission Date:  [**2162-3-3**]              D...  "
      ]
     },
     "metadata": {},
     "output_type": "display_data"
    },
    {
     "name": "stdout",
     "output_type": "stream",
     "text": [
      "\n",
      "Last 5 in dataframe\n"
     ]
    },
    {
     "data": {
      "text/html": [
       "<div>\n",
       "<style scoped>\n",
       "    .dataframe tbody tr th:only-of-type {\n",
       "        vertical-align: middle;\n",
       "    }\n",
       "\n",
       "    .dataframe tbody tr th {\n",
       "        vertical-align: top;\n",
       "    }\n",
       "\n",
       "    .dataframe thead th {\n",
       "        text-align: right;\n",
       "    }\n",
       "</style>\n",
       "<table border=\"1\" class=\"dataframe\">\n",
       "  <thead>\n",
       "    <tr style=\"text-align: right;\">\n",
       "      <th></th>\n",
       "      <th>ROW_ID</th>\n",
       "      <th>SUBJECT_ID</th>\n",
       "      <th>HADM_ID</th>\n",
       "      <th>CHARTDATE</th>\n",
       "      <th>CHARTTIME</th>\n",
       "      <th>STORETIME</th>\n",
       "      <th>CATEGORY</th>\n",
       "      <th>DESCRIPTION</th>\n",
       "      <th>CGID</th>\n",
       "      <th>ISERROR</th>\n",
       "      <th>TEXT</th>\n",
       "    </tr>\n",
       "  </thead>\n",
       "  <tbody>\n",
       "    <tr>\n",
       "      <th>2083175</th>\n",
       "      <td>2070657</td>\n",
       "      <td>31097</td>\n",
       "      <td>115637.0</td>\n",
       "      <td>2132-01-21</td>\n",
       "      <td>2132-01-21 03:27:00</td>\n",
       "      <td>2132-01-21 03:38:00</td>\n",
       "      <td>Nursing/other</td>\n",
       "      <td>Report</td>\n",
       "      <td>17581.0</td>\n",
       "      <td>NaN</td>\n",
       "      <td>NPN\\n\\n\\n#1  Infant remains in RA with O2 sats...</td>\n",
       "    </tr>\n",
       "    <tr>\n",
       "      <th>2083176</th>\n",
       "      <td>2070658</td>\n",
       "      <td>31097</td>\n",
       "      <td>115637.0</td>\n",
       "      <td>2132-01-21</td>\n",
       "      <td>2132-01-21 09:50:00</td>\n",
       "      <td>2132-01-21 09:53:00</td>\n",
       "      <td>Nursing/other</td>\n",
       "      <td>Report</td>\n",
       "      <td>19211.0</td>\n",
       "      <td>NaN</td>\n",
       "      <td>Neonatology\\nDOL #5, CGA 36 weeks.\\n\\nCVR: Con...</td>\n",
       "    </tr>\n",
       "    <tr>\n",
       "      <th>2083177</th>\n",
       "      <td>2070659</td>\n",
       "      <td>31097</td>\n",
       "      <td>115637.0</td>\n",
       "      <td>2132-01-21</td>\n",
       "      <td>2132-01-21 16:42:00</td>\n",
       "      <td>2132-01-21 16:44:00</td>\n",
       "      <td>Nursing/other</td>\n",
       "      <td>Report</td>\n",
       "      <td>20104.0</td>\n",
       "      <td>NaN</td>\n",
       "      <td>Family Meeting Note\\nFamily meeting held with ...</td>\n",
       "    </tr>\n",
       "    <tr>\n",
       "      <th>2083178</th>\n",
       "      <td>2070660</td>\n",
       "      <td>31097</td>\n",
       "      <td>115637.0</td>\n",
       "      <td>2132-01-21</td>\n",
       "      <td>2132-01-21 18:05:00</td>\n",
       "      <td>2132-01-21 18:16:00</td>\n",
       "      <td>Nursing/other</td>\n",
       "      <td>Report</td>\n",
       "      <td>16023.0</td>\n",
       "      <td>NaN</td>\n",
       "      <td>NPN 1800\\n\\n\\n#1 Resp: [**Known lastname 2243*...</td>\n",
       "    </tr>\n",
       "    <tr>\n",
       "      <th>2083179</th>\n",
       "      <td>2070661</td>\n",
       "      <td>31097</td>\n",
       "      <td>115637.0</td>\n",
       "      <td>2132-01-21</td>\n",
       "      <td>2132-01-21 18:05:00</td>\n",
       "      <td>2132-01-21 18:31:00</td>\n",
       "      <td>Nursing/other</td>\n",
       "      <td>Report</td>\n",
       "      <td>16023.0</td>\n",
       "      <td>NaN</td>\n",
       "      <td>NPN 1800\\nNursing Addendum:\\n[**Known lastname...</td>\n",
       "    </tr>\n",
       "  </tbody>\n",
       "</table>\n",
       "</div>"
      ],
      "text/plain": [
       "          ROW_ID  SUBJECT_ID   HADM_ID  CHARTDATE           CHARTTIME  \\\n",
       "2083175  2070657       31097  115637.0 2132-01-21 2132-01-21 03:27:00   \n",
       "2083176  2070658       31097  115637.0 2132-01-21 2132-01-21 09:50:00   \n",
       "2083177  2070659       31097  115637.0 2132-01-21 2132-01-21 16:42:00   \n",
       "2083178  2070660       31097  115637.0 2132-01-21 2132-01-21 18:05:00   \n",
       "2083179  2070661       31097  115637.0 2132-01-21 2132-01-21 18:05:00   \n",
       "\n",
       "                  STORETIME       CATEGORY DESCRIPTION     CGID  ISERROR  \\\n",
       "2083175 2132-01-21 03:38:00  Nursing/other      Report  17581.0      NaN   \n",
       "2083176 2132-01-21 09:53:00  Nursing/other      Report  19211.0      NaN   \n",
       "2083177 2132-01-21 16:44:00  Nursing/other      Report  20104.0      NaN   \n",
       "2083178 2132-01-21 18:16:00  Nursing/other      Report  16023.0      NaN   \n",
       "2083179 2132-01-21 18:31:00  Nursing/other      Report  16023.0      NaN   \n",
       "\n",
       "                                                      TEXT  \n",
       "2083175  NPN\\n\\n\\n#1  Infant remains in RA with O2 sats...  \n",
       "2083176  Neonatology\\nDOL #5, CGA 36 weeks.\\n\\nCVR: Con...  \n",
       "2083177  Family Meeting Note\\nFamily meeting held with ...  \n",
       "2083178  NPN 1800\\n\\n\\n#1 Resp: [**Known lastname 2243*...  \n",
       "2083179  NPN 1800\\nNursing Addendum:\\n[**Known lastname...  "
      ]
     },
     "metadata": {},
     "output_type": "display_data"
    }
   ],
   "source": [
    "DataUtils.exploreDataframe(NOTES_DF)"
   ]
  },
  {
   "cell_type": "code",
   "execution_count": 7,
   "id": "53937c85-def3-4765-9560-1b9ba865b8b4",
   "metadata": {},
   "outputs": [
    {
     "name": "stdout",
     "output_type": "stream",
     "text": [
      "Data type of column [HADM_ID] is: float64\n",
      "Total number of rows: 2083180\n",
      "Unique values in column: 58362 [percent unique: 2.8000000000000003%]\n",
      "Null values in column: 231836\n",
      "List of unique values:\n",
      "[167853. 107527. 167118. ... 132855. 115098. 175166.]\n",
      "\n",
      "Top 5 records by frequency for HADM_ID\n",
      "        HADM_ID  record_count\n",
      "10266  117448.0          1233\n",
      "23848  140792.0          1144\n",
      "22421  138363.0          1099\n",
      "44071  175448.0          1084\n",
      "53982  192431.0          1073\n",
      "\n",
      "Bottom 5 records by frequency for HADM_ID\n",
      "        HADM_ID  record_count\n",
      "29180  149973.0             1\n",
      "56293  196399.0             1\n",
      "38232  165601.0             1\n",
      "38166  165500.0             1\n",
      "38108  165375.0             1\n"
     ]
    }
   ],
   "source": [
    "_ = DataUtils.showUniqueColVals(NOTES_DF, 'HADM_ID')"
   ]
  },
  {
   "cell_type": "code",
   "execution_count": 8,
   "id": "af6bfb67-1106-463f-b509-a7bd11830e23",
   "metadata": {},
   "outputs": [
    {
     "name": "stdout",
     "output_type": "stream",
     "text": [
      "Data type of column [CATEGORY] is: object\n",
      "Total number of rows: 2083180\n",
      "Unique values in column: 15 [percent unique: 0.0%]\n",
      "Null values in column: 0\n",
      "List of unique values:\n",
      "['Discharge summary' 'Echo' 'ECG' 'Nursing' 'Physician ' 'Rehab Services'\n",
      " 'Case Management ' 'Respiratory ' 'Nutrition' 'General' 'Social Work'\n",
      " 'Pharmacy' 'Consult' 'Radiology' 'Nursing/other']\n",
      "\n",
      "Top 15 records by frequency for CATEGORY\n",
      "             CATEGORY  record_count\n",
      "7       Nursing/other        822497\n",
      "11          Radiology        522279\n",
      "6             Nursing        223556\n",
      "3                 ECG        209051\n",
      "10         Physician         141624\n",
      "2   Discharge summary         59652\n",
      "4                Echo         45794\n",
      "13       Respiratory          31739\n",
      "8           Nutrition          9418\n",
      "5             General          8301\n",
      "12     Rehab Services          5431\n",
      "14        Social Work          2670\n",
      "0    Case Management            967\n",
      "9            Pharmacy           103\n",
      "1             Consult            98\n",
      "\n",
      "Bottom 15 records by frequency for CATEGORY\n",
      "             CATEGORY  record_count\n",
      "1             Consult            98\n",
      "9            Pharmacy           103\n",
      "0    Case Management            967\n",
      "14        Social Work          2670\n",
      "12     Rehab Services          5431\n",
      "5             General          8301\n",
      "8           Nutrition          9418\n",
      "13       Respiratory          31739\n",
      "4                Echo         45794\n",
      "2   Discharge summary         59652\n",
      "10         Physician         141624\n",
      "3                 ECG        209051\n",
      "6             Nursing        223556\n",
      "11          Radiology        522279\n",
      "7       Nursing/other        822497\n"
     ]
    }
   ],
   "source": [
    "_ = DataUtils.showUniqueColVals(NOTES_DF, 'CATEGORY', showRecords=15)"
   ]
  },
  {
   "cell_type": "markdown",
   "id": "afc1687c-7350-4e19-9b19-f5a09a676f42",
   "metadata": {
    "tags": []
   },
   "source": [
    "\n",
    "# DIAGNOSES_ICD explore and prep"
   ]
  },
  {
   "cell_type": "code",
   "execution_count": 9,
   "id": "6c000cd8-e72c-48ac-b83f-9c4ac99ec4e7",
   "metadata": {},
   "outputs": [
    {
     "name": "stdout",
     "output_type": "stream",
     "text": [
      "dataframe shape: (651047, 5)\n",
      "\n",
      "dataframe info: \n",
      "<class 'pandas.core.frame.DataFrame'>\n",
      "RangeIndex: 651047 entries, 0 to 651046\n",
      "Data columns (total 5 columns):\n",
      " #   Column      Non-Null Count   Dtype  \n",
      "---  ------      --------------   -----  \n",
      " 0   ROW_ID      651047 non-null  int64  \n",
      " 1   SUBJECT_ID  651047 non-null  int64  \n",
      " 2   HADM_ID     651047 non-null  int64  \n",
      " 3   SEQ_NUM     651000 non-null  float64\n",
      " 4   ICD9_CODE   651000 non-null  object \n",
      "dtypes: float64(1), int64(3), object(1)\n",
      "memory usage: 24.8+ MB\n",
      "None\n",
      "\n",
      "Null value count by column:\n"
     ]
    },
    {
     "data": {
      "text/plain": [
       "ROW_ID         0\n",
       "SUBJECT_ID     0\n",
       "HADM_ID        0\n",
       "SEQ_NUM       47\n",
       "ICD9_CODE     47\n",
       "dtype: int64"
      ]
     },
     "metadata": {},
     "output_type": "display_data"
    },
    {
     "name": "stdout",
     "output_type": "stream",
     "text": [
      "\n",
      "\n",
      "First 5 in dataframe\n"
     ]
    },
    {
     "data": {
      "text/html": [
       "<div>\n",
       "<style scoped>\n",
       "    .dataframe tbody tr th:only-of-type {\n",
       "        vertical-align: middle;\n",
       "    }\n",
       "\n",
       "    .dataframe tbody tr th {\n",
       "        vertical-align: top;\n",
       "    }\n",
       "\n",
       "    .dataframe thead th {\n",
       "        text-align: right;\n",
       "    }\n",
       "</style>\n",
       "<table border=\"1\" class=\"dataframe\">\n",
       "  <thead>\n",
       "    <tr style=\"text-align: right;\">\n",
       "      <th></th>\n",
       "      <th>ROW_ID</th>\n",
       "      <th>SUBJECT_ID</th>\n",
       "      <th>HADM_ID</th>\n",
       "      <th>SEQ_NUM</th>\n",
       "      <th>ICD9_CODE</th>\n",
       "    </tr>\n",
       "  </thead>\n",
       "  <tbody>\n",
       "    <tr>\n",
       "      <th>0</th>\n",
       "      <td>1297</td>\n",
       "      <td>109</td>\n",
       "      <td>172335</td>\n",
       "      <td>1.0</td>\n",
       "      <td>40301</td>\n",
       "    </tr>\n",
       "    <tr>\n",
       "      <th>1</th>\n",
       "      <td>1298</td>\n",
       "      <td>109</td>\n",
       "      <td>172335</td>\n",
       "      <td>2.0</td>\n",
       "      <td>486</td>\n",
       "    </tr>\n",
       "    <tr>\n",
       "      <th>2</th>\n",
       "      <td>1299</td>\n",
       "      <td>109</td>\n",
       "      <td>172335</td>\n",
       "      <td>3.0</td>\n",
       "      <td>58281</td>\n",
       "    </tr>\n",
       "    <tr>\n",
       "      <th>3</th>\n",
       "      <td>1300</td>\n",
       "      <td>109</td>\n",
       "      <td>172335</td>\n",
       "      <td>4.0</td>\n",
       "      <td>5855</td>\n",
       "    </tr>\n",
       "    <tr>\n",
       "      <th>4</th>\n",
       "      <td>1301</td>\n",
       "      <td>109</td>\n",
       "      <td>172335</td>\n",
       "      <td>5.0</td>\n",
       "      <td>4254</td>\n",
       "    </tr>\n",
       "  </tbody>\n",
       "</table>\n",
       "</div>"
      ],
      "text/plain": [
       "   ROW_ID  SUBJECT_ID  HADM_ID  SEQ_NUM ICD9_CODE\n",
       "0    1297         109   172335      1.0     40301\n",
       "1    1298         109   172335      2.0       486\n",
       "2    1299         109   172335      3.0     58281\n",
       "3    1300         109   172335      4.0      5855\n",
       "4    1301         109   172335      5.0      4254"
      ]
     },
     "metadata": {},
     "output_type": "display_data"
    },
    {
     "name": "stdout",
     "output_type": "stream",
     "text": [
      "\n",
      "Last 5 in dataframe\n"
     ]
    },
    {
     "data": {
      "text/html": [
       "<div>\n",
       "<style scoped>\n",
       "    .dataframe tbody tr th:only-of-type {\n",
       "        vertical-align: middle;\n",
       "    }\n",
       "\n",
       "    .dataframe tbody tr th {\n",
       "        vertical-align: top;\n",
       "    }\n",
       "\n",
       "    .dataframe thead th {\n",
       "        text-align: right;\n",
       "    }\n",
       "</style>\n",
       "<table border=\"1\" class=\"dataframe\">\n",
       "  <thead>\n",
       "    <tr style=\"text-align: right;\">\n",
       "      <th></th>\n",
       "      <th>ROW_ID</th>\n",
       "      <th>SUBJECT_ID</th>\n",
       "      <th>HADM_ID</th>\n",
       "      <th>SEQ_NUM</th>\n",
       "      <th>ICD9_CODE</th>\n",
       "    </tr>\n",
       "  </thead>\n",
       "  <tbody>\n",
       "    <tr>\n",
       "      <th>651042</th>\n",
       "      <td>639798</td>\n",
       "      <td>97503</td>\n",
       "      <td>188195</td>\n",
       "      <td>2.0</td>\n",
       "      <td>20280</td>\n",
       "    </tr>\n",
       "    <tr>\n",
       "      <th>651043</th>\n",
       "      <td>639799</td>\n",
       "      <td>97503</td>\n",
       "      <td>188195</td>\n",
       "      <td>3.0</td>\n",
       "      <td>V5869</td>\n",
       "    </tr>\n",
       "    <tr>\n",
       "      <th>651044</th>\n",
       "      <td>639800</td>\n",
       "      <td>97503</td>\n",
       "      <td>188195</td>\n",
       "      <td>4.0</td>\n",
       "      <td>V1279</td>\n",
       "    </tr>\n",
       "    <tr>\n",
       "      <th>651045</th>\n",
       "      <td>639801</td>\n",
       "      <td>97503</td>\n",
       "      <td>188195</td>\n",
       "      <td>5.0</td>\n",
       "      <td>5275</td>\n",
       "    </tr>\n",
       "    <tr>\n",
       "      <th>651046</th>\n",
       "      <td>639802</td>\n",
       "      <td>97503</td>\n",
       "      <td>188195</td>\n",
       "      <td>6.0</td>\n",
       "      <td>5569</td>\n",
       "    </tr>\n",
       "  </tbody>\n",
       "</table>\n",
       "</div>"
      ],
      "text/plain": [
       "        ROW_ID  SUBJECT_ID  HADM_ID  SEQ_NUM ICD9_CODE\n",
       "651042  639798       97503   188195      2.0     20280\n",
       "651043  639799       97503   188195      3.0     V5869\n",
       "651044  639800       97503   188195      4.0     V1279\n",
       "651045  639801       97503   188195      5.0      5275\n",
       "651046  639802       97503   188195      6.0      5569"
      ]
     },
     "metadata": {},
     "output_type": "display_data"
    }
   ],
   "source": [
    "DataUtils.exploreDataframe(DIAGNOSES_ICD_DF)"
   ]
  },
  {
   "cell_type": "code",
   "execution_count": 10,
   "id": "b9c271f5-5c32-4f80-8851-6166ef6b5832",
   "metadata": {
    "tags": []
   },
   "outputs": [
    {
     "name": "stdout",
     "output_type": "stream",
     "text": [
      "Data type of column [SEQ_NUM] is: float64\n",
      "Total number of rows: 58929\n",
      "Unique values in column: 1 [percent unique: 0.0%]\n",
      "Null values in column: 0\n",
      "List of unique values:\n",
      "[1.]\n",
      "\n",
      "Top 10 records by frequency for SEQ_NUM\n",
      "   SEQ_NUM  record_count\n",
      "0      1.0         58929\n",
      "\n",
      "Bottom 10 records by frequency for SEQ_NUM\n",
      "   SEQ_NUM  record_count\n",
      "0      1.0         58929\n"
     ]
    }
   ],
   "source": [
    "# Choose only the first record\n",
    "# Business process: First record contains primary diagnosis for the patient\n",
    "\n",
    "# Original research project filtered on keep=first. Used SEQ_NUM==1.0\n",
    "#DIAGNOSES_ICD_DF_working = DIAGNOSES_ICD_DF.sort_values('SEQ_NUM').drop_duplicates('HADM_ID', keep='first')\n",
    "DIAGNOSES_ICD_DF_working = DIAGNOSES_ICD_DF[(DIAGNOSES_ICD_DF['SEQ_NUM'] == 1.0)]\n",
    "\n",
    "# Check value of SEQ_NUM. Should all be 1.0\n",
    "_ = DataUtils.showUniqueColVals(DIAGNOSES_ICD_DF_working, 'SEQ_NUM', showRecords=10)"
   ]
  },
  {
   "cell_type": "code",
   "execution_count": 11,
   "id": "ffbe2bc4-9720-42bb-a435-598727a96954",
   "metadata": {
    "tags": []
   },
   "outputs": [
    {
     "name": "stdout",
     "output_type": "stream",
     "text": [
      "Data type of column [ICD9_CODE] is: object\n",
      "Total number of rows: 58929\n",
      "Unique values in column: 2789 [percent unique: 4.7%]\n",
      "Null values in column: 0\n",
      "List of unique values:\n",
      "['40301' '53100' '1915' ... '5730' '2592' '0529']\n",
      "\n",
      "Top 5 records by frequency for ICD9_CODE\n",
      "     ICD9_CODE  record_count\n",
      "2749     V3000          3566\n",
      "837      41401          3498\n",
      "2750     V3001          2757\n",
      "47        0389          2069\n",
      "826      41071          1751\n",
      "\n",
      "Bottom 5 records by frequency for ICD9_CODE\n",
      "     ICD9_CODE  record_count\n",
      "2788     V7281             1\n",
      "622      29289             1\n",
      "625      29522             1\n",
      "626      29524             1\n",
      "627      29590             1\n"
     ]
    }
   ],
   "source": [
    "# Check counts for ICD9_CODE\n",
    "_ = DataUtils.showUniqueColVals(DIAGNOSES_ICD_DF_working, \n",
    "                                'ICD9_CODE', showRecords=5)"
   ]
  },
  {
   "cell_type": "code",
   "execution_count": 12,
   "id": "58ee7900-2acf-4ffd-a324-14bdf37825a0",
   "metadata": {
    "tags": []
   },
   "outputs": [
    {
     "name": "stdout",
     "output_type": "stream",
     "text": [
      "Data type of column [HADM_ID] is: int64\n",
      "Total number of rows: 58929\n",
      "Unique values in column: 58929 [percent unique: 100.0%]\n",
      "Null values in column: 0\n",
      "List of unique values:\n",
      "[172335 173633 174105 ... 189314 168949 188195]\n",
      "\n",
      "Top 1 records by frequency for HADM_ID\n",
      "   HADM_ID  record_count\n",
      "0   100001             1\n",
      "\n",
      "Bottom 1 records by frequency for HADM_ID\n",
      "   HADM_ID  record_count\n",
      "0   100001             1\n"
     ]
    }
   ],
   "source": [
    "# Check uniqueness of HADM_ID, should be 100% unique\n",
    "_ = DataUtils.showUniqueColVals(DIAGNOSES_ICD_DF_working, 'HADM_ID', showRecords=1)"
   ]
  },
  {
   "cell_type": "code",
   "execution_count": 13,
   "id": "360264b6-8892-4af2-99b9-37142109e8c1",
   "metadata": {},
   "outputs": [
    {
     "name": "stdout",
     "output_type": "stream",
     "text": [
      "PASS: SEQ_NUM is only 1.0 for all entries\n",
      "PASS: SEQ_NUM contains no null values\n",
      "PASS: HADM_ID is 100% unique\n",
      "PASS: HADM_ID contains no null values\n"
     ]
    }
   ],
   "source": [
    "# Sanity check: DIAGNOSES_ICD_DF_working\n",
    "\n",
    "# 1) SEQ_NUM==1 for all records\n",
    "assert(DIAGNOSES_ICD_DF_working['SEQ_NUM'].loc[DIAGNOSES_ICD_DF['SEQ_NUM'].isin([1.0])].nunique())==1\n",
    "print(f'PASS: SEQ_NUM is only 1.0 for all entries')\n",
    "\n",
    "# 2) SEQ_NUM has no nulls\n",
    "assert(DIAGNOSES_ICD_DF_working['SEQ_NUM'].isnull().sum()==0)\n",
    "print(f'PASS: SEQ_NUM contains no null values')\n",
    "\n",
    "# 3) HADM_ID == 100% unique\n",
    "assert(DIAGNOSES_ICD_DF_working['HADM_ID'].nunique()==len(DIAGNOSES_ICD_DF_working))\n",
    "print(f'PASS: HADM_ID is 100% unique')\n",
    "\n",
    "# 4) HADM_ID has no nulls\n",
    "assert(DIAGNOSES_ICD_DF_working['HADM_ID'].isnull().sum()==0)\n",
    "print(f'PASS: HADM_ID contains no null values')\n",
    "\n"
   ]
  },
  {
   "cell_type": "markdown",
   "id": "cbb4db51-670c-4d2d-8cc0-e319f3cb2b69",
   "metadata": {
    "tags": []
   },
   "source": [
    "\n",
    "# NOTEEVENTS explore and prep"
   ]
  },
  {
   "cell_type": "code",
   "execution_count": 14,
   "id": "ce56c8c5-06dd-4bb8-9fef-1bfb05443a8b",
   "metadata": {
    "tags": []
   },
   "outputs": [
    {
     "name": "stdout",
     "output_type": "stream",
     "text": [
      "dataframe shape: (2083180, 11)\n",
      "\n",
      "dataframe info: \n",
      "<class 'pandas.core.frame.DataFrame'>\n",
      "RangeIndex: 2083180 entries, 0 to 2083179\n",
      "Data columns (total 11 columns):\n",
      " #   Column       Dtype         \n",
      "---  ------       -----         \n",
      " 0   ROW_ID       int64         \n",
      " 1   SUBJECT_ID   int64         \n",
      " 2   HADM_ID      float64       \n",
      " 3   CHARTDATE    datetime64[ns]\n",
      " 4   CHARTTIME    datetime64[ns]\n",
      " 5   STORETIME    datetime64[ns]\n",
      " 6   CATEGORY     object        \n",
      " 7   DESCRIPTION  object        \n",
      " 8   CGID         float64       \n",
      " 9   ISERROR      float64       \n",
      " 10  TEXT         object        \n",
      "dtypes: datetime64[ns](3), float64(3), int64(2), object(3)\n",
      "memory usage: 174.8+ MB\n",
      "None\n",
      "\n",
      "Null value count by column:\n"
     ]
    },
    {
     "data": {
      "text/plain": [
       "ROW_ID               0\n",
       "SUBJECT_ID           0\n",
       "HADM_ID         231836\n",
       "CHARTDATE            0\n",
       "CHARTTIME       316566\n",
       "STORETIME       836776\n",
       "CATEGORY             0\n",
       "DESCRIPTION          0\n",
       "CGID            836776\n",
       "ISERROR        2082294\n",
       "TEXT                 0\n",
       "dtype: int64"
      ]
     },
     "metadata": {},
     "output_type": "display_data"
    },
    {
     "name": "stdout",
     "output_type": "stream",
     "text": [
      "\n",
      "\n",
      "First 1 in dataframe\n"
     ]
    },
    {
     "data": {
      "text/html": [
       "<div>\n",
       "<style scoped>\n",
       "    .dataframe tbody tr th:only-of-type {\n",
       "        vertical-align: middle;\n",
       "    }\n",
       "\n",
       "    .dataframe tbody tr th {\n",
       "        vertical-align: top;\n",
       "    }\n",
       "\n",
       "    .dataframe thead th {\n",
       "        text-align: right;\n",
       "    }\n",
       "</style>\n",
       "<table border=\"1\" class=\"dataframe\">\n",
       "  <thead>\n",
       "    <tr style=\"text-align: right;\">\n",
       "      <th></th>\n",
       "      <th>ROW_ID</th>\n",
       "      <th>SUBJECT_ID</th>\n",
       "      <th>HADM_ID</th>\n",
       "      <th>CHARTDATE</th>\n",
       "      <th>CHARTTIME</th>\n",
       "      <th>STORETIME</th>\n",
       "      <th>CATEGORY</th>\n",
       "      <th>DESCRIPTION</th>\n",
       "      <th>CGID</th>\n",
       "      <th>ISERROR</th>\n",
       "      <th>TEXT</th>\n",
       "    </tr>\n",
       "  </thead>\n",
       "  <tbody>\n",
       "    <tr>\n",
       "      <th>0</th>\n",
       "      <td>174</td>\n",
       "      <td>22532</td>\n",
       "      <td>167853.0</td>\n",
       "      <td>2151-08-04</td>\n",
       "      <td>NaT</td>\n",
       "      <td>NaT</td>\n",
       "      <td>Discharge summary</td>\n",
       "      <td>Report</td>\n",
       "      <td>NaN</td>\n",
       "      <td>NaN</td>\n",
       "      <td>Admission Date:  [**2151-7-16**]       Dischar...</td>\n",
       "    </tr>\n",
       "  </tbody>\n",
       "</table>\n",
       "</div>"
      ],
      "text/plain": [
       "   ROW_ID  SUBJECT_ID   HADM_ID  CHARTDATE CHARTTIME STORETIME  \\\n",
       "0     174       22532  167853.0 2151-08-04       NaT       NaT   \n",
       "\n",
       "            CATEGORY DESCRIPTION  CGID  ISERROR  \\\n",
       "0  Discharge summary      Report   NaN      NaN   \n",
       "\n",
       "                                                TEXT  \n",
       "0  Admission Date:  [**2151-7-16**]       Dischar...  "
      ]
     },
     "metadata": {},
     "output_type": "display_data"
    },
    {
     "name": "stdout",
     "output_type": "stream",
     "text": [
      "\n",
      "Last 1 in dataframe\n"
     ]
    },
    {
     "data": {
      "text/html": [
       "<div>\n",
       "<style scoped>\n",
       "    .dataframe tbody tr th:only-of-type {\n",
       "        vertical-align: middle;\n",
       "    }\n",
       "\n",
       "    .dataframe tbody tr th {\n",
       "        vertical-align: top;\n",
       "    }\n",
       "\n",
       "    .dataframe thead th {\n",
       "        text-align: right;\n",
       "    }\n",
       "</style>\n",
       "<table border=\"1\" class=\"dataframe\">\n",
       "  <thead>\n",
       "    <tr style=\"text-align: right;\">\n",
       "      <th></th>\n",
       "      <th>ROW_ID</th>\n",
       "      <th>SUBJECT_ID</th>\n",
       "      <th>HADM_ID</th>\n",
       "      <th>CHARTDATE</th>\n",
       "      <th>CHARTTIME</th>\n",
       "      <th>STORETIME</th>\n",
       "      <th>CATEGORY</th>\n",
       "      <th>DESCRIPTION</th>\n",
       "      <th>CGID</th>\n",
       "      <th>ISERROR</th>\n",
       "      <th>TEXT</th>\n",
       "    </tr>\n",
       "  </thead>\n",
       "  <tbody>\n",
       "    <tr>\n",
       "      <th>2083179</th>\n",
       "      <td>2070661</td>\n",
       "      <td>31097</td>\n",
       "      <td>115637.0</td>\n",
       "      <td>2132-01-21</td>\n",
       "      <td>2132-01-21 18:05:00</td>\n",
       "      <td>2132-01-21 18:31:00</td>\n",
       "      <td>Nursing/other</td>\n",
       "      <td>Report</td>\n",
       "      <td>16023.0</td>\n",
       "      <td>NaN</td>\n",
       "      <td>NPN 1800\\nNursing Addendum:\\n[**Known lastname...</td>\n",
       "    </tr>\n",
       "  </tbody>\n",
       "</table>\n",
       "</div>"
      ],
      "text/plain": [
       "          ROW_ID  SUBJECT_ID   HADM_ID  CHARTDATE           CHARTTIME  \\\n",
       "2083179  2070661       31097  115637.0 2132-01-21 2132-01-21 18:05:00   \n",
       "\n",
       "                  STORETIME       CATEGORY DESCRIPTION     CGID  ISERROR  \\\n",
       "2083179 2132-01-21 18:31:00  Nursing/other      Report  16023.0      NaN   \n",
       "\n",
       "                                                      TEXT  \n",
       "2083179  NPN 1800\\nNursing Addendum:\\n[**Known lastname...  "
      ]
     },
     "metadata": {},
     "output_type": "display_data"
    }
   ],
   "source": [
    "# Explore data frames for cleaning and prep\n",
    "DataUtils.exploreDataframe(NOTES_DF, showRecords=1)"
   ]
  },
  {
   "cell_type": "code",
   "execution_count": 15,
   "id": "7b94891b-1c83-4095-9eb0-bc3a7c5e0882",
   "metadata": {},
   "outputs": [
    {
     "name": "stdout",
     "output_type": "stream",
     "text": [
      "dataframe shape: (2083180, 2)\n",
      "\n",
      "dataframe info: \n",
      "<class 'pandas.core.frame.DataFrame'>\n",
      "RangeIndex: 2083180 entries, 0 to 2083179\n",
      "Data columns (total 2 columns):\n",
      " #   Column   Dtype  \n",
      "---  ------   -----  \n",
      " 0   HADM_ID  float64\n",
      " 1   TEXT     object \n",
      "dtypes: float64(1), object(1)\n",
      "memory usage: 31.8+ MB\n",
      "None\n",
      "\n",
      "Null value count by column:\n"
     ]
    },
    {
     "data": {
      "text/plain": [
       "HADM_ID    231836\n",
       "TEXT            0\n",
       "dtype: int64"
      ]
     },
     "metadata": {},
     "output_type": "display_data"
    },
    {
     "name": "stdout",
     "output_type": "stream",
     "text": [
      "\n",
      "\n",
      "First 1 in dataframe\n"
     ]
    },
    {
     "data": {
      "text/html": [
       "<div>\n",
       "<style scoped>\n",
       "    .dataframe tbody tr th:only-of-type {\n",
       "        vertical-align: middle;\n",
       "    }\n",
       "\n",
       "    .dataframe tbody tr th {\n",
       "        vertical-align: top;\n",
       "    }\n",
       "\n",
       "    .dataframe thead th {\n",
       "        text-align: right;\n",
       "    }\n",
       "</style>\n",
       "<table border=\"1\" class=\"dataframe\">\n",
       "  <thead>\n",
       "    <tr style=\"text-align: right;\">\n",
       "      <th></th>\n",
       "      <th>HADM_ID</th>\n",
       "      <th>TEXT</th>\n",
       "    </tr>\n",
       "  </thead>\n",
       "  <tbody>\n",
       "    <tr>\n",
       "      <th>0</th>\n",
       "      <td>167853.0</td>\n",
       "      <td>Admission Date:  [**2151-7-16**]       Dischar...</td>\n",
       "    </tr>\n",
       "  </tbody>\n",
       "</table>\n",
       "</div>"
      ],
      "text/plain": [
       "    HADM_ID                                               TEXT\n",
       "0  167853.0  Admission Date:  [**2151-7-16**]       Dischar..."
      ]
     },
     "metadata": {},
     "output_type": "display_data"
    },
    {
     "name": "stdout",
     "output_type": "stream",
     "text": [
      "\n",
      "Last 1 in dataframe\n"
     ]
    },
    {
     "data": {
      "text/html": [
       "<div>\n",
       "<style scoped>\n",
       "    .dataframe tbody tr th:only-of-type {\n",
       "        vertical-align: middle;\n",
       "    }\n",
       "\n",
       "    .dataframe tbody tr th {\n",
       "        vertical-align: top;\n",
       "    }\n",
       "\n",
       "    .dataframe thead th {\n",
       "        text-align: right;\n",
       "    }\n",
       "</style>\n",
       "<table border=\"1\" class=\"dataframe\">\n",
       "  <thead>\n",
       "    <tr style=\"text-align: right;\">\n",
       "      <th></th>\n",
       "      <th>HADM_ID</th>\n",
       "      <th>TEXT</th>\n",
       "    </tr>\n",
       "  </thead>\n",
       "  <tbody>\n",
       "    <tr>\n",
       "      <th>2083179</th>\n",
       "      <td>115637.0</td>\n",
       "      <td>NPN 1800\\nNursing Addendum:\\n[**Known lastname...</td>\n",
       "    </tr>\n",
       "  </tbody>\n",
       "</table>\n",
       "</div>"
      ],
      "text/plain": [
       "          HADM_ID                                               TEXT\n",
       "2083179  115637.0  NPN 1800\\nNursing Addendum:\\n[**Known lastname..."
      ]
     },
     "metadata": {},
     "output_type": "display_data"
    }
   ],
   "source": [
    "# Only need HADM_ID and TEXT. Save resources and trim dataframe\n",
    "NOTES_DF_working = NOTES_DF[['HADM_ID', 'TEXT']]\n",
    "DataUtils.exploreDataframe(NOTES_DF_working, showRecords=1)"
   ]
  },
  {
   "cell_type": "code",
   "execution_count": 16,
   "id": "b9acbba5-1c6e-470d-8684-e3df46e4b6fd",
   "metadata": {},
   "outputs": [
    {
     "name": "stdout",
     "output_type": "stream",
     "text": [
      "Dropping rows where HADM_ID is/are null\n",
      "\n",
      "Original dataFrame shape: (2083180, 2)\n",
      "Original null value count by column:\n"
     ]
    },
    {
     "data": {
      "text/plain": [
       "HADM_ID    231836\n",
       "TEXT            0\n",
       "dtype: int64"
      ]
     },
     "metadata": {},
     "output_type": "display_data"
    },
    {
     "name": "stdout",
     "output_type": "stream",
     "text": [
      "\n",
      "*** Rows with nulls meeting criteria have been dropped\n",
      "\n",
      "New values:\n",
      "dataframe shape: (1851344, 2)\n",
      "\n",
      "dataframe info: \n",
      "<class 'pandas.core.frame.DataFrame'>\n",
      "Int64Index: 1851344 entries, 0 to 2083179\n",
      "Data columns (total 2 columns):\n",
      " #   Column   Dtype  \n",
      "---  ------   -----  \n",
      " 0   HADM_ID  float64\n",
      " 1   TEXT     object \n",
      "dtypes: float64(1), object(1)\n",
      "memory usage: 42.4+ MB\n",
      "None\n",
      "\n",
      "Null value count by column:\n"
     ]
    },
    {
     "data": {
      "text/plain": [
       "HADM_ID    0\n",
       "TEXT       0\n",
       "dtype: int64"
      ]
     },
     "metadata": {},
     "output_type": "display_data"
    },
    {
     "name": "stdout",
     "output_type": "stream",
     "text": [
      "\n",
      "\n",
      "First 1 in dataframe\n"
     ]
    },
    {
     "data": {
      "text/html": [
       "<div>\n",
       "<style scoped>\n",
       "    .dataframe tbody tr th:only-of-type {\n",
       "        vertical-align: middle;\n",
       "    }\n",
       "\n",
       "    .dataframe tbody tr th {\n",
       "        vertical-align: top;\n",
       "    }\n",
       "\n",
       "    .dataframe thead th {\n",
       "        text-align: right;\n",
       "    }\n",
       "</style>\n",
       "<table border=\"1\" class=\"dataframe\">\n",
       "  <thead>\n",
       "    <tr style=\"text-align: right;\">\n",
       "      <th></th>\n",
       "      <th>HADM_ID</th>\n",
       "      <th>TEXT</th>\n",
       "    </tr>\n",
       "  </thead>\n",
       "  <tbody>\n",
       "    <tr>\n",
       "      <th>0</th>\n",
       "      <td>167853.0</td>\n",
       "      <td>Admission Date:  [**2151-7-16**]       Dischar...</td>\n",
       "    </tr>\n",
       "  </tbody>\n",
       "</table>\n",
       "</div>"
      ],
      "text/plain": [
       "    HADM_ID                                               TEXT\n",
       "0  167853.0  Admission Date:  [**2151-7-16**]       Dischar..."
      ]
     },
     "metadata": {},
     "output_type": "display_data"
    },
    {
     "name": "stdout",
     "output_type": "stream",
     "text": [
      "\n",
      "Last 1 in dataframe\n"
     ]
    },
    {
     "data": {
      "text/html": [
       "<div>\n",
       "<style scoped>\n",
       "    .dataframe tbody tr th:only-of-type {\n",
       "        vertical-align: middle;\n",
       "    }\n",
       "\n",
       "    .dataframe tbody tr th {\n",
       "        vertical-align: top;\n",
       "    }\n",
       "\n",
       "    .dataframe thead th {\n",
       "        text-align: right;\n",
       "    }\n",
       "</style>\n",
       "<table border=\"1\" class=\"dataframe\">\n",
       "  <thead>\n",
       "    <tr style=\"text-align: right;\">\n",
       "      <th></th>\n",
       "      <th>HADM_ID</th>\n",
       "      <th>TEXT</th>\n",
       "    </tr>\n",
       "  </thead>\n",
       "  <tbody>\n",
       "    <tr>\n",
       "      <th>2083179</th>\n",
       "      <td>115637.0</td>\n",
       "      <td>NPN 1800\\nNursing Addendum:\\n[**Known lastname...</td>\n",
       "    </tr>\n",
       "  </tbody>\n",
       "</table>\n",
       "</div>"
      ],
      "text/plain": [
       "          HADM_ID                                               TEXT\n",
       "2083179  115637.0  NPN 1800\\nNursing Addendum:\\n[**Known lastname..."
      ]
     },
     "metadata": {},
     "output_type": "display_data"
    },
    {
     "name": "stdout",
     "output_type": "stream",
     "text": [
      "New dataframe returned\n"
     ]
    }
   ],
   "source": [
    "# Drop Null values in relevant columns HADM_ID, TEXT\n",
    "NOTES_DF_working = DataUtils.dropNullRows(dataFrame=NOTES_DF_working, columns='HADM_ID', showRecords=1)"
   ]
  },
  {
   "cell_type": "code",
   "execution_count": 17,
   "id": "5abf089f-810a-4b23-a97a-88c786a55864",
   "metadata": {
    "tags": []
   },
   "outputs": [
    {
     "name": "stdout",
     "output_type": "stream",
     "text": [
      "PASS: HADM_ID contains no null values\n",
      "PASS: TEXT contains no null values\n"
     ]
    }
   ],
   "source": [
    "# Sanity check:\n",
    "# 1) No nulls in HADM_ID\n",
    "# 2) No nulls in TEXT\n",
    "\n",
    "assert(NOTES_DF_working['HADM_ID'].isnull().sum()==0)\n",
    "print(f'PASS: HADM_ID contains no null values')\n",
    "\n",
    "assert(NOTES_DF_working['TEXT'].isnull().sum()==0)\n",
    "print(f'PASS: TEXT contains no null values')\n",
    "\n"
   ]
  },
  {
   "cell_type": "markdown",
   "id": "a6cd6473-35f2-40f4-9fc8-d760430c2cbe",
   "metadata": {},
   "source": [
    "\n",
    "## Combine all notes for each HADM_ID"
   ]
  },
  {
   "cell_type": "code",
   "execution_count": 18,
   "id": "08573526-f694-4f54-a0e3-37d0475cd623",
   "metadata": {
    "tags": []
   },
   "outputs": [
    {
     "name": "stdout",
     "output_type": "stream",
     "text": [
      "Data type of column [HADM_ID] is: float64\n",
      "Total number of rows: 58361\n",
      "Unique values in column: 58361 [percent unique: 100.0%]\n",
      "Null values in column: 0\n",
      "List of unique values:\n",
      "[100001. 100003. 100006. ... 199995. 199998. 199999.]\n",
      "\n",
      "Top 5 records by frequency for HADM_ID\n",
      "        HADM_ID  record_count\n",
      "0      100001.0             1\n",
      "38926  166803.0             1\n",
      "38900  166757.0             1\n",
      "38901  166758.0             1\n",
      "38902  166760.0             1\n",
      "\n",
      "Bottom 5 records by frequency for HADM_ID\n",
      "     HADM_ID  record_count\n",
      "0   100001.0             1\n",
      "28  100040.0             1\n",
      "27  100039.0             1\n",
      "13  100021.0             1\n",
      "2   100006.0             1\n"
     ]
    },
    {
     "data": {
      "text/plain": [
       "([100001.0, 166803.0, 166757.0, 166758.0, 166760.0],\n",
       " [100001.0, 100040.0, 100039.0, 100021.0, 100006.0])"
      ]
     },
     "execution_count": 18,
     "metadata": {},
     "output_type": "execute_result"
    }
   ],
   "source": [
    "# Combine notes for each HADM_ID into one record. \n",
    "# Should now be only one record per HADM_ID (100% unique in showUniqueColVals)\n",
    "NOTES_DF_combined = NOTES_DF_working.groupby('HADM_ID').agg({\n",
    "                                             'TEXT': lambda x: ' '.join(x)\n",
    "                                            })\n",
    "NOTES_DF_combined.reset_index(inplace=True)\n",
    "\n",
    "# Check uniqueness of HADM_ID. SHould be 100% unique and no nulls\n",
    "DataUtils.showUniqueColVals(dataFrame=NOTES_DF_combined,\n",
    "                            colName='HADM_ID')"
   ]
  },
  {
   "cell_type": "code",
   "execution_count": 19,
   "id": "6e5291d9-3349-48a6-9ceb-cbeb11a0dd65",
   "metadata": {},
   "outputs": [
    {
     "name": "stdout",
     "output_type": "stream",
     "text": [
      "Explore TEXT length for NOTES_DF_working\n",
      "Displaying length summary for column: TEXT\n",
      "count    1851344\n",
      "mean        1871\n",
      "std         2612\n",
      "min            3\n",
      "25%          442\n",
      "50%         1083\n",
      "75%         1850\n",
      "max        55728\n",
      "Name: Length of text, dtype: object\n",
      "\n",
      "\n",
      "Explore TEXT length for NOTES_DF_combined\n",
      "Displaying length summary for column: TEXT\n",
      "count      58361\n",
      "mean       59383\n",
      "std       133922\n",
      "min           73\n",
      "25%        15484\n",
      "50%        26810\n",
      "75%        54714\n",
      "max      4776054\n",
      "Name: Length of text, dtype: object\n"
     ]
    }
   ],
   "source": [
    "# Explore and compare length of text column before and after merge\n",
    "print(f'Explore TEXT length for NOTES_DF_working')\n",
    "DataUtils.show_column_text_length_summary(NOTES_DF_working, 'TEXT')\n",
    "\n",
    "print(f'')\n",
    "print(f'')\n",
    "print(f'Explore TEXT length for NOTES_DF_combined')\n",
    "DataUtils.show_column_text_length_summary(NOTES_DF_combined, 'TEXT')\n"
   ]
  },
  {
   "cell_type": "code",
   "execution_count": 20,
   "id": "68906163-332c-441f-9c98-65b055001b97",
   "metadata": {},
   "outputs": [
    {
     "name": "stdout",
     "output_type": "stream",
     "text": [
      "PASS: TEXT contains no null values\n",
      "PASS: HADM_ID is 100% unique\n",
      "PASS: HADM_ID contains no null values\n"
     ]
    }
   ],
   "source": [
    "# Sanity check: NOTES_DF_combined\n",
    "\n",
    "# 1) TEXT has no nulls\n",
    "assert(NOTES_DF_combined['TEXT'].isnull().sum()==0)\n",
    "print(f'PASS: TEXT contains no null values')\n",
    "\n",
    "# 2) HADM_ID == 100% unique\n",
    "assert(NOTES_DF_combined['HADM_ID'].nunique()==len(NOTES_DF_combined))\n",
    "print(f'PASS: HADM_ID is 100% unique')\n",
    "\n",
    "# 3) HADM_ID has no nulls\n",
    "assert(NOTES_DF_combined['HADM_ID'].isnull().sum()==0)\n",
    "print(f'PASS: HADM_ID contains no null values')\n",
    "\n"
   ]
  },
  {
   "cell_type": "code",
   "execution_count": null,
   "id": "f1b57c87-dbc5-4708-8d74-4be0597f5d67",
   "metadata": {},
   "outputs": [],
   "source": []
  },
  {
   "cell_type": "markdown",
   "id": "d442a349-5b21-4b94-ba40-54024f1dc939",
   "metadata": {},
   "source": [
    "# Merge datasets for two outputs\n",
    "- Output 1: All notes remain separate but have the ICD9 code from SEQ_NO 1\n",
    "- Output 2: Notes are combined together. One set of notes for each HADM_ID."
   ]
  },
  {
   "cell_type": "markdown",
   "id": "3e5d6b90-6d91-4007-adaa-f1c2bf2bd90b",
   "metadata": {},
   "source": [
    "## Output 1: All notes remain separate but with the ICD9 code from SEQ_NO== 1"
   ]
  },
  {
   "cell_type": "code",
   "execution_count": 21,
   "id": "b934d14b-2e1b-4586-a715-4f4c8bf5c3ae",
   "metadata": {},
   "outputs": [
    {
     "name": "stdout",
     "output_type": "stream",
     "text": [
      "Number of unique HADM_ID in NOTES: 58361\n",
      "Number of unique HADM_ID in DIAGNOSIS: 58929\n",
      "Number of valid HADM_ID to appear after join: 58328\n"
     ]
    }
   ],
   "source": [
    "# Before merging tables we need to determine if there will be any record loss on an inner join\n",
    "# Is there a 100% match between HADM_ID between the two tables\n",
    "\n",
    "# Get a list of unique HADM_ID from NOTES_DF\n",
    "NOTES_DF_UNIQUE_HADM_ID = NOTES_DF_working['HADM_ID'].unique()\n",
    "print(f'Number of unique HADM_ID in NOTES: {len(NOTES_DF_UNIQUE_HADM_ID)}')\n",
    "\n",
    "# Get a list of unique HADM_ID from \n",
    "DIAGNOSES_ICD_DF_working_UNIQUE_HADM_ID = DIAGNOSES_ICD_DF_working['HADM_ID'].unique()\n",
    "print(f'Number of unique HADM_ID in DIAGNOSIS: {len(DIAGNOSES_ICD_DF_working_UNIQUE_HADM_ID)}')\n",
    "\n",
    "# Find the intersection of the two lists for what HADM_ID will remain after join\n",
    "COMMON_HADM_ID = list(set(NOTES_DF_UNIQUE_HADM_ID).intersection(DIAGNOSES_ICD_DF_working_UNIQUE_HADM_ID))\n",
    "print(f'Number of valid HADM_ID to appear after join: {len(COMMON_HADM_ID)}')\n",
    "\n"
   ]
  },
  {
   "cell_type": "code",
   "execution_count": 22,
   "id": "5ffaabbd-223c-4e79-bdb2-96b4c74878bb",
   "metadata": {},
   "outputs": [
    {
     "name": "stdout",
     "output_type": "stream",
     "text": [
      "dataframe shape: (1851243, 6)\n",
      "\n",
      "dataframe info: \n",
      "<class 'pandas.core.frame.DataFrame'>\n",
      "Int64Index: 1851243 entries, 0 to 1851242\n",
      "Data columns (total 6 columns):\n",
      " #   Column      Dtype  \n",
      "---  ------      -----  \n",
      " 0   HADM_ID     float64\n",
      " 1   TEXT        object \n",
      " 2   ROW_ID      int64  \n",
      " 3   SUBJECT_ID  int64  \n",
      " 4   SEQ_NUM     float64\n",
      " 5   ICD9_CODE   object \n",
      "dtypes: float64(2), int64(2), object(2)\n",
      "memory usage: 98.9+ MB\n",
      "None\n",
      "\n",
      "Null value count by column:\n"
     ]
    },
    {
     "data": {
      "text/plain": [
       "HADM_ID       0\n",
       "TEXT          0\n",
       "ROW_ID        0\n",
       "SUBJECT_ID    0\n",
       "SEQ_NUM       0\n",
       "ICD9_CODE     0\n",
       "dtype: int64"
      ]
     },
     "metadata": {},
     "output_type": "display_data"
    },
    {
     "name": "stdout",
     "output_type": "stream",
     "text": [
      "\n",
      "\n",
      "First 2 in dataframe\n"
     ]
    },
    {
     "data": {
      "text/html": [
       "<div>\n",
       "<style scoped>\n",
       "    .dataframe tbody tr th:only-of-type {\n",
       "        vertical-align: middle;\n",
       "    }\n",
       "\n",
       "    .dataframe tbody tr th {\n",
       "        vertical-align: top;\n",
       "    }\n",
       "\n",
       "    .dataframe thead th {\n",
       "        text-align: right;\n",
       "    }\n",
       "</style>\n",
       "<table border=\"1\" class=\"dataframe\">\n",
       "  <thead>\n",
       "    <tr style=\"text-align: right;\">\n",
       "      <th></th>\n",
       "      <th>HADM_ID</th>\n",
       "      <th>TEXT</th>\n",
       "      <th>ROW_ID</th>\n",
       "      <th>SUBJECT_ID</th>\n",
       "      <th>SEQ_NUM</th>\n",
       "      <th>ICD9_CODE</th>\n",
       "    </tr>\n",
       "  </thead>\n",
       "  <tbody>\n",
       "    <tr>\n",
       "      <th>0</th>\n",
       "      <td>167853.0</td>\n",
       "      <td>Admission Date:  [**2151-7-16**]       Dischar...</td>\n",
       "      <td>250889</td>\n",
       "      <td>22532</td>\n",
       "      <td>1.0</td>\n",
       "      <td>01193</td>\n",
       "    </tr>\n",
       "    <tr>\n",
       "      <th>1</th>\n",
       "      <td>167853.0</td>\n",
       "      <td>Admission Date:  [**2151-7-16**]       Dischar...</td>\n",
       "      <td>250889</td>\n",
       "      <td>22532</td>\n",
       "      <td>1.0</td>\n",
       "      <td>01193</td>\n",
       "    </tr>\n",
       "  </tbody>\n",
       "</table>\n",
       "</div>"
      ],
      "text/plain": [
       "    HADM_ID                                               TEXT  ROW_ID  \\\n",
       "0  167853.0  Admission Date:  [**2151-7-16**]       Dischar...  250889   \n",
       "1  167853.0  Admission Date:  [**2151-7-16**]       Dischar...  250889   \n",
       "\n",
       "   SUBJECT_ID  SEQ_NUM ICD9_CODE  \n",
       "0       22532      1.0     01193  \n",
       "1       22532      1.0     01193  "
      ]
     },
     "metadata": {},
     "output_type": "display_data"
    },
    {
     "name": "stdout",
     "output_type": "stream",
     "text": [
      "\n",
      "Last 2 in dataframe\n"
     ]
    },
    {
     "data": {
      "text/html": [
       "<div>\n",
       "<style scoped>\n",
       "    .dataframe tbody tr th:only-of-type {\n",
       "        vertical-align: middle;\n",
       "    }\n",
       "\n",
       "    .dataframe tbody tr th {\n",
       "        vertical-align: top;\n",
       "    }\n",
       "\n",
       "    .dataframe thead th {\n",
       "        text-align: right;\n",
       "    }\n",
       "</style>\n",
       "<table border=\"1\" class=\"dataframe\">\n",
       "  <thead>\n",
       "    <tr style=\"text-align: right;\">\n",
       "      <th></th>\n",
       "      <th>HADM_ID</th>\n",
       "      <th>TEXT</th>\n",
       "      <th>ROW_ID</th>\n",
       "      <th>SUBJECT_ID</th>\n",
       "      <th>SEQ_NUM</th>\n",
       "      <th>ICD9_CODE</th>\n",
       "    </tr>\n",
       "  </thead>\n",
       "  <tbody>\n",
       "    <tr>\n",
       "      <th>1851241</th>\n",
       "      <td>175166.0</td>\n",
       "      <td>Neonatology\\nBaby Girl [**Known lastname 1672*...</td>\n",
       "      <td>364188</td>\n",
       "      <td>31655</td>\n",
       "      <td>1.0</td>\n",
       "      <td>V3001</td>\n",
       "    </tr>\n",
       "    <tr>\n",
       "      <th>1851242</th>\n",
       "      <td>175166.0</td>\n",
       "      <td>NPN NICU\\nTerm female admitted to NICU for sep...</td>\n",
       "      <td>364188</td>\n",
       "      <td>31655</td>\n",
       "      <td>1.0</td>\n",
       "      <td>V3001</td>\n",
       "    </tr>\n",
       "  </tbody>\n",
       "</table>\n",
       "</div>"
      ],
      "text/plain": [
       "          HADM_ID                                               TEXT  ROW_ID  \\\n",
       "1851241  175166.0  Neonatology\\nBaby Girl [**Known lastname 1672*...  364188   \n",
       "1851242  175166.0  NPN NICU\\nTerm female admitted to NICU for sep...  364188   \n",
       "\n",
       "         SUBJECT_ID  SEQ_NUM ICD9_CODE  \n",
       "1851241       31655      1.0     V3001  \n",
       "1851242       31655      1.0     V3001  "
      ]
     },
     "metadata": {},
     "output_type": "display_data"
    }
   ],
   "source": [
    "# Inner join will address any missing HADM_ID values in the tables on either side of the join\n",
    "# Data check (below) will verify merge was successful\n",
    "mimic3_notes_separateDF = pd.merge(NOTES_DF_working, DIAGNOSES_ICD_DF_working, on='HADM_ID', how='inner')\n",
    "\n",
    "# Show summary prior to persisting\n",
    "DataUtils.exploreDataframe(mimic3_notes_separateDF, showRecords=2)  "
   ]
  },
  {
   "cell_type": "code",
   "execution_count": 23,
   "id": "e4e0c963-c970-48f3-b628-0b57e57ece21",
   "metadata": {},
   "outputs": [
    {
     "name": "stdout",
     "output_type": "stream",
     "text": [
      "Data type of column [SEQ_NUM] is: float64\n",
      "Total number of rows: 1851243\n",
      "Unique values in column: 1 [percent unique: 0.0%]\n",
      "Null values in column: 0\n",
      "List of unique values:\n",
      "[1.]\n",
      "\n",
      "Top 5 records by frequency for SEQ_NUM\n",
      "   SEQ_NUM  record_count\n",
      "0      1.0       1851243\n",
      "\n",
      "Bottom 5 records by frequency for SEQ_NUM\n",
      "   SEQ_NUM  record_count\n",
      "0      1.0       1851243\n"
     ]
    }
   ],
   "source": [
    "_ = DataUtils.showUniqueColVals(mimic3_notes_separateDF,'SEQ_NUM')"
   ]
  },
  {
   "cell_type": "code",
   "execution_count": 24,
   "id": "d53fe21e-caba-4fd6-86dd-1d63aff586d5",
   "metadata": {},
   "outputs": [
    {
     "name": "stdout",
     "output_type": "stream",
     "text": [
      "PASS: New table has expected HADM_ID record set and length of: 58328\n",
      "PASS: TEXT contains no null values\n",
      "PASS: ICD9_CODE contains no null values\n",
      "PASS: SEQ_NUM is only 1.0 for all entries\n"
     ]
    }
   ],
   "source": [
    "# Sanity check: mimic3_notes_separateDF\n",
    "\n",
    "# 1) Should have the same unique HADM_ID as identified by the set intersection above\n",
    "# Check both ways. Result_1 should == Result_2\n",
    "MERGED_UNIQUE_HADM_ID = mimic3_notes_separateDF['HADM_ID'].unique()\n",
    "result_1 = list(set(MERGED_UNIQUE_HADM_ID) - set(COMMON_HADM_ID))\n",
    "result_2 = list(set(COMMON_HADM_ID) - set(MERGED_UNIQUE_HADM_ID))\n",
    "\n",
    "assert(len(result_1) == len(result_2)) \n",
    "print(f'PASS: New table has expected HADM_ID record set and length of: {len(MERGED_UNIQUE_HADM_ID)}')\n",
    "\n",
    "# 2) Should have no nulls in TEXT\n",
    "assert(mimic3_notes_separateDF['TEXT'].isnull().sum()==0)\n",
    "print(f'PASS: TEXT contains no null values')\n",
    "\n",
    "# 3) Should have no nulls in ICD9_CODE\n",
    "assert(mimic3_notes_separateDF['ICD9_CODE'].isnull().sum()==0)\n",
    "print(f'PASS: ICD9_CODE contains no null values')\n",
    "\n",
    "# 4) SEQ_NUM==1 for all records\n",
    "assert(mimic3_notes_separateDF['SEQ_NUM'].loc[mimic3_notes_separateDF['SEQ_NUM'].isin([1.0])].nunique())==1\n",
    "print(f'PASS: SEQ_NUM is only 1.0 for all entries')\n",
    "\n",
    "\n",
    "\n"
   ]
  },
  {
   "cell_type": "code",
   "execution_count": 25,
   "id": "e9ceec1e-cbd3-46cd-8b74-8eed055f45a4",
   "metadata": {},
   "outputs": [
    {
     "name": "stdout",
     "output_type": "stream",
     "text": [
      "CPU times: user 2min 12s, sys: 311 ms, total: 2min 12s\n",
      "Wall time: 2min 12s\n"
     ]
    }
   ],
   "source": [
    "%%time\n",
    "# Persist the dataset\n",
    "# Note that no ICD9 code filtering has not been completed at this point\n",
    "mimic3_notes_separateDF.to_pickle(f'{DATA_DIR}/working/notes_separate.pkl.gz')"
   ]
  },
  {
   "cell_type": "markdown",
   "id": "516b0ccb-3a7a-4cce-8d15-8b40cc940ffb",
   "metadata": {},
   "source": [
    "## Output 2: Notes are combined together. One set of notes for each HADM_ID."
   ]
  },
  {
   "cell_type": "code",
   "execution_count": 26,
   "id": "b3acccc5-d589-4433-b431-445f9d08d45a",
   "metadata": {},
   "outputs": [
    {
     "name": "stdout",
     "output_type": "stream",
     "text": [
      "Number of unique HADM_ID in NOTES: 58361\n",
      "Number of unique HADM_ID in DIAGNOSIS: 58929\n",
      "Number of valid HADM_ID to appear after join: 58328\n"
     ]
    }
   ],
   "source": [
    "# Before merging tables we need to determine if there will be any record loss on an inner join\n",
    "# Is there a 100% match between HADM_ID between the two tables?\n",
    "\n",
    "# Get a list of unique HADM_ID from NOTES_DF\n",
    "NOTES_DF_UNIQUE_HADM_ID = NOTES_DF_combined['HADM_ID'].unique()\n",
    "print(f'Number of unique HADM_ID in NOTES: {len(NOTES_DF_UNIQUE_HADM_ID)}')\n",
    "\n",
    "# Get a list of unique HADM_ID from \n",
    "DIAGNOSES_ICD_DF_working_UNIQUE_HADM_ID = DIAGNOSES_ICD_DF_working['HADM_ID'].unique()\n",
    "print(f'Number of unique HADM_ID in DIAGNOSIS: {len(DIAGNOSES_ICD_DF_working_UNIQUE_HADM_ID)}')\n",
    "\n",
    "# Find the intersection of the two lists for what HADM_ID will remain after join\n",
    "COMMON_HADM_ID = list(set(NOTES_DF_UNIQUE_HADM_ID).intersection(DIAGNOSES_ICD_DF_working_UNIQUE_HADM_ID))\n",
    "print(f'Number of valid HADM_ID to appear after join: {len(COMMON_HADM_ID)}')"
   ]
  },
  {
   "cell_type": "code",
   "execution_count": 27,
   "id": "bc17963a-6985-48b3-b8a1-77e5608bd55d",
   "metadata": {},
   "outputs": [
    {
     "name": "stdout",
     "output_type": "stream",
     "text": [
      "dataframe shape: (58328, 6)\n",
      "\n",
      "dataframe info: \n",
      "<class 'pandas.core.frame.DataFrame'>\n",
      "Int64Index: 58328 entries, 0 to 58327\n",
      "Data columns (total 6 columns):\n",
      " #   Column      Non-Null Count  Dtype  \n",
      "---  ------      --------------  -----  \n",
      " 0   HADM_ID     58328 non-null  float64\n",
      " 1   TEXT        58328 non-null  object \n",
      " 2   ROW_ID      58328 non-null  int64  \n",
      " 3   SUBJECT_ID  58328 non-null  int64  \n",
      " 4   SEQ_NUM     58328 non-null  float64\n",
      " 5   ICD9_CODE   58328 non-null  object \n",
      "dtypes: float64(2), int64(2), object(2)\n",
      "memory usage: 3.1+ MB\n",
      "None\n",
      "\n",
      "Null value count by column:\n"
     ]
    },
    {
     "data": {
      "text/plain": [
       "HADM_ID       0\n",
       "TEXT          0\n",
       "ROW_ID        0\n",
       "SUBJECT_ID    0\n",
       "SEQ_NUM       0\n",
       "ICD9_CODE     0\n",
       "dtype: int64"
      ]
     },
     "metadata": {},
     "output_type": "display_data"
    },
    {
     "name": "stdout",
     "output_type": "stream",
     "text": [
      "\n",
      "\n",
      "First 2 in dataframe\n"
     ]
    },
    {
     "data": {
      "text/html": [
       "<div>\n",
       "<style scoped>\n",
       "    .dataframe tbody tr th:only-of-type {\n",
       "        vertical-align: middle;\n",
       "    }\n",
       "\n",
       "    .dataframe tbody tr th {\n",
       "        vertical-align: top;\n",
       "    }\n",
       "\n",
       "    .dataframe thead th {\n",
       "        text-align: right;\n",
       "    }\n",
       "</style>\n",
       "<table border=\"1\" class=\"dataframe\">\n",
       "  <thead>\n",
       "    <tr style=\"text-align: right;\">\n",
       "      <th></th>\n",
       "      <th>HADM_ID</th>\n",
       "      <th>TEXT</th>\n",
       "      <th>ROW_ID</th>\n",
       "      <th>SUBJECT_ID</th>\n",
       "      <th>SEQ_NUM</th>\n",
       "      <th>ICD9_CODE</th>\n",
       "    </tr>\n",
       "  </thead>\n",
       "  <tbody>\n",
       "    <tr>\n",
       "      <th>0</th>\n",
       "      <td>100001.0</td>\n",
       "      <td>Admission Date:  [**2117-9-11**]              ...</td>\n",
       "      <td>464704</td>\n",
       "      <td>58526</td>\n",
       "      <td>1.0</td>\n",
       "      <td>25013</td>\n",
       "    </tr>\n",
       "    <tr>\n",
       "      <th>1</th>\n",
       "      <td>100003.0</td>\n",
       "      <td>Admission Date:  [**2150-4-17**]              ...</td>\n",
       "      <td>446055</td>\n",
       "      <td>54610</td>\n",
       "      <td>1.0</td>\n",
       "      <td>53100</td>\n",
       "    </tr>\n",
       "  </tbody>\n",
       "</table>\n",
       "</div>"
      ],
      "text/plain": [
       "    HADM_ID                                               TEXT  ROW_ID  \\\n",
       "0  100001.0  Admission Date:  [**2117-9-11**]              ...  464704   \n",
       "1  100003.0  Admission Date:  [**2150-4-17**]              ...  446055   \n",
       "\n",
       "   SUBJECT_ID  SEQ_NUM ICD9_CODE  \n",
       "0       58526      1.0     25013  \n",
       "1       54610      1.0     53100  "
      ]
     },
     "metadata": {},
     "output_type": "display_data"
    },
    {
     "name": "stdout",
     "output_type": "stream",
     "text": [
      "\n",
      "Last 2 in dataframe\n"
     ]
    },
    {
     "data": {
      "text/html": [
       "<div>\n",
       "<style scoped>\n",
       "    .dataframe tbody tr th:only-of-type {\n",
       "        vertical-align: middle;\n",
       "    }\n",
       "\n",
       "    .dataframe tbody tr th {\n",
       "        vertical-align: top;\n",
       "    }\n",
       "\n",
       "    .dataframe thead th {\n",
       "        text-align: right;\n",
       "    }\n",
       "</style>\n",
       "<table border=\"1\" class=\"dataframe\">\n",
       "  <thead>\n",
       "    <tr style=\"text-align: right;\">\n",
       "      <th></th>\n",
       "      <th>HADM_ID</th>\n",
       "      <th>TEXT</th>\n",
       "      <th>ROW_ID</th>\n",
       "      <th>SUBJECT_ID</th>\n",
       "      <th>SEQ_NUM</th>\n",
       "      <th>ICD9_CODE</th>\n",
       "    </tr>\n",
       "  </thead>\n",
       "  <tbody>\n",
       "    <tr>\n",
       "      <th>58326</th>\n",
       "      <td>199998.0</td>\n",
       "      <td>Admission Date:  [**2119-2-18**]              ...</td>\n",
       "      <td>305582</td>\n",
       "      <td>27200</td>\n",
       "      <td>1.0</td>\n",
       "      <td>41401</td>\n",
       "    </tr>\n",
       "    <tr>\n",
       "      <th>58327</th>\n",
       "      <td>199999.0</td>\n",
       "      <td>Admission Date:  [**2136-4-4**]              D...</td>\n",
       "      <td>380657</td>\n",
       "      <td>40370</td>\n",
       "      <td>1.0</td>\n",
       "      <td>48284</td>\n",
       "    </tr>\n",
       "  </tbody>\n",
       "</table>\n",
       "</div>"
      ],
      "text/plain": [
       "        HADM_ID                                               TEXT  ROW_ID  \\\n",
       "58326  199998.0  Admission Date:  [**2119-2-18**]              ...  305582   \n",
       "58327  199999.0  Admission Date:  [**2136-4-4**]              D...  380657   \n",
       "\n",
       "       SUBJECT_ID  SEQ_NUM ICD9_CODE  \n",
       "58326       27200      1.0     41401  \n",
       "58327       40370      1.0     48284  "
      ]
     },
     "metadata": {},
     "output_type": "display_data"
    }
   ],
   "source": [
    "mimic3_notes_combinedDF = pd.merge(NOTES_DF_combined, DIAGNOSES_ICD_DF_working, on='HADM_ID', how='inner')\n",
    "\n",
    "# Show summary prior to persisting\n",
    "DataUtils.exploreDataframe(mimic3_notes_combinedDF, showRecords=2)                                   "
   ]
  },
  {
   "cell_type": "code",
   "execution_count": 28,
   "id": "81ffed6e-3535-4c7d-a071-43cc5f6dd2c4",
   "metadata": {},
   "outputs": [
    {
     "name": "stdout",
     "output_type": "stream",
     "text": [
      "PASS: New table has expected HADM_ID record set\n",
      "PASS: TEXT contains no null values\n",
      "PASS: ICD9_CODE contains no null values\n",
      "PASS: SEQ_NUM is only 1.0 for all entries\n"
     ]
    }
   ],
   "source": [
    "# Sanity check: mimic3_notes_separateDF\n",
    "\n",
    "\n",
    "# 1) Should have the same unique HADM_ID as identified by the set intersection above\n",
    "# Check both ways. Result_1 should == Result_2\n",
    "MERGED_UNIQUE_HADM_ID = mimic3_notes_combinedDF['HADM_ID'].unique()\n",
    "result_1 = list(set(MERGED_UNIQUE_HADM_ID) - set(COMMON_HADM_ID))\n",
    "result_2 = list(set(COMMON_HADM_ID) - set(MERGED_UNIQUE_HADM_ID))\n",
    "\n",
    "assert(len(result_1) == len(result_2)) \n",
    "print(f'PASS: New table has expected HADM_ID record set')\n",
    "\n",
    "# 2) Should have no nulls in TEXT\n",
    "assert(mimic3_notes_combinedDF['TEXT'].isnull().sum()==0)\n",
    "print(f'PASS: TEXT contains no null values')\n",
    "\n",
    "# 3) Should have no nulls in ICD9_CODE\n",
    "assert(mimic3_notes_combinedDF['ICD9_CODE'].isnull().sum()==0)\n",
    "print(f'PASS: ICD9_CODE contains no null values')\n",
    "\n",
    "# 4) SEQ_NUM==1 for all records\n",
    "assert(mimic3_notes_combinedDF['SEQ_NUM'].loc[mimic3_notes_separateDF['SEQ_NUM'].isin([1.0])].nunique())==1\n",
    "print(f'PASS: SEQ_NUM is only 1.0 for all entries')\n",
    "\n",
    "\n",
    "\n"
   ]
  },
  {
   "cell_type": "code",
   "execution_count": 29,
   "id": "78e8b86b-2fb6-46e5-b552-ab296792f00c",
   "metadata": {},
   "outputs": [
    {
     "name": "stdout",
     "output_type": "stream",
     "text": [
      "CPU times: user 2min 3s, sys: 221 ms, total: 2min 3s\n",
      "Wall time: 2min 3s\n"
     ]
    }
   ],
   "source": [
    "%%time\n",
    "# Persist the dataset\n",
    "# Note that no ICD9 code filtering has not been completed at this point\n",
    "mimic3_notes_combinedDF.to_pickle(f'{DATA_DIR}/working/notes_combined.pkl.gz')"
   ]
  },
  {
   "cell_type": "code",
   "execution_count": null,
   "id": "93f4f29d-2f1f-4133-be69-747c43b02ae3",
   "metadata": {},
   "outputs": [],
   "source": []
  },
  {
   "cell_type": "markdown",
   "id": "d95b41b7-e3f9-42b9-82ab-47e3091eb43e",
   "metadata": {},
   "source": [
    "# Explore ICD9_CODE frequency"
   ]
  },
  {
   "cell_type": "code",
   "execution_count": 30,
   "id": "7fc0ee10-3be5-4e9a-a64e-08ef1a53869e",
   "metadata": {},
   "outputs": [
    {
     "name": "stdout",
     "output_type": "stream",
     "text": [
      "Data type of column [ICD9_CODE] is: object\n",
      "Total number of rows: 1851243\n",
      "Unique values in column: 2769 [percent unique: 0.1%]\n",
      "Null values in column: 0\n",
      "List of unique values:\n",
      "['01193' '5191' '51884' ... 'V502' 'V292' '7765']\n",
      "\n",
      "Top 10 records by frequency for ICD9_CODE\n",
      "     ICD9_CODE  record_count\n",
      "2732     V3001        157174\n",
      "2735     V3101        109767\n",
      "2731     V3000         87594\n",
      "47        0389         76775\n",
      "833      41401         64187\n",
      "1159     51881         57269\n",
      "822      41071         50747\n",
      "2740     V3401         30819\n",
      "911        431         28037\n",
      "863       4241         25728\n",
      "\n",
      "Bottom 10 records by frequency for ICD9_CODE\n",
      "     ICD9_CODE  record_count\n",
      "2513      9471             1\n",
      "2221      8364             1\n",
      "2413      8749             1\n",
      "131       1430             1\n",
      "235       1723             1\n",
      "2478      9083             1\n",
      "238       1726             1\n",
      "299       1963             1\n",
      "2594      9762             1\n",
      "2595      9773             1\n"
     ]
    }
   ],
   "source": [
    "# Code frequency distribution for data frame with SEPARATE notes\n",
    "topICD_codes, bottomICD_codesList = DataUtils.showUniqueColVals(mimic3_notes_separateDF, colName='ICD9_CODE', showRecords=10)"
   ]
  },
  {
   "cell_type": "code",
   "execution_count": 31,
   "id": "71ab8a89-351c-4fae-9cb7-966c81d6552c",
   "metadata": {},
   "outputs": [
    {
     "name": "stdout",
     "output_type": "stream",
     "text": [
      "Data type of column [ICD9_CODE] is: object\n",
      "Total number of rows: 58328\n",
      "Unique values in column: 2769 [percent unique: 4.7%]\n",
      "Null values in column: 0\n",
      "List of unique values:\n",
      "['25013' '53100' '49320' ... '6141' '6398' '88121']\n",
      "\n",
      "Top 10 records by frequency for ICD9_CODE\n",
      "     ICD9_CODE  record_count\n",
      "833      41401          3497\n",
      "2731     V3000          3427\n",
      "2732     V3001          2695\n",
      "47        0389          2043\n",
      "822      41071          1747\n",
      "863       4241          1139\n",
      "1159     51881          1120\n",
      "911        431          1007\n",
      "2735     V3101           993\n",
      "1096       486           721\n",
      "\n",
      "Bottom 10 records by frequency for ICD9_CODE\n",
      "     ICD9_CODE  record_count\n",
      "2768     V7281             1\n",
      "577      28411             1\n",
      "598      28749             1\n",
      "603      28802             1\n",
      "605      28804             1\n",
      "610      28981             1\n",
      "611      28982             1\n",
      "612      28989             1\n",
      "616       2912             1\n",
      "621      29289             1\n"
     ]
    }
   ],
   "source": [
    "# Code frequency distribution for data frame with combined notes (all notes per HADM_ID are combined)\n",
    "topICD_codes, bottomICD_codesList = DataUtils.showUniqueColVals(mimic3_notes_combinedDF, colName='ICD9_CODE', showRecords=10)"
   ]
  },
  {
   "cell_type": "markdown",
   "id": "2be8d5db-1fe7-472a-a683-ec2c6dc59e23",
   "metadata": {},
   "source": [
    "# Custom stopword list"
   ]
  },
  {
   "cell_type": "code",
   "execution_count": 32,
   "id": "b36d0be9-d4f9-4fcd-897c-114f44e0206c",
   "metadata": {},
   "outputs": [
    {
     "name": "stdout",
     "output_type": "stream",
     "text": [
      "Number of custom stopwords: 42\n",
      "Custom stopwords:\n",
      "['discharge', 'diagnosis', 'medications', 'medication', 'disposition', 'condition', 'instructions', 'status', 'secondary', 'changes', 'instruction', 'change', 'home', 'name', 'hospital', 'daily', 'hour', 'follow', 'care', 'time', 'day', 'week', 'with', 'disp', 'discharged', 'admitted', 'namepattern', 'none', 'chief', 'complaint', 'physical', 'exam', 'present', 'illness', 'family', 'year', 'history', 'admission', 'social', 'medical', 'allergies', 'date']\n"
     ]
    }
   ],
   "source": [
    "# Custom stopword list added here as part of experiment environment and support item generation process\n",
    "custom_stop_words = ['discharge', 'diagnosis', 'medications', 'medication', 'disposition', 'condition', 'instructions', \n",
    "                     'status', 'secondary', 'changes', 'instruction', 'change', 'home', 'name', 'hospital', 'daily',\n",
    "                     'hour', 'follow', 'care', 'time', 'day', 'week', 'with', 'disp', 'discharged', 'admitted', \n",
    "                     'namepattern', 'none', 'chief', 'complaint', 'physical', 'exam', 'present', 'illness', 'family',\n",
    "                     'year', 'history','admission', 'social', 'medical', 'allergies']\n",
    "\n",
    "# Added this to the original custom stopwords from above. Very frequent in corpus\n",
    "custom_stop_words.extend(['date'])\n",
    "print(f'Number of custom stopwords: {len(custom_stop_words)}')\n",
    "print(f'Custom stopwords:')\n",
    "print(custom_stop_words)\n",
    "\n",
    "\n",
    "with open(f'{DATA_DIR}/working/custom_stop_words.pkl', 'wb') as f:\n",
    "    pickle.dump(custom_stop_words, f)\n",
    "\n",
    "# Retrieve stopwords with\n",
    "#with open(f'{DATA_DIR}/working/custom_stop_words.pkl', 'rb') as f:\n",
    "#   mynewlist = pickle.load(f)\n",
    "          "
   ]
  },
  {
   "cell_type": "markdown",
   "id": "6717bed3-3c17-4f69-b3e5-03b7dc473e9d",
   "metadata": {},
   "source": [
    "# Scratchpad"
   ]
  },
  {
   "cell_type": "code",
   "execution_count": null,
   "id": "1ffb0120-a166-4ae3-a385-5153529f1d95",
   "metadata": {},
   "outputs": [],
   "source": []
  },
  {
   "cell_type": "markdown",
   "id": "557d6a49-94d7-4595-92f6-08dc832b7908",
   "metadata": {},
   "source": [
    "## Explore differences in order of ops (ICD9_CODE filter, SEQ_NO)"
   ]
  },
  {
   "cell_type": "code",
   "execution_count": 33,
   "id": "cb1f2900-a607-4263-9648-b7543730c4c7",
   "metadata": {},
   "outputs": [
    {
     "name": "stdout",
     "output_type": "stream",
     "text": [
      "dataframe shape: (651047, 5)\n",
      "\n",
      "dataframe info: \n",
      "<class 'pandas.core.frame.DataFrame'>\n",
      "RangeIndex: 651047 entries, 0 to 651046\n",
      "Data columns (total 5 columns):\n",
      " #   Column      Non-Null Count   Dtype  \n",
      "---  ------      --------------   -----  \n",
      " 0   ROW_ID      651047 non-null  int64  \n",
      " 1   SUBJECT_ID  651047 non-null  int64  \n",
      " 2   HADM_ID     651047 non-null  int64  \n",
      " 3   SEQ_NUM     651000 non-null  float64\n",
      " 4   ICD9_CODE   651000 non-null  object \n",
      "dtypes: float64(1), int64(3), object(1)\n",
      "memory usage: 24.8+ MB\n",
      "None\n",
      "\n",
      "Null value count by column:\n"
     ]
    },
    {
     "data": {
      "text/plain": [
       "ROW_ID         0\n",
       "SUBJECT_ID     0\n",
       "HADM_ID        0\n",
       "SEQ_NUM       47\n",
       "ICD9_CODE     47\n",
       "dtype: int64"
      ]
     },
     "metadata": {},
     "output_type": "display_data"
    },
    {
     "name": "stdout",
     "output_type": "stream",
     "text": [
      "\n",
      "\n",
      "First 5 in dataframe\n"
     ]
    },
    {
     "data": {
      "text/html": [
       "<div>\n",
       "<style scoped>\n",
       "    .dataframe tbody tr th:only-of-type {\n",
       "        vertical-align: middle;\n",
       "    }\n",
       "\n",
       "    .dataframe tbody tr th {\n",
       "        vertical-align: top;\n",
       "    }\n",
       "\n",
       "    .dataframe thead th {\n",
       "        text-align: right;\n",
       "    }\n",
       "</style>\n",
       "<table border=\"1\" class=\"dataframe\">\n",
       "  <thead>\n",
       "    <tr style=\"text-align: right;\">\n",
       "      <th></th>\n",
       "      <th>ROW_ID</th>\n",
       "      <th>SUBJECT_ID</th>\n",
       "      <th>HADM_ID</th>\n",
       "      <th>SEQ_NUM</th>\n",
       "      <th>ICD9_CODE</th>\n",
       "    </tr>\n",
       "  </thead>\n",
       "  <tbody>\n",
       "    <tr>\n",
       "      <th>0</th>\n",
       "      <td>1297</td>\n",
       "      <td>109</td>\n",
       "      <td>172335</td>\n",
       "      <td>1.0</td>\n",
       "      <td>40301</td>\n",
       "    </tr>\n",
       "    <tr>\n",
       "      <th>1</th>\n",
       "      <td>1298</td>\n",
       "      <td>109</td>\n",
       "      <td>172335</td>\n",
       "      <td>2.0</td>\n",
       "      <td>486</td>\n",
       "    </tr>\n",
       "    <tr>\n",
       "      <th>2</th>\n",
       "      <td>1299</td>\n",
       "      <td>109</td>\n",
       "      <td>172335</td>\n",
       "      <td>3.0</td>\n",
       "      <td>58281</td>\n",
       "    </tr>\n",
       "    <tr>\n",
       "      <th>3</th>\n",
       "      <td>1300</td>\n",
       "      <td>109</td>\n",
       "      <td>172335</td>\n",
       "      <td>4.0</td>\n",
       "      <td>5855</td>\n",
       "    </tr>\n",
       "    <tr>\n",
       "      <th>4</th>\n",
       "      <td>1301</td>\n",
       "      <td>109</td>\n",
       "      <td>172335</td>\n",
       "      <td>5.0</td>\n",
       "      <td>4254</td>\n",
       "    </tr>\n",
       "  </tbody>\n",
       "</table>\n",
       "</div>"
      ],
      "text/plain": [
       "   ROW_ID  SUBJECT_ID  HADM_ID  SEQ_NUM ICD9_CODE\n",
       "0    1297         109   172335      1.0     40301\n",
       "1    1298         109   172335      2.0       486\n",
       "2    1299         109   172335      3.0     58281\n",
       "3    1300         109   172335      4.0      5855\n",
       "4    1301         109   172335      5.0      4254"
      ]
     },
     "metadata": {},
     "output_type": "display_data"
    },
    {
     "name": "stdout",
     "output_type": "stream",
     "text": [
      "\n",
      "Last 5 in dataframe\n"
     ]
    },
    {
     "data": {
      "text/html": [
       "<div>\n",
       "<style scoped>\n",
       "    .dataframe tbody tr th:only-of-type {\n",
       "        vertical-align: middle;\n",
       "    }\n",
       "\n",
       "    .dataframe tbody tr th {\n",
       "        vertical-align: top;\n",
       "    }\n",
       "\n",
       "    .dataframe thead th {\n",
       "        text-align: right;\n",
       "    }\n",
       "</style>\n",
       "<table border=\"1\" class=\"dataframe\">\n",
       "  <thead>\n",
       "    <tr style=\"text-align: right;\">\n",
       "      <th></th>\n",
       "      <th>ROW_ID</th>\n",
       "      <th>SUBJECT_ID</th>\n",
       "      <th>HADM_ID</th>\n",
       "      <th>SEQ_NUM</th>\n",
       "      <th>ICD9_CODE</th>\n",
       "    </tr>\n",
       "  </thead>\n",
       "  <tbody>\n",
       "    <tr>\n",
       "      <th>651042</th>\n",
       "      <td>639798</td>\n",
       "      <td>97503</td>\n",
       "      <td>188195</td>\n",
       "      <td>2.0</td>\n",
       "      <td>20280</td>\n",
       "    </tr>\n",
       "    <tr>\n",
       "      <th>651043</th>\n",
       "      <td>639799</td>\n",
       "      <td>97503</td>\n",
       "      <td>188195</td>\n",
       "      <td>3.0</td>\n",
       "      <td>V5869</td>\n",
       "    </tr>\n",
       "    <tr>\n",
       "      <th>651044</th>\n",
       "      <td>639800</td>\n",
       "      <td>97503</td>\n",
       "      <td>188195</td>\n",
       "      <td>4.0</td>\n",
       "      <td>V1279</td>\n",
       "    </tr>\n",
       "    <tr>\n",
       "      <th>651045</th>\n",
       "      <td>639801</td>\n",
       "      <td>97503</td>\n",
       "      <td>188195</td>\n",
       "      <td>5.0</td>\n",
       "      <td>5275</td>\n",
       "    </tr>\n",
       "    <tr>\n",
       "      <th>651046</th>\n",
       "      <td>639802</td>\n",
       "      <td>97503</td>\n",
       "      <td>188195</td>\n",
       "      <td>6.0</td>\n",
       "      <td>5569</td>\n",
       "    </tr>\n",
       "  </tbody>\n",
       "</table>\n",
       "</div>"
      ],
      "text/plain": [
       "        ROW_ID  SUBJECT_ID  HADM_ID  SEQ_NUM ICD9_CODE\n",
       "651042  639798       97503   188195      2.0     20280\n",
       "651043  639799       97503   188195      3.0     V5869\n",
       "651044  639800       97503   188195      4.0     V1279\n",
       "651045  639801       97503   188195      5.0      5275\n",
       "651046  639802       97503   188195      6.0      5569"
      ]
     },
     "metadata": {},
     "output_type": "display_data"
    }
   ],
   "source": [
    "DataUtils.exploreDataframe(DIAGNOSES_ICD_DF)"
   ]
  },
  {
   "cell_type": "code",
   "execution_count": 34,
   "id": "12e9df13-c074-42ed-9ff4-e6c8b17a74b0",
   "metadata": {},
   "outputs": [
    {
     "name": "stdout",
     "output_type": "stream",
     "text": [
      "PASS: Number of records after filter (step 1) match original research notbook\n",
      "PASS: Number of records after filter (step 1) then \"keep first\" (step 2) match original research notbook\n",
      "\n",
      "HADM_ID after filter then keep_first\n",
      "Data type of column [HADM_ID] is: int64\n",
      "Total number of rows: 32275\n",
      "Unique values in column: 32275 [percent unique: 100.0%]\n",
      "Null values in column: 0\n",
      "List of unique values:\n",
      "[153714 174834 101463 ... 154989 129551 170349]\n",
      "\n",
      "Top 10 records by frequency for HADM_ID\n",
      "       HADM_ID  record_count\n",
      "0       100001             1\n",
      "21512   166937             1\n",
      "21525   166975             1\n",
      "21524   166973             1\n",
      "21523   166969             1\n",
      "21522   166962             1\n",
      "21521   166960             1\n",
      "21520   166956             1\n",
      "21519   166955             1\n",
      "21518   166953             1\n",
      "\n",
      "Bottom 10 records by frequency for HADM_ID\n",
      "    HADM_ID  record_count\n",
      "0    100001             1\n",
      "4    100009             1\n",
      "5    100012             1\n",
      "6    100016             1\n",
      "7    100017             1\n",
      "8    100020             1\n",
      "9    100021             1\n",
      "10   100024             1\n",
      "11   100031             1\n",
      "12   100034             1\n",
      "\n",
      "SEQ_NUM after filter then keep_first\n",
      "Data type of column [SEQ_NUM] is: float64\n",
      "Total number of rows: 32275\n",
      "Unique values in column: 34 [percent unique: 0.1%]\n",
      "Null values in column: 0\n",
      "List of unique values:\n",
      "[ 1.  2.  3.  4.  5.  6.  7.  8.  9. 10. 11. 12. 13. 14. 15. 16. 17. 18.\n",
      " 19. 20. 21. 22. 23. 24. 25. 26. 27. 28. 29. 30. 31. 32. 36. 39.]\n",
      "\n",
      "Top 10 records by frequency for SEQ_NUM\n",
      "   SEQ_NUM  record_count\n",
      "1      2.0          5634\n",
      "2      3.0          4160\n",
      "3      4.0          3876\n",
      "4      5.0          3419\n",
      "5      6.0          3077\n",
      "6      7.0          2413\n",
      "7      8.0          1980\n",
      "0      1.0          1713\n",
      "8      9.0          1609\n",
      "9     10.0           960\n",
      "\n",
      "Bottom 10 records by frequency for SEQ_NUM\n",
      "    SEQ_NUM  record_count\n",
      "33     39.0             1\n",
      "32     36.0             1\n",
      "30     31.0             3\n",
      "31     32.0             3\n",
      "29     30.0             4\n",
      "27     28.0             9\n",
      "28     29.0            10\n",
      "26     27.0            12\n",
      "25     26.0            12\n",
      "24     25.0            16\n"
     ]
    }
   ],
   "source": [
    "# Original data prep added a filter on ICD9 Codes and then sorted based on \"keep first\" not SEQ=1.0\n",
    "\n",
    "# Info from original data prep\n",
    "## labels = ['4019', '5849', '51881', '53081']\n",
    "## diagnosis_icd_filter = diagnosis_icd.loc[diagnosis_icd['ICD9_CODE'].isin(labels)]\n",
    "## diagnosis_icd_filter_drop = diagnosis_icd_filter.sort_values('SEQ_NUM').drop_duplicates('HADM_ID', keep='first')\n",
    "\n",
    "\n",
    "# Expected record results from original research file run\n",
    "RECORDS_AFTER_FILTER = 43645\n",
    "RECORDS_AFTER_KEEPFIRST = 32275\n",
    "\n",
    "# ICD9_Codes used in research paper\n",
    "labels = ['4019', '5849', '51881', '53081']\n",
    "\n",
    "DIAGNOSIS_ICD_SANITY_orig_filter = DIAGNOSES_ICD_DF.loc[DIAGNOSES_ICD_DF['ICD9_CODE'].isin(labels)]\n",
    "assert(RECORDS_AFTER_FILTER == len(DIAGNOSIS_ICD_SANITY_orig_filter))\n",
    "print(f'PASS: Number of records after filter (step 1) match original research notbook')\n",
    "\n",
    "DIAGNOSIS_ICD_SANITY_orig_sort = DIAGNOSIS_ICD_SANITY_orig_filter.sort_values('SEQ_NUM', ascending=True).drop_duplicates('HADM_ID', keep='first')\n",
    "assert(RECORDS_AFTER_KEEPFIRST == len(DIAGNOSIS_ICD_SANITY_orig_sort))\n",
    "print(f'PASS: Number of records after filter (step 1) then \"keep first\" (step 2) match original research notbook')\n",
    "\n",
    "# Explore data changes and output\n",
    "print(f'')\n",
    "print(f'HADM_ID after filter then keep_first')\n",
    "_, _ = DataUtils.showUniqueColVals(DIAGNOSIS_ICD_SANITY_orig_sort, 'HADM_ID', showRecords=10)\n",
    "\n",
    "print(f'')\n",
    "print(f'SEQ_NUM after filter then keep_first')\n",
    "_, _ = DataUtils.showUniqueColVals(DIAGNOSIS_ICD_SANITY_orig_sort, 'SEQ_NUM', showRecords=10)\n",
    "\n",
    "\n"
   ]
  },
  {
   "cell_type": "code",
   "execution_count": 35,
   "id": "0495f9c4-2e24-4d0b-a476-3a13d9b95b5e",
   "metadata": {},
   "outputs": [
    {
     "name": "stdout",
     "output_type": "stream",
     "text": [
      "\n",
      "\n",
      "HADM_ID after keep_first then filter\n",
      "Data type of column [HADM_ID] is: int64\n",
      "Total number of rows: 1713\n",
      "Unique values in column: 1713 [percent unique: 100.0%]\n",
      "Null values in column: 0\n",
      "List of unique values:\n",
      "[106630 144320 188724 ... 127888 125857 134655]\n",
      "\n",
      "Top 5 records by frequency for HADM_ID\n",
      "      HADM_ID  record_count\n",
      "0      100132             1\n",
      "1151   167908             1\n",
      "1149   167883             1\n",
      "1148   167842             1\n",
      "1147   167837             1\n",
      "\n",
      "Bottom 5 records by frequency for HADM_ID\n",
      "   HADM_ID  record_count\n",
      "0   100132             1\n",
      "5   100459             1\n",
      "6   100460             1\n",
      "7   100463             1\n",
      "8   100524             1\n",
      "\n",
      "SEQ_NUM after keep_first then filter\n",
      "Data type of column [SEQ_NUM] is: float64\n",
      "Total number of rows: 1713\n",
      "Unique values in column: 1 [percent unique: 0.1%]\n",
      "Null values in column: 0\n",
      "List of unique values:\n",
      "[1.]\n",
      "\n",
      "Top 5 records by frequency for SEQ_NUM\n",
      "   SEQ_NUM  record_count\n",
      "0      1.0          1713\n",
      "\n",
      "Bottom 5 records by frequency for SEQ_NUM\n",
      "   SEQ_NUM  record_count\n",
      "0      1.0          1713\n"
     ]
    }
   ],
   "source": [
    "# Comparing order of operations. Original (above) did filter then sort to keep first records\n",
    "# This one reverses and sorts to keep first record (primary diagnoses) then filter\n",
    "\n",
    "\n",
    "# Original data prep added a filter on ICD9 Codes and then sorted based on \"keep first\" not SEQ=1.0\n",
    "## labels = ['4019', '5849', '51881', '53081']\n",
    "## diagnosis_icd_filter = diagnosis_icd.loc[diagnosis_icd['ICD9_CODE'].isin(labels)]\n",
    "## diagnosis_icd_filter_drop = diagnosis_icd_filter.sort_values('SEQ_NUM').drop_duplicates('HADM_ID', keep='first')\n",
    "\n",
    "\n",
    "# Expected record results\n",
    "RECORDS_AFTER_FILTER = 43645\n",
    "RECORDS_AFTER_KEEPFIRST = 32275\n",
    "\n",
    "# ICD9_Codes used in research paper\n",
    "labels = ['4019', '5849', '51881', '53081']\n",
    "\n",
    "\n",
    "# Filter recordset down keeping only 'first' record based on SEQ_NUM over HADM_ID\n",
    "DIAGNOSIS_ICD_SANITY_sort = DIAGNOSES_ICD_DF.sort_values('SEQ_NUM', ascending=True).drop_duplicates('HADM_ID', keep='first')\n",
    "\n",
    "print(f'')\n",
    "# Now keep only the ones with the right ICD9_CODE\n",
    "DIAGNOSIS_ICD_SANITY_filter = DIAGNOSIS_ICD_SANITY_sort.loc[DIAGNOSIS_ICD_SANITY_sort['ICD9_CODE'].isin(labels)]\n",
    "\n",
    "\n",
    "# Explore data changes and output\n",
    "print(f'')\n",
    "print(f'HADM_ID after keep_first then filter')\n",
    "_, _ = DataUtils.showUniqueColVals(DIAGNOSIS_ICD_SANITY_filter, 'HADM_ID', showRecords=5)\n",
    "\n",
    "print(f'')\n",
    "print(f'SEQ_NUM after keep_first then filter')\n",
    "_, _ = DataUtils.showUniqueColVals(DIAGNOSIS_ICD_SANITY_filter, 'SEQ_NUM', showRecords=5)\n",
    "\n"
   ]
  }
 ],
 "metadata": {
  "kernelspec": {
   "display_name": "magritte",
   "language": "python",
   "name": "magritte"
  },
  "language_info": {
   "codemirror_mode": {
    "name": "ipython",
    "version": 3
   },
   "file_extension": ".py",
   "mimetype": "text/x-python",
   "name": "python",
   "nbconvert_exporter": "python",
   "pygments_lexer": "ipython3",
   "version": "3.7.13"
  }
 },
 "nbformat": 4,
 "nbformat_minor": 5
}
