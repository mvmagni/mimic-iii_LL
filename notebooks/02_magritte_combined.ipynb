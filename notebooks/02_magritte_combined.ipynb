{
 "cells": [
  {
   "cell_type": "markdown",
   "id": "203bd08b-d308-4088-98e2-2a3a1084bafb",
   "metadata": {},
   "source": [
    "# MIMICIII Data Experiment - Combined notes\n",
    "<p>#TODO: Needs description of what this file is</p>"
   ]
  },
  {
   "cell_type": "markdown",
   "id": "2f1d9624-8f40-4e12-a09f-bfdf20e4f45b",
   "metadata": {
    "id": "1QZKvJBJ7rlc",
    "tags": []
   },
   "source": [
    "# Initialize environment"
   ]
  },
  {
   "cell_type": "code",
   "execution_count": 1,
   "id": "9fb462b6-b6f1-4954-9c3e-d36e3562353e",
   "metadata": {
    "colab": {
     "base_uri": "https://localhost:8080/"
    },
    "executionInfo": {
     "elapsed": 19195,
     "status": "ok",
     "timestamp": 1639849489183,
     "user": {
      "displayName": "Michael Vasiliou",
      "photoUrl": "https://lh3.googleusercontent.com/a/default-user=s64",
      "userId": "07079983815732559270"
     },
     "user_tz": 300
    },
    "id": "jgMPxKZBzfFw",
    "outputId": "ae39cdc2-271b-4bdf-a71b-40f4a11dc389"
   },
   "outputs": [],
   "source": [
    "import sys\n",
    "import os\n",
    "\n",
    "WORKING_DIR = f'{os.getcwd()}' # assume notebook is in root of magritte scratch dir\n",
    "MAGRITTE_DIR = f'{WORKING_DIR}/../../magritte'\n",
    "UTILITIES_DIR = f'{MAGRITTE_DIR}/utilities'\n",
    "\n",
    "DATA_DIR = f'{MAGRITTE_DIR}/../data/mimiciii/working'\n",
    "\n",
    "# Add the UTILITY_DIR to the path to import files\n",
    "sys.path.append(UTILITIES_DIR)"
   ]
  },
  {
   "cell_type": "code",
   "execution_count": 2,
   "id": "7acebed1-da05-4a5f-953b-f7a0d2f08197",
   "metadata": {},
   "outputs": [],
   "source": [
    "import pandas as pd\n",
    "import pickle\n",
    "import DataUtils"
   ]
  },
  {
   "cell_type": "markdown",
   "id": "182716fd-c93a-4957-9723-d22b0be9ab28",
   "metadata": {},
   "source": [
    "# Load Data\n",
    "<p>Loading the IMDB Dataset<br>\n",
    "50,000 records on pos/neg sentiment analysis<br>\n",
    "25,000 records per class<br>"
   ]
  },
  {
   "cell_type": "code",
   "execution_count": 3,
   "id": "5a1f11cc-d448-4950-88fd-b082f52d494d",
   "metadata": {},
   "outputs": [
    {
     "name": "stdout",
     "output_type": "stream",
     "text": [
      "dataframe shape: (12655, 2)\n",
      "\n",
      "dataframe info: \n",
      "<class 'pandas.core.frame.DataFrame'>\n",
      "Int64Index: 12655 entries, 4 to 58326\n",
      "Data columns (total 2 columns):\n",
      " #   Column     Non-Null Count  Dtype \n",
      "---  ------     --------------  ----- \n",
      " 0   TEXT       12655 non-null  object\n",
      " 1   ICD9_CODE  12655 non-null  int64 \n",
      "dtypes: int64(1), object(1)\n",
      "memory usage: 296.6+ KB\n",
      "None\n",
      "\n",
      "First 5 in dataframe\n"
     ]
    },
    {
     "data": {
      "text/html": [
       "<div>\n",
       "<style scoped>\n",
       "    .dataframe tbody tr th:only-of-type {\n",
       "        vertical-align: middle;\n",
       "    }\n",
       "\n",
       "    .dataframe tbody tr th {\n",
       "        vertical-align: top;\n",
       "    }\n",
       "\n",
       "    .dataframe thead th {\n",
       "        text-align: right;\n",
       "    }\n",
       "</style>\n",
       "<table border=\"1\" class=\"dataframe\">\n",
       "  <thead>\n",
       "    <tr style=\"text-align: right;\">\n",
       "      <th></th>\n",
       "      <th>TEXT</th>\n",
       "      <th>ICD9_CODE</th>\n",
       "    </tr>\n",
       "  </thead>\n",
       "  <tbody>\n",
       "    <tr>\n",
       "      <th>4</th>\n",
       "      <td>Admission Date:  [**2162-5-16**]              ...</td>\n",
       "      <td>1</td>\n",
       "    </tr>\n",
       "    <tr>\n",
       "      <th>7</th>\n",
       "      <td>Admission Date:  [**2177-3-12**]              ...</td>\n",
       "      <td>1</td>\n",
       "    </tr>\n",
       "    <tr>\n",
       "      <th>14</th>\n",
       "      <td>Neonatology\\nPatient is term infant sent to NI...</td>\n",
       "      <td>2</td>\n",
       "    </tr>\n",
       "    <tr>\n",
       "      <th>15</th>\n",
       "      <td>Admission Date:  [**2170-9-19**]              ...</td>\n",
       "      <td>1</td>\n",
       "    </tr>\n",
       "    <tr>\n",
       "      <th>16</th>\n",
       "      <td>Admission Date:  [**2191-7-13**]       Dischar...</td>\n",
       "      <td>2</td>\n",
       "    </tr>\n",
       "  </tbody>\n",
       "</table>\n",
       "</div>"
      ],
      "text/plain": [
       "                                                 TEXT  ICD9_CODE\n",
       "4   Admission Date:  [**2162-5-16**]              ...          1\n",
       "7   Admission Date:  [**2177-3-12**]              ...          1\n",
       "14  Neonatology\\nPatient is term infant sent to NI...          2\n",
       "15  Admission Date:  [**2170-9-19**]              ...          1\n",
       "16  Admission Date:  [**2191-7-13**]       Dischar...          2"
      ]
     },
     "metadata": {},
     "output_type": "display_data"
    },
    {
     "name": "stdout",
     "output_type": "stream",
     "text": [
      "\n",
      "Last 5 in dataframe\n"
     ]
    },
    {
     "data": {
      "text/html": [
       "<div>\n",
       "<style scoped>\n",
       "    .dataframe tbody tr th:only-of-type {\n",
       "        vertical-align: middle;\n",
       "    }\n",
       "\n",
       "    .dataframe tbody tr th {\n",
       "        vertical-align: top;\n",
       "    }\n",
       "\n",
       "    .dataframe thead th {\n",
       "        text-align: right;\n",
       "    }\n",
       "</style>\n",
       "<table border=\"1\" class=\"dataframe\">\n",
       "  <thead>\n",
       "    <tr style=\"text-align: right;\">\n",
       "      <th></th>\n",
       "      <th>TEXT</th>\n",
       "      <th>ICD9_CODE</th>\n",
       "    </tr>\n",
       "  </thead>\n",
       "  <tbody>\n",
       "    <tr>\n",
       "      <th>58293</th>\n",
       "      <td>Admission Date:  [**2194-2-4**]              D...</td>\n",
       "      <td>0</td>\n",
       "    </tr>\n",
       "    <tr>\n",
       "      <th>58294</th>\n",
       "      <td>Admission Date:  [**2109-6-21**]              ...</td>\n",
       "      <td>1</td>\n",
       "    </tr>\n",
       "    <tr>\n",
       "      <th>58299</th>\n",
       "      <td>Newborn Med Attending\\n\\nAsked by Dr [**Last N...</td>\n",
       "      <td>2</td>\n",
       "    </tr>\n",
       "    <tr>\n",
       "      <th>58314</th>\n",
       "      <td>Neonatology NP Triage Note\\nThis is a full ter...</td>\n",
       "      <td>2</td>\n",
       "    </tr>\n",
       "    <tr>\n",
       "      <th>58326</th>\n",
       "      <td>Admission Date:  [**2119-2-18**]              ...</td>\n",
       "      <td>1</td>\n",
       "    </tr>\n",
       "  </tbody>\n",
       "</table>\n",
       "</div>"
      ],
      "text/plain": [
       "                                                    TEXT  ICD9_CODE\n",
       "58293  Admission Date:  [**2194-2-4**]              D...          0\n",
       "58294  Admission Date:  [**2109-6-21**]              ...          1\n",
       "58299  Newborn Med Attending\\n\\nAsked by Dr [**Last N...          2\n",
       "58314  Neonatology NP Triage Note\\nThis is a full ter...          2\n",
       "58326  Admission Date:  [**2119-2-18**]              ...          1"
      ]
     },
     "metadata": {},
     "output_type": "display_data"
    },
    {
     "name": "stdout",
     "output_type": "stream",
     "text": [
      "\n",
      "Null value count by column:\n"
     ]
    },
    {
     "data": {
      "text/plain": [
       "TEXT         0\n",
       "ICD9_CODE    0\n",
       "dtype: int64"
      ]
     },
     "metadata": {},
     "output_type": "display_data"
    }
   ],
   "source": [
    "# Loading the IMDB Dataset\n",
    "ORIG_DF = pd.read_pickle(f'{DATA_DIR}/notes_combined.pkl.gz')\n",
    "\n",
    "# Dropping HADM_ID as it is not needed. Maybe delete from save for easier usage\n",
    "ORIG_DF.drop(['HADM_ID'], axis=1, inplace=True)\n",
    "\n",
    "\n",
    "from sklearn.preprocessing import LabelEncoder\n",
    "le = LabelEncoder()\n",
    "ORIG_DF['ICD9_CODE'] = le.fit_transform(ORIG_DF['ICD9_CODE'])\n",
    "\n",
    "# Changing target column from string to 0,1. Label encoding not yet included in framework\n",
    "#ORIG_DF['sentiment'] = np.where(ORIG_DF['sentiment']=='positive', 1, 0)\n",
    "\n",
    "DataUtils.exploreDataframe(ORIG_DF)"
   ]
  },
  {
   "cell_type": "code",
   "execution_count": 4,
   "id": "0e10abcd-6581-40c1-88c9-9447db7e55e9",
   "metadata": {},
   "outputs": [],
   "source": [
    "# Setting up variables for later usage in DataPackage\n",
    "DATA_COLUMN = 'TEXT'\n",
    "TARGET_COLUMN = 'ICD9_CODE'\n",
    "UNIQUE_COLUMN = None   # Unique index column. If None, one will be created"
   ]
  },
  {
   "cell_type": "markdown",
   "id": "a98c0618-99ff-4c53-b80e-b5e0713dc1c3",
   "metadata": {},
   "source": [
    "# DataPackageParams\n",
    "<p>#TODO: Needs description of what DataPackageParams is</p>"
   ]
  },
  {
   "cell_type": "code",
   "execution_count": 5,
   "id": "530013a0-b12d-4aa8-9ae2-40f727a9dbf0",
   "metadata": {},
   "outputs": [],
   "source": [
    "# DataPackageParams are optional. Can do it manually or store and save the params for re-run\n",
    "from DataPackage import DataPackageParams\n",
    "myDPP = DataPackageParams(\n",
    "                    process_params=False, # True=run all data cleanup/setup on load\n",
    "                    \n",
    "                    # Class Balance\n",
    "                    sample_size = None, # Can be set to an absolute value. None means undersample to smallest\n",
    "                                        \n",
    "                    # Text Cleaning Params\n",
    "                    fix_unicode=True,  # fix various unicode errors\n",
    "                    to_ascii=True,  # transliterate to closest ASCII representation\n",
    "                    lower=True,  # lowercase text\n",
    "                    no_line_breaks=False,  # fully strip line breaks as opposed to only normalizing them\n",
    "                    no_urls=False,  # replace all URLs with a special token\n",
    "                    no_emails=False,  # replace all email addresses with a special token\n",
    "                    no_phone_numbers=False,  # replace all phone numbers with a special token\n",
    "                    no_numbers=False,  # replace all numbers with a special token\n",
    "                    no_digits=False,  # replace all digits with a special token\n",
    "                    no_currency_symbols=False,  # replace all currency symbols with a special token\n",
    "                    no_punct=True,  # remove punctuations\n",
    "                    replace_with_punct=\"\",  # instead of removing punctuations you may replace them\n",
    "                    replace_with_url=\"<URL>\",\n",
    "                    replace_with_email=\"<EMAIL>\",\n",
    "                    replace_with_phone_number=\"<PHONE>\",\n",
    "                    replace_with_number=\"<NUMBER>\",\n",
    "                    replace_with_digit=\"0\",\n",
    "                    replace_with_currency_symbol=\"<CUR>\",\n",
    "                    lang=\"en\",  # set to 'de' for German special handling\n",
    "\n",
    "                    # Remove stopwords\n",
    "                    remove_stopwords=True, # Removes stopwords\n",
    "                    stopword_language='english',\n",
    "        \n",
    "                    # train test split params\n",
    "                    stratifyColumn=None, # If None will be autoset to target_column in DataPackage\n",
    "                    train_size=0.8, # Can be percent or absolute number\n",
    "                    random_state=765,\n",
    "                    shuffle=True,\n",
    "\n",
    "                    # Encoding params\n",
    "                    encoding_type='TFIDF', # Currently only supports TFIDF encoding, TBA: BERT, GLOVE, Word2Vec\n",
    "                    max_features=100 # Currently only used in TFIDF\n",
    "                    )"
   ]
  },
  {
   "cell_type": "markdown",
   "id": "65208e7a-c1cd-4e99-a934-7dcf58b5a2ac",
   "metadata": {},
   "source": [
    "# Data Package\n",
    "<p>#TODO: Needs description of what this file is</p>"
   ]
  },
  {
   "cell_type": "code",
   "execution_count": 6,
   "id": "061d00f5-0fee-4c66-a208-b9ce44340103",
   "metadata": {},
   "outputs": [],
   "source": [
    "# Create the DataPackage\n",
    "from DataPackage import DataPackage\n",
    "myDP = DataPackage(original_data = ORIG_DF,\n",
    "                   data_column = DATA_COLUMN,\n",
    "                   target_column = TARGET_COLUMN,\n",
    "                   unique_column = UNIQUE_COLUMN,\n",
    "                   data_package_params = myDPP)"
   ]
  },
  {
   "cell_type": "code",
   "execution_count": null,
   "id": "c3c04abb-8426-41cd-910b-cae55c951eef",
   "metadata": {},
   "outputs": [],
   "source": []
  },
  {
   "cell_type": "markdown",
   "id": "149b58f9-13bc-4d67-a0ed-82e49645c6a7",
   "metadata": {
    "tags": []
   },
   "source": [
    "# Experiment Manager"
   ]
  },
  {
   "cell_type": "code",
   "execution_count": 7,
   "id": "b930a126-0d48-4c5f-bca2-235af5f2c7a4",
   "metadata": {},
   "outputs": [],
   "source": [
    "from ExperimentManager import ExperimentManager"
   ]
  },
  {
   "cell_type": "code",
   "execution_count": 8,
   "id": "fa6f5c5c-d687-46c5-852e-b50a82efa39b",
   "metadata": {},
   "outputs": [],
   "source": [
    "from xgboost import XGBClassifier\n",
    "untrained_model_1 = XGBClassifier(eval_metric='mlogloss', \n",
    "                                  tree_method='gpu_hist',\n",
    "                                  use_label_encoder=False,\n",
    "                                  max_depth=5,\n",
    "                                  n_estimators=100)"
   ]
  },
  {
   "cell_type": "code",
   "execution_count": 9,
   "id": "c0226298-ceea-43e1-9c0b-a25d28e28564",
   "metadata": {},
   "outputs": [
    {
     "name": "stdout",
     "output_type": "stream",
     "text": [
      "DataPackage summary\n",
      "Attributes:\n",
      "---> uniqueColumn: uuid\n",
      "---> dataColumn: TEXT\n",
      "---> targetColumn: ICD9_CODE\n",
      "Data:\n",
      "---> isOrigDataLoaded: True\n",
      "---> isWorkingDataLoaded: True\n",
      "---> isCleanDataLoaded: False\n",
      "---> isTrainDataLoaded: False\n",
      "---> isTestDataLoaded: False\n",
      "\n",
      "Original Data:\n",
      "---> original data shape: (12655, 3)\n",
      "Cleaned Data:\n",
      "---> clean data shape: \"N/A\"\n",
      "Working Data:\n",
      "---> working data shape: (12655, 3)\n",
      "\n",
      "Process:\n",
      "---> isProcessed: False\n",
      "---> isCleaned: False\n",
      "---> isStopWorded: False\n",
      "---> isBalanced: False\n",
      "---> isEncoded: False\n",
      "---> isTrainTestSplit: False\n",
      "\n",
      "DataExperiment summary:\n",
      "---> projectName: mimiciii_LL\n",
      "---> experimentName: XGB depth:5 est:100\n",
      "---> experimentMethod: supervised\n",
      "---> isDataPackageLoaded: True\n",
      "---> isProcessed: False\n",
      "---> isModelLoaded: False\n",
      "---> isModelPredicted: False\n",
      "---> isLearningCurveCreated: False\n",
      "---> isUntrainedModelLoaded: True\n",
      "XGBClassifier(base_score=None, booster=None, colsample_bylevel=None,\n",
      "              colsample_bynode=None, colsample_bytree=None,\n",
      "              enable_categorical=False, eval_metric='mlogloss', gamma=None,\n",
      "              gpu_id=None, importance_type=None, interaction_constraints=None,\n",
      "              learning_rate=None, max_delta_step=None, max_depth=5,\n",
      "              min_child_weight=None, missing=nan, monotone_constraints=None,\n",
      "              n_estimators=100, n_jobs=None, num_parallel_tree=None,\n",
      "              predictor=None, random_state=None, reg_alpha=None,\n",
      "              reg_lambda=None, scale_pos_weight=None, subsample=None,\n",
      "              tree_method='gpu_hist', use_label_encoder=False,\n",
      "              validate_parameters=None, verbosity=None)\n",
      "\n"
     ]
    }
   ],
   "source": [
    "myEM = ExperimentManager(project_name='mimiciii_LL',\n",
    "                         experiment_name='XGB depth:5 est:100',\n",
    "                         experiment_method='supervised',\n",
    "                         untrained_model=untrained_model_1,\n",
    "                         data_package=myDP)\n",
    "\n",
    "                         "
   ]
  },
  {
   "cell_type": "code",
   "execution_count": 10,
   "id": "f7fef4bf-645d-4ec5-897c-159b6b33b7c6",
   "metadata": {},
   "outputs": [
    {
     "name": "stdout",
     "output_type": "stream",
     "text": [
      "\n",
      "DataExperiment summary:\n",
      "---> projectName: mimiciii_LL\n",
      "---> experimentName: RF depth:10 est:10\n",
      "---> experimentMethod: supervised\n",
      "---> isDataPackageLoaded: True\n",
      "---> isProcessed: False\n",
      "---> isModelLoaded: False\n",
      "---> isModelPredicted: False\n",
      "---> isLearningCurveCreated: False\n",
      "---> isUntrainedModelLoaded: True\n",
      "RandomForestClassifier(max_depth=10, n_estimators=10, n_jobs=-1)\n",
      "\n"
     ]
    }
   ],
   "source": [
    "from sklearn.ensemble import RandomForestClassifier\n",
    "untrained_model_2 = RandomForestClassifier(n_jobs=-1,\n",
    "                                     max_depth=10,\n",
    "                                     n_estimators=10)\n",
    "\n",
    "myEM.add_experiment(experiment_name='RF depth:10 est:10',\n",
    "                    experiment_method='supervised',\n",
    "                    untrained_model=untrained_model_2)"
   ]
  },
  {
   "cell_type": "code",
   "execution_count": 11,
   "id": "5be4c8f1-cdba-406b-a926-7f8be2863185",
   "metadata": {},
   "outputs": [
    {
     "name": "stdout",
     "output_type": "stream",
     "text": [
      "\n",
      "DataExperiment summary:\n",
      "---> projectName: mimiciii_LL\n",
      "---> experimentName: XGB depth:2 est:20\n",
      "---> experimentMethod: supervised\n",
      "---> isDataPackageLoaded: True\n",
      "---> isProcessed: False\n",
      "---> isModelLoaded: False\n",
      "---> isModelPredicted: False\n",
      "---> isLearningCurveCreated: False\n",
      "---> isUntrainedModelLoaded: True\n",
      "XGBClassifier(base_score=None, booster=None, colsample_bylevel=None,\n",
      "              colsample_bynode=None, colsample_bytree=None,\n",
      "              enable_categorical=False, eval_metric='mlogloss', gamma=None,\n",
      "              gpu_id=None, importance_type=None, interaction_constraints=None,\n",
      "              learning_rate=None, max_delta_step=None, max_depth=2,\n",
      "              min_child_weight=None, missing=nan, monotone_constraints=None,\n",
      "              n_estimators=20, n_jobs=None, num_parallel_tree=None,\n",
      "              predictor=None, random_state=None, reg_alpha=None,\n",
      "              reg_lambda=None, scale_pos_weight=None, subsample=None,\n",
      "              tree_method='gpu_hist', use_label_encoder=False,\n",
      "              validate_parameters=None, verbosity=None)\n",
      "\n"
     ]
    }
   ],
   "source": [
    "untrained_model_3 = XGBClassifier(eval_metric='mlogloss', \n",
    "                           tree_method='gpu_hist',\n",
    "                           use_label_encoder=False,\n",
    "                           max_depth=2,\n",
    "                           n_estimators=20)\n",
    "\n",
    "myEM.add_experiment(experiment_name='XGB depth:2 est:20',\n",
    "                    experiment_method='supervised',\n",
    "                    untrained_model=untrained_model_3)"
   ]
  },
  {
   "cell_type": "code",
   "execution_count": 12,
   "id": "939d827f-56ff-4763-a1fe-d74d72d1004c",
   "metadata": {},
   "outputs": [
    {
     "name": "stdout",
     "output_type": "stream",
     "text": [
      "\n",
      "DataExperiment summary:\n",
      "---> projectName: mimiciii_LL\n",
      "---> experimentName: KMeans n=5\n",
      "---> experimentMethod: unsupervised\n",
      "---> isDataPackageLoaded: True\n",
      "---> isProcessed: False\n",
      "---> isModelLoaded: False\n",
      "---> isModelPredicted: False\n",
      "---> isLearningCurveCreated: False\n",
      "---> isUntrainedModelLoaded: True\n",
      "KMeans(n_clusters=5, random_state=765)\n",
      "\n"
     ]
    }
   ],
   "source": [
    "from sklearn.cluster import KMeans\n",
    "untrained_model_4 = KMeans(n_clusters=5, random_state=765)\n",
    "myEM.add_experiment(experiment_name='KMeans n=5',\n",
    "                    experiment_method='unsupervised',\n",
    "                    untrained_model=untrained_model_4)\n"
   ]
  },
  {
   "cell_type": "markdown",
   "id": "a8c5decf-dd21-41ec-a448-a371558c06c0",
   "metadata": {},
   "source": [
    "# ExperimentManager - run_experiment"
   ]
  },
  {
   "cell_type": "code",
   "execution_count": 13,
   "id": "68ad76f4-f8f0-4047-92f1-75a9fcff80ce",
   "metadata": {},
   "outputs": [
    {
     "name": "stdout",
     "output_type": "stream",
     "text": [
      "idx Processed Experiment name\n",
      "  0     False XGB depth:5 est:100\n",
      "  1     False RF depth:10 est:10\n",
      "  2     False XGB depth:2 est:20\n",
      "  3     False KMeans n=5\n"
     ]
    }
   ],
   "source": [
    "myEM.list_experiments()"
   ]
  },
  {
   "cell_type": "code",
   "execution_count": 14,
   "id": "49379289-f7dd-4505-924e-ee0fef562bf3",
   "metadata": {},
   "outputs": [
    {
     "name": "stdout",
     "output_type": "stream",
     "text": [
      "Data package has not been processed. Processing now.\n",
      "---------------------------------------------------------------------------\n",
      "DataPackage summary\n",
      "Attributes:\n",
      "---> uniqueColumn: uuid\n",
      "---> dataColumn: TEXT\n",
      "---> targetColumn: ICD9_CODE\n",
      "Data:\n",
      "---> isOrigDataLoaded: True\n",
      "---> isWorkingDataLoaded: True\n",
      "---> isCleanDataLoaded: False\n",
      "---> isTrainDataLoaded: False\n",
      "---> isTestDataLoaded: False\n",
      "\n",
      "Original Data:\n",
      "---> original data shape: (12655, 3)\n",
      "Cleaned Data:\n",
      "---> clean data shape: \"N/A\"\n",
      "Working Data:\n",
      "---> working data shape: (12655, 3)\n",
      "\n",
      "Process:\n",
      "---> isProcessed: False\n",
      "---> isCleaned: False\n",
      "---> isStopWorded: False\n",
      "---> isBalanced: False\n",
      "---> isEncoded: False\n",
      "---> isTrainTestSplit: False\n",
      "Processing data package with provided parameters\n"
     ]
    },
    {
     "data": {
      "image/png": "[encoded data removed]",
      "text/plain": [
       "<Figure size 576x396 with 1 Axes>"
      ]
     },
     "metadata": {},
     "output_type": "display_data"
    },
    {
     "name": "stdout",
     "output_type": "stream",
     "text": [
      "Undersampling data to match min class: 4 of size: 993\n"
     ]
    },
    {
     "data": {
      "image/png": "[encoded data removed]",
      "text/plain": [
       "<Figure size 576x396 with 1 Axes>"
      ]
     },
     "metadata": {},
     "output_type": "display_data"
    },
    {
     "data": {
      "text/html": [
       "<div>\n",
       "<style scoped>\n",
       "    .dataframe tbody tr th:only-of-type {\n",
       "        vertical-align: middle;\n",
       "    }\n",
       "\n",
       "    .dataframe tbody tr th {\n",
       "        vertical-align: top;\n",
       "    }\n",
       "\n",
       "    .dataframe thead th {\n",
       "        text-align: right;\n",
       "    }\n",
       "</style>\n",
       "<table border=\"1\" class=\"dataframe\">\n",
       "  <thead>\n",
       "    <tr style=\"text-align: right;\">\n",
       "      <th></th>\n",
       "      <th>ICD9_CODE</th>\n",
       "      <th>ttlCol</th>\n",
       "    </tr>\n",
       "  </thead>\n",
       "  <tbody>\n",
       "    <tr>\n",
       "      <th>0</th>\n",
       "      <td>0</td>\n",
       "      <td>993</td>\n",
       "    </tr>\n",
       "    <tr>\n",
       "      <th>1</th>\n",
       "      <td>1</td>\n",
       "      <td>993</td>\n",
       "    </tr>\n",
       "    <tr>\n",
       "      <th>2</th>\n",
       "      <td>2</td>\n",
       "      <td>993</td>\n",
       "    </tr>\n",
       "    <tr>\n",
       "      <th>3</th>\n",
       "      <td>3</td>\n",
       "      <td>993</td>\n",
       "    </tr>\n",
       "    <tr>\n",
       "      <th>4</th>\n",
       "      <td>4</td>\n",
       "      <td>993</td>\n",
       "    </tr>\n",
       "  </tbody>\n",
       "</table>\n",
       "</div>"
      ],
      "text/plain": [
       "   ICD9_CODE  ttlCol\n",
       "0          0     993\n",
       "1          1     993\n",
       "2          2     993\n",
       "3          3     993\n",
       "4          4     993"
      ]
     },
     "metadata": {},
     "output_type": "display_data"
    },
    {
     "name": "stdout",
     "output_type": "stream",
     "text": [
      "Cleaning text column...\n"
     ]
    },
    {
     "name": "stderr",
     "output_type": "stream",
     "text": [
      "100%|███████████████████████████████████████| 4965/4965 [02:01<00:00, 40.83it/s]\n",
      "[nltk_data] Downloading package stopwords to /home/magni/nltk_data...\n",
      "[nltk_data]   Package stopwords is already up-to-date!\n"
     ]
    },
    {
     "name": "stdout",
     "output_type": "stream",
     "text": [
      "Removing stopwords...\n"
     ]
    },
    {
     "name": "stderr",
     "output_type": "stream",
     "text": [
      "100%|██████████████████████████████████████| 4965/4965 [00:36<00:00, 135.89it/s]\n"
     ]
    },
    {
     "name": "stdout",
     "output_type": "stream",
     "text": [
      "\n",
      "Encoding to TF-IDF with max_features=100\n",
      "Encoding completed. Feature list:\n",
      "['20', '24', 'abd', 'abdomen', 'active', 'air', 'alert', 'assessment', 'attending', 'baby', 'benign', 'blood', 'bowel', 'bp', 'bs', 'care', 'cares', 'chest', 'clear', 'clip', 'cont', 'continue', 'cpap', 'current', 'day', 'discharge', 'exam', 'family', 'far', 'feeding', 'feeds', 'fen', 'fio2', 'first', 'follow', 'given', 'good', 'history', 'hospital', 'hours', 'hr', 'increased', 'infant', 'iv', 'known', 'last', 'lastname', 'left', 'mg', 'mgdl', 'mild', 'ml', 'mom', 'monitor', 'murmur', 'name', 'needs', 'neonatology', 'ni', 'normal', 'note', 'noted', 'npn', 'o2', 'pain', 'patient', 'plan', 'pm', 'po', 'present', 'pt', 'ra', 'reason', 'remains', 'resp', 'respiratory', 'retractions', 'right', 'rr', 'sats', 'sepsis', 'shift', 'soft', 'sounds', 'spells', 'spits', 'stable', 'status', 'stool', 'support', 'temp', 'tf', 'time', 'today', 'tolerating', 'tube', 'voiding', 'weight', 'well', 'wt']\n",
      "\n",
      "Completed train/test split (train_size = 0.8):\n",
      "---> Original data size: 4965\n",
      "---> Training data size: 3972\n",
      "---> Testing data size: 993\n",
      "---> Stratified on column: ICD9_CODE\n",
      "\n",
      "Processing data package has been completed\n",
      "\n",
      "DataPackage summary\n",
      "Attributes:\n",
      "---> uniqueColumn: uuid\n",
      "---> dataColumn: TEXT\n",
      "---> targetColumn: ICD9_CODE\n",
      "Data:\n",
      "---> isOrigDataLoaded: True\n",
      "---> isWorkingDataLoaded: True\n",
      "---> isCleanDataLoaded: True\n",
      "---> isTrainDataLoaded: True\n",
      "---> isTestDataLoaded: True\n",
      "\n",
      "Original Data:\n",
      "---> original data shape: (12655, 3)\n",
      "Cleaned Data:\n",
      "---> ---> clean data shape: (4965, 3)\n",
      "Working Data:\n",
      "---> working data shape: (4965, 102)\n",
      "\n",
      "Process:\n",
      "---> isProcessed: True\n",
      "---> isCleaned: True\n",
      "---> isStopWorded: True\n",
      "---> isBalanced: True\n",
      "---> isEncoded: True\n",
      "---> isTrainTestSplit: True\n",
      "===========================================================================\n",
      "\n",
      "\n",
      "---------------------------------------------------------------------------\n",
      "Processing experiment: [0] XGB depth:5 est:100\n",
      "\n",
      "Training model for XGB depth:5 est:100. Completed. Wall time[h:m:s]: 00:00:01\n",
      "Predicting model for XGB depth:5 est:100. Completed. Wall time[h:m:s]: 00:00:00\n",
      "\n",
      "Model Stats:\n"
     ]
    },
    {
     "data": {
      "image/png": "[encoded data removed]",
      "text/plain": [
       "<Figure size 527.25x432 with 1 Axes>"
      ]
     },
     "metadata": {},
     "output_type": "display_data"
    },
    {
     "name": "stdout",
     "output_type": "stream",
     "text": [
      "            Experiment  Accuracy  Precision  Recall  F1 Score  Cohen kappa\n",
      "0  XGB depth:5 est:100      0.74       0.73    0.74      0.73         0.67\n",
      "\n",
      "\n",
      "Completed. Wall time[h:m:s]: 00:00:02\n",
      "===========================================================================\n",
      "\n",
      "\n",
      "---------------------------------------------------------------------------\n",
      "Processing experiment: [1] RF depth:10 est:10\n",
      "\n",
      "Training model for RF depth:10 est:10. Completed. Wall time[h:m:s]: 00:00:00\n",
      "Predicting model for RF depth:10 est:10. Completed. Wall time[h:m:s]: 00:00:00\n",
      "\n",
      "Model Stats:\n"
     ]
    },
    {
     "data": {
      "image/png": "[encoded data removed]",
      "text/plain": [
       "<Figure size 527.25x432 with 1 Axes>"
      ]
     },
     "metadata": {},
     "output_type": "display_data"
    },
    {
     "name": "stdout",
     "output_type": "stream",
     "text": [
      "           Experiment  Accuracy  Precision  Recall  F1 Score  Cohen kappa\n",
      "0  RF depth:10 est:10      0.72       0.71    0.72      0.71         0.65\n",
      "\n",
      "\n",
      "Completed. Wall time[h:m:s]: 00:00:00\n",
      "===========================================================================\n",
      "\n",
      "\n",
      "---------------------------------------------------------------------------\n",
      "Processing experiment: [2] XGB depth:2 est:20\n",
      "\n",
      "Training model for XGB depth:2 est:20. Completed. Wall time[h:m:s]: 00:00:00\n",
      "Predicting model for XGB depth:2 est:20. Completed. Wall time[h:m:s]: 00:00:00\n",
      "\n",
      "Model Stats:\n"
     ]
    },
    {
     "data": {
      "image/png": "[encoded data removed]",
      "text/plain": [
       "<Figure size 527.25x432 with 1 Axes>"
      ]
     },
     "metadata": {},
     "output_type": "display_data"
    },
    {
     "name": "stdout",
     "output_type": "stream",
     "text": [
      "           Experiment  Accuracy  Precision  Recall  F1 Score  Cohen kappa\n",
      "0  XGB depth:2 est:20      0.75       0.74    0.75      0.74         0.68\n",
      "\n",
      "\n",
      "Completed. Wall time[h:m:s]: 00:00:00\n",
      "===========================================================================\n",
      "\n",
      "\n",
      "---------------------------------------------------------------------------\n",
      "Processing experiment: [3] KMeans n=5\n",
      "\n",
      "Training model for KMeans n=5. Completed. Wall time[h:m:s]: 00:00:01\n",
      "Predicting model for KMeans n=5. Completed. Wall time[h:m:s]: 00:00:00\n",
      "\n",
      "Model Stats:\n"
     ]
    },
    {
     "data": {
      "image/png": "[encoded data removed]",
      "text/plain": [
       "<Figure size 527.25x432 with 1 Axes>"
      ]
     },
     "metadata": {},
     "output_type": "display_data"
    },
    {
     "name": "stdout",
     "output_type": "stream",
     "text": [
      "   Experiment  Accuracy  Precision  Recall  F1 Score  Cohen kappa\n",
      "0  KMeans n=5       0.2       0.18     0.2      0.18         -0.0\n",
      "\n",
      "\n",
      "Completed. Wall time[h:m:s]: 00:00:01\n",
      "===========================================================================\n",
      "\n",
      "\n",
      "Processing complete. Displaying model comparison\n"
     ]
    },
    {
     "data": {
      "image/png": "[encoded data removed]",
      "text/plain": [
       "<Figure size 527.25x432 with 1 Axes>"
      ]
     },
     "metadata": {},
     "output_type": "display_data"
    },
    {
     "name": "stdout",
     "output_type": "stream",
     "text": [
      "            Experiment  Accuracy  Precision  Recall  F1 Score  Cohen kappa\n",
      "0  XGB depth:5 est:100      0.74       0.73    0.74      0.73         0.67\n",
      "1   RF depth:10 est:10      0.72       0.71    0.72      0.71         0.65\n",
      "2   XGB depth:2 est:20      0.75       0.74    0.75      0.74         0.68\n",
      "3           KMeans n=5      0.20       0.18    0.20      0.18        -0.00\n",
      "\n",
      "Processing experiments complete. Wall time[h:m:s]: 00:02:51\n"
     ]
    }
   ],
   "source": [
    "myEM.run_experiment(index=None) # index=None means process all experiements, \n",
    "                                # otherwise provide index of single experiment to run"
   ]
  },
  {
   "cell_type": "code",
   "execution_count": null,
   "id": "9769d4fc-6a5a-4452-8c69-626d1593f32c",
   "metadata": {},
   "outputs": [],
   "source": []
  },
  {
   "cell_type": "code",
   "execution_count": 15,
   "id": "7c9d6988-bcde-4ed7-9c49-c4398213d7b3",
   "metadata": {},
   "outputs": [
    {
     "ename": "IndexError",
     "evalue": "list index out of range",
     "output_type": "error",
     "traceback": [
      "\u001b[0;31m---------------------------------------------------------------------------\u001b[0m",
      "\u001b[0;31mIndexError\u001b[0m                                Traceback (most recent call last)",
      "\u001b[0;32m/tmp/ipykernel_928236/2108613510.py\u001b[0m in \u001b[0;36m<module>\u001b[0;34m\u001b[0m\n\u001b[0;32m----> 1\u001b[0;31m \u001b[0mmyEM\u001b[0m\u001b[0;34m.\u001b[0m\u001b[0mexperiments\u001b[0m\u001b[0;34m[\u001b[0m\u001b[0;36m4\u001b[0m\u001b[0;34m]\u001b[0m\u001b[0;34m.\u001b[0m\u001b[0mshow_cluster_comparison\u001b[0m\u001b[0;34m(\u001b[0m\u001b[0;34m)\u001b[0m\u001b[0;34m\u001b[0m\u001b[0;34m\u001b[0m\u001b[0m\n\u001b[0m",
      "\u001b[0;31mIndexError\u001b[0m: list index out of range"
     ]
    }
   ],
   "source": [
    "myEM.experiments[4].show_cluster_comparison()"
   ]
  },
  {
   "cell_type": "code",
   "execution_count": null,
   "id": "2391a8c7-826c-41f9-a76a-e648237bb400",
   "metadata": {},
   "outputs": [],
   "source": []
  },
  {
   "cell_type": "code",
   "execution_count": null,
   "id": "de8e6ba7-c41e-4209-8ab9-48624d939728",
   "metadata": {},
   "outputs": [],
   "source": []
  },
  {
   "cell_type": "markdown",
   "id": "4323b8b3-e747-4547-a589-bd0ef874584f",
   "metadata": {},
   "source": [
    "# Scratchpad"
   ]
  },
  {
   "cell_type": "code",
   "execution_count": null,
   "id": "875c8728-2289-4a7e-9e31-36da81225d49",
   "metadata": {},
   "outputs": [],
   "source": []
  },
  {
   "cell_type": "code",
   "execution_count": null,
   "id": "cf0ec0ea-a055-4779-b038-e2aa137bcb2a",
   "metadata": {},
   "outputs": [],
   "source": []
  },
  {
   "cell_type": "code",
   "execution_count": null,
   "id": "4707b335-1270-4767-94f0-ab71e10c3095",
   "metadata": {},
   "outputs": [],
   "source": []
  },
  {
   "cell_type": "code",
   "execution_count": null,
   "id": "84bf2754-0047-46cd-98fc-cb5c336d44ba",
   "metadata": {},
   "outputs": [],
   "source": []
  },
  {
   "cell_type": "code",
   "execution_count": null,
   "id": "c62179f9-66d0-487f-b530-89db384efdaa",
   "metadata": {},
   "outputs": [],
   "source": []
  },
  {
   "cell_type": "code",
   "execution_count": null,
   "id": "0804575b-6bd3-475f-9f71-ab95a90d1855",
   "metadata": {},
   "outputs": [],
   "source": []
  },
  {
   "cell_type": "code",
   "execution_count": null,
   "id": "7b810b60-9547-4c8e-9bf0-d8cf1ec8ebc2",
   "metadata": {},
   "outputs": [],
   "source": [
    "\n"
   ]
  },
  {
   "cell_type": "code",
   "execution_count": null,
   "id": "9de63b5c-f424-4830-b3af-49c9dc428419",
   "metadata": {},
   "outputs": [],
   "source": []
  },
  {
   "cell_type": "code",
   "execution_count": null,
   "id": "b6c087df-d7eb-40a3-89c4-e45d6ef6d01c",
   "metadata": {},
   "outputs": [],
   "source": []
  },
  {
   "cell_type": "code",
   "execution_count": null,
   "id": "a613509f-25d3-4900-ba11-07b47f22093c",
   "metadata": {},
   "outputs": [],
   "source": []
  },
  {
   "cell_type": "code",
   "execution_count": null,
   "id": "e98c674b-e1e0-41a1-84d1-eb060ded8105",
   "metadata": {},
   "outputs": [],
   "source": []
  },
  {
   "cell_type": "code",
   "execution_count": null,
   "id": "d13a1ca5-267b-437d-8928-71b98097bde9",
   "metadata": {},
   "outputs": [],
   "source": []
  },
  {
   "cell_type": "code",
   "execution_count": null,
   "id": "a5cb08d4-fea3-4a9d-82f4-2da72df9a8bb",
   "metadata": {},
   "outputs": [],
   "source": []
  },
  {
   "cell_type": "code",
   "execution_count": null,
   "id": "a6fef4b5-bbf0-4945-bede-bce91c4dafff",
   "metadata": {},
   "outputs": [],
   "source": []
  }
 ],
 "metadata": {
  "kernelspec": {
   "display_name": "ML1010_env2",
   "language": "python",
   "name": "ml1010_env2"
  },
  "language_info": {
   "codemirror_mode": {
    "name": "ipython",
    "version": 3
   },
   "file_extension": ".py",
   "mimetype": "text/x-python",
   "name": "python",
   "nbconvert_exporter": "python",
   "pygments_lexer": "ipython3",
   "version": "3.7.13"
  }
 },
 "nbformat": 4,
 "nbformat_minor": 5
}
